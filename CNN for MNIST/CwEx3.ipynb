{
  "nbformat": 4,
  "nbformat_minor": 0,
  "metadata": {
    "colab": {
      "name": "CWEx3.ipynb",
      "provenance": [],
      "collapsed_sections": [],
      "authorship_tag": "ABX9TyMYJuEnG+VL2fM5R9/GgTBL",
      "include_colab_link": true
    },
    "kernelspec": {
      "name": "python3",
      "display_name": "Python 3"
    },
    "widgets": {
      "application/vnd.jupyter.widget-state+json": {
        "d64432aa19d94579ae3ef8ecc83c6c2a": {
          "model_module": "@jupyter-widgets/controls",
          "model_name": "HBoxModel",
          "state": {
            "_view_name": "HBoxView",
            "_dom_classes": [],
            "_model_name": "HBoxModel",
            "_view_module": "@jupyter-widgets/controls",
            "_model_module_version": "1.5.0",
            "_view_count": null,
            "_view_module_version": "1.5.0",
            "box_style": "",
            "layout": "IPY_MODEL_646bed50fb7c407cad7f933b14589458",
            "_model_module": "@jupyter-widgets/controls",
            "children": [
              "IPY_MODEL_16269714d7444aaab6ebafc6b647894c",
              "IPY_MODEL_dd4ff662d6f247e9b86fba15497d08d2"
            ]
          }
        },
        "646bed50fb7c407cad7f933b14589458": {
          "model_module": "@jupyter-widgets/base",
          "model_name": "LayoutModel",
          "state": {
            "_view_name": "LayoutView",
            "grid_template_rows": null,
            "right": null,
            "justify_content": null,
            "_view_module": "@jupyter-widgets/base",
            "overflow": null,
            "_model_module_version": "1.2.0",
            "_view_count": null,
            "flex_flow": null,
            "width": null,
            "min_width": null,
            "border": null,
            "align_items": null,
            "bottom": null,
            "_model_module": "@jupyter-widgets/base",
            "top": null,
            "grid_column": null,
            "overflow_y": null,
            "overflow_x": null,
            "grid_auto_flow": null,
            "grid_area": null,
            "grid_template_columns": null,
            "flex": null,
            "_model_name": "LayoutModel",
            "justify_items": null,
            "grid_row": null,
            "max_height": null,
            "align_content": null,
            "visibility": null,
            "align_self": null,
            "height": null,
            "min_height": null,
            "padding": null,
            "grid_auto_rows": null,
            "grid_gap": null,
            "max_width": null,
            "order": null,
            "_view_module_version": "1.2.0",
            "grid_template_areas": null,
            "object_position": null,
            "object_fit": null,
            "grid_auto_columns": null,
            "margin": null,
            "display": null,
            "left": null
          }
        },
        "16269714d7444aaab6ebafc6b647894c": {
          "model_module": "@jupyter-widgets/controls",
          "model_name": "FloatProgressModel",
          "state": {
            "_view_name": "ProgressView",
            "style": "IPY_MODEL_f135a415439249a1b60504a12ee2f102",
            "_dom_classes": [],
            "description": "",
            "_model_name": "FloatProgressModel",
            "bar_style": "info",
            "max": 1,
            "_view_module": "@jupyter-widgets/controls",
            "_model_module_version": "1.5.0",
            "value": 1,
            "_view_count": null,
            "_view_module_version": "1.5.0",
            "orientation": "horizontal",
            "min": 0,
            "description_tooltip": null,
            "_model_module": "@jupyter-widgets/controls",
            "layout": "IPY_MODEL_40ec360538624e148b8a3571c11958e5"
          }
        },
        "dd4ff662d6f247e9b86fba15497d08d2": {
          "model_module": "@jupyter-widgets/controls",
          "model_name": "HTMLModel",
          "state": {
            "_view_name": "HTMLView",
            "style": "IPY_MODEL_d374abec81f84761ae18667f7ffcbbbb",
            "_dom_classes": [],
            "description": "",
            "_model_name": "HTMLModel",
            "placeholder": "​",
            "_view_module": "@jupyter-widgets/controls",
            "_model_module_version": "1.5.0",
            "value": " 9920512/? [00:20&lt;00:00, 8552101.72it/s]",
            "_view_count": null,
            "_view_module_version": "1.5.0",
            "description_tooltip": null,
            "_model_module": "@jupyter-widgets/controls",
            "layout": "IPY_MODEL_02d97e6eb9e44ef1bf092bb63cc9231d"
          }
        },
        "f135a415439249a1b60504a12ee2f102": {
          "model_module": "@jupyter-widgets/controls",
          "model_name": "ProgressStyleModel",
          "state": {
            "_view_name": "StyleView",
            "_model_name": "ProgressStyleModel",
            "description_width": "initial",
            "_view_module": "@jupyter-widgets/base",
            "_model_module_version": "1.5.0",
            "_view_count": null,
            "_view_module_version": "1.2.0",
            "bar_color": null,
            "_model_module": "@jupyter-widgets/controls"
          }
        },
        "40ec360538624e148b8a3571c11958e5": {
          "model_module": "@jupyter-widgets/base",
          "model_name": "LayoutModel",
          "state": {
            "_view_name": "LayoutView",
            "grid_template_rows": null,
            "right": null,
            "justify_content": null,
            "_view_module": "@jupyter-widgets/base",
            "overflow": null,
            "_model_module_version": "1.2.0",
            "_view_count": null,
            "flex_flow": null,
            "width": null,
            "min_width": null,
            "border": null,
            "align_items": null,
            "bottom": null,
            "_model_module": "@jupyter-widgets/base",
            "top": null,
            "grid_column": null,
            "overflow_y": null,
            "overflow_x": null,
            "grid_auto_flow": null,
            "grid_area": null,
            "grid_template_columns": null,
            "flex": null,
            "_model_name": "LayoutModel",
            "justify_items": null,
            "grid_row": null,
            "max_height": null,
            "align_content": null,
            "visibility": null,
            "align_self": null,
            "height": null,
            "min_height": null,
            "padding": null,
            "grid_auto_rows": null,
            "grid_gap": null,
            "max_width": null,
            "order": null,
            "_view_module_version": "1.2.0",
            "grid_template_areas": null,
            "object_position": null,
            "object_fit": null,
            "grid_auto_columns": null,
            "margin": null,
            "display": null,
            "left": null
          }
        },
        "d374abec81f84761ae18667f7ffcbbbb": {
          "model_module": "@jupyter-widgets/controls",
          "model_name": "DescriptionStyleModel",
          "state": {
            "_view_name": "StyleView",
            "_model_name": "DescriptionStyleModel",
            "description_width": "",
            "_view_module": "@jupyter-widgets/base",
            "_model_module_version": "1.5.0",
            "_view_count": null,
            "_view_module_version": "1.2.0",
            "_model_module": "@jupyter-widgets/controls"
          }
        },
        "02d97e6eb9e44ef1bf092bb63cc9231d": {
          "model_module": "@jupyter-widgets/base",
          "model_name": "LayoutModel",
          "state": {
            "_view_name": "LayoutView",
            "grid_template_rows": null,
            "right": null,
            "justify_content": null,
            "_view_module": "@jupyter-widgets/base",
            "overflow": null,
            "_model_module_version": "1.2.0",
            "_view_count": null,
            "flex_flow": null,
            "width": null,
            "min_width": null,
            "border": null,
            "align_items": null,
            "bottom": null,
            "_model_module": "@jupyter-widgets/base",
            "top": null,
            "grid_column": null,
            "overflow_y": null,
            "overflow_x": null,
            "grid_auto_flow": null,
            "grid_area": null,
            "grid_template_columns": null,
            "flex": null,
            "_model_name": "LayoutModel",
            "justify_items": null,
            "grid_row": null,
            "max_height": null,
            "align_content": null,
            "visibility": null,
            "align_self": null,
            "height": null,
            "min_height": null,
            "padding": null,
            "grid_auto_rows": null,
            "grid_gap": null,
            "max_width": null,
            "order": null,
            "_view_module_version": "1.2.0",
            "grid_template_areas": null,
            "object_position": null,
            "object_fit": null,
            "grid_auto_columns": null,
            "margin": null,
            "display": null,
            "left": null
          }
        },
        "b3c09e455c3642e998d7471180496ce1": {
          "model_module": "@jupyter-widgets/controls",
          "model_name": "HBoxModel",
          "state": {
            "_view_name": "HBoxView",
            "_dom_classes": [],
            "_model_name": "HBoxModel",
            "_view_module": "@jupyter-widgets/controls",
            "_model_module_version": "1.5.0",
            "_view_count": null,
            "_view_module_version": "1.5.0",
            "box_style": "",
            "layout": "IPY_MODEL_3a8892d2a995425c8a8fab3d6ba415a4",
            "_model_module": "@jupyter-widgets/controls",
            "children": [
              "IPY_MODEL_f93c705eee2d43e89184a61c692ff11f",
              "IPY_MODEL_56f45bd8ce8146e197276e98ef1f3de6"
            ]
          }
        },
        "3a8892d2a995425c8a8fab3d6ba415a4": {
          "model_module": "@jupyter-widgets/base",
          "model_name": "LayoutModel",
          "state": {
            "_view_name": "LayoutView",
            "grid_template_rows": null,
            "right": null,
            "justify_content": null,
            "_view_module": "@jupyter-widgets/base",
            "overflow": null,
            "_model_module_version": "1.2.0",
            "_view_count": null,
            "flex_flow": null,
            "width": null,
            "min_width": null,
            "border": null,
            "align_items": null,
            "bottom": null,
            "_model_module": "@jupyter-widgets/base",
            "top": null,
            "grid_column": null,
            "overflow_y": null,
            "overflow_x": null,
            "grid_auto_flow": null,
            "grid_area": null,
            "grid_template_columns": null,
            "flex": null,
            "_model_name": "LayoutModel",
            "justify_items": null,
            "grid_row": null,
            "max_height": null,
            "align_content": null,
            "visibility": null,
            "align_self": null,
            "height": null,
            "min_height": null,
            "padding": null,
            "grid_auto_rows": null,
            "grid_gap": null,
            "max_width": null,
            "order": null,
            "_view_module_version": "1.2.0",
            "grid_template_areas": null,
            "object_position": null,
            "object_fit": null,
            "grid_auto_columns": null,
            "margin": null,
            "display": null,
            "left": null
          }
        },
        "f93c705eee2d43e89184a61c692ff11f": {
          "model_module": "@jupyter-widgets/controls",
          "model_name": "FloatProgressModel",
          "state": {
            "_view_name": "ProgressView",
            "style": "IPY_MODEL_01835e12b0444bbabd0d09fcdc4d2450",
            "_dom_classes": [],
            "description": "",
            "_model_name": "FloatProgressModel",
            "bar_style": "success",
            "max": 1,
            "_view_module": "@jupyter-widgets/controls",
            "_model_module_version": "1.5.0",
            "value": 1,
            "_view_count": null,
            "_view_module_version": "1.5.0",
            "orientation": "horizontal",
            "min": 0,
            "description_tooltip": null,
            "_model_module": "@jupyter-widgets/controls",
            "layout": "IPY_MODEL_03d5a58c672949f4891848e31618611a"
          }
        },
        "56f45bd8ce8146e197276e98ef1f3de6": {
          "model_module": "@jupyter-widgets/controls",
          "model_name": "HTMLModel",
          "state": {
            "_view_name": "HTMLView",
            "style": "IPY_MODEL_5a31352afe2444f7a78107f1b461cd8d",
            "_dom_classes": [],
            "description": "",
            "_model_name": "HTMLModel",
            "placeholder": "​",
            "_view_module": "@jupyter-widgets/controls",
            "_model_module_version": "1.5.0",
            "value": " 32768/? [00:00&lt;00:00, 75520.02it/s]",
            "_view_count": null,
            "_view_module_version": "1.5.0",
            "description_tooltip": null,
            "_model_module": "@jupyter-widgets/controls",
            "layout": "IPY_MODEL_0b35e16b8fd740b385b6f55683bd5346"
          }
        },
        "01835e12b0444bbabd0d09fcdc4d2450": {
          "model_module": "@jupyter-widgets/controls",
          "model_name": "ProgressStyleModel",
          "state": {
            "_view_name": "StyleView",
            "_model_name": "ProgressStyleModel",
            "description_width": "initial",
            "_view_module": "@jupyter-widgets/base",
            "_model_module_version": "1.5.0",
            "_view_count": null,
            "_view_module_version": "1.2.0",
            "bar_color": null,
            "_model_module": "@jupyter-widgets/controls"
          }
        },
        "03d5a58c672949f4891848e31618611a": {
          "model_module": "@jupyter-widgets/base",
          "model_name": "LayoutModel",
          "state": {
            "_view_name": "LayoutView",
            "grid_template_rows": null,
            "right": null,
            "justify_content": null,
            "_view_module": "@jupyter-widgets/base",
            "overflow": null,
            "_model_module_version": "1.2.0",
            "_view_count": null,
            "flex_flow": null,
            "width": null,
            "min_width": null,
            "border": null,
            "align_items": null,
            "bottom": null,
            "_model_module": "@jupyter-widgets/base",
            "top": null,
            "grid_column": null,
            "overflow_y": null,
            "overflow_x": null,
            "grid_auto_flow": null,
            "grid_area": null,
            "grid_template_columns": null,
            "flex": null,
            "_model_name": "LayoutModel",
            "justify_items": null,
            "grid_row": null,
            "max_height": null,
            "align_content": null,
            "visibility": null,
            "align_self": null,
            "height": null,
            "min_height": null,
            "padding": null,
            "grid_auto_rows": null,
            "grid_gap": null,
            "max_width": null,
            "order": null,
            "_view_module_version": "1.2.0",
            "grid_template_areas": null,
            "object_position": null,
            "object_fit": null,
            "grid_auto_columns": null,
            "margin": null,
            "display": null,
            "left": null
          }
        },
        "5a31352afe2444f7a78107f1b461cd8d": {
          "model_module": "@jupyter-widgets/controls",
          "model_name": "DescriptionStyleModel",
          "state": {
            "_view_name": "StyleView",
            "_model_name": "DescriptionStyleModel",
            "description_width": "",
            "_view_module": "@jupyter-widgets/base",
            "_model_module_version": "1.5.0",
            "_view_count": null,
            "_view_module_version": "1.2.0",
            "_model_module": "@jupyter-widgets/controls"
          }
        },
        "0b35e16b8fd740b385b6f55683bd5346": {
          "model_module": "@jupyter-widgets/base",
          "model_name": "LayoutModel",
          "state": {
            "_view_name": "LayoutView",
            "grid_template_rows": null,
            "right": null,
            "justify_content": null,
            "_view_module": "@jupyter-widgets/base",
            "overflow": null,
            "_model_module_version": "1.2.0",
            "_view_count": null,
            "flex_flow": null,
            "width": null,
            "min_width": null,
            "border": null,
            "align_items": null,
            "bottom": null,
            "_model_module": "@jupyter-widgets/base",
            "top": null,
            "grid_column": null,
            "overflow_y": null,
            "overflow_x": null,
            "grid_auto_flow": null,
            "grid_area": null,
            "grid_template_columns": null,
            "flex": null,
            "_model_name": "LayoutModel",
            "justify_items": null,
            "grid_row": null,
            "max_height": null,
            "align_content": null,
            "visibility": null,
            "align_self": null,
            "height": null,
            "min_height": null,
            "padding": null,
            "grid_auto_rows": null,
            "grid_gap": null,
            "max_width": null,
            "order": null,
            "_view_module_version": "1.2.0",
            "grid_template_areas": null,
            "object_position": null,
            "object_fit": null,
            "grid_auto_columns": null,
            "margin": null,
            "display": null,
            "left": null
          }
        },
        "469611f15f2442548bd41fd2574f8da2": {
          "model_module": "@jupyter-widgets/controls",
          "model_name": "HBoxModel",
          "state": {
            "_view_name": "HBoxView",
            "_dom_classes": [],
            "_model_name": "HBoxModel",
            "_view_module": "@jupyter-widgets/controls",
            "_model_module_version": "1.5.0",
            "_view_count": null,
            "_view_module_version": "1.5.0",
            "box_style": "",
            "layout": "IPY_MODEL_8f8d8159e7ae427ea6595135bfff830c",
            "_model_module": "@jupyter-widgets/controls",
            "children": [
              "IPY_MODEL_dacb86a3951c407dba78840653ef1f96",
              "IPY_MODEL_bcc6c691949d47b8af4f0cfac2259f57"
            ]
          }
        },
        "8f8d8159e7ae427ea6595135bfff830c": {
          "model_module": "@jupyter-widgets/base",
          "model_name": "LayoutModel",
          "state": {
            "_view_name": "LayoutView",
            "grid_template_rows": null,
            "right": null,
            "justify_content": null,
            "_view_module": "@jupyter-widgets/base",
            "overflow": null,
            "_model_module_version": "1.2.0",
            "_view_count": null,
            "flex_flow": null,
            "width": null,
            "min_width": null,
            "border": null,
            "align_items": null,
            "bottom": null,
            "_model_module": "@jupyter-widgets/base",
            "top": null,
            "grid_column": null,
            "overflow_y": null,
            "overflow_x": null,
            "grid_auto_flow": null,
            "grid_area": null,
            "grid_template_columns": null,
            "flex": null,
            "_model_name": "LayoutModel",
            "justify_items": null,
            "grid_row": null,
            "max_height": null,
            "align_content": null,
            "visibility": null,
            "align_self": null,
            "height": null,
            "min_height": null,
            "padding": null,
            "grid_auto_rows": null,
            "grid_gap": null,
            "max_width": null,
            "order": null,
            "_view_module_version": "1.2.0",
            "grid_template_areas": null,
            "object_position": null,
            "object_fit": null,
            "grid_auto_columns": null,
            "margin": null,
            "display": null,
            "left": null
          }
        },
        "dacb86a3951c407dba78840653ef1f96": {
          "model_module": "@jupyter-widgets/controls",
          "model_name": "FloatProgressModel",
          "state": {
            "_view_name": "ProgressView",
            "style": "IPY_MODEL_5788191131564b8fbd9f19dcf2a74469",
            "_dom_classes": [],
            "description": "",
            "_model_name": "FloatProgressModel",
            "bar_style": "success",
            "max": 1,
            "_view_module": "@jupyter-widgets/controls",
            "_model_module_version": "1.5.0",
            "value": 1,
            "_view_count": null,
            "_view_module_version": "1.5.0",
            "orientation": "horizontal",
            "min": 0,
            "description_tooltip": null,
            "_model_module": "@jupyter-widgets/controls",
            "layout": "IPY_MODEL_da8a888f48dd40029959d1c1d9521c02"
          }
        },
        "bcc6c691949d47b8af4f0cfac2259f57": {
          "model_module": "@jupyter-widgets/controls",
          "model_name": "HTMLModel",
          "state": {
            "_view_name": "HTMLView",
            "style": "IPY_MODEL_6c5e38cb6eef4cee9f7d40f6dc9b390d",
            "_dom_classes": [],
            "description": "",
            "_model_name": "HTMLModel",
            "placeholder": "​",
            "_view_module": "@jupyter-widgets/controls",
            "_model_module_version": "1.5.0",
            "value": " 1654784/? [00:00&lt;00:00, 5363369.81it/s]",
            "_view_count": null,
            "_view_module_version": "1.5.0",
            "description_tooltip": null,
            "_model_module": "@jupyter-widgets/controls",
            "layout": "IPY_MODEL_a243f085630346f18603ed919270a797"
          }
        },
        "5788191131564b8fbd9f19dcf2a74469": {
          "model_module": "@jupyter-widgets/controls",
          "model_name": "ProgressStyleModel",
          "state": {
            "_view_name": "StyleView",
            "_model_name": "ProgressStyleModel",
            "description_width": "initial",
            "_view_module": "@jupyter-widgets/base",
            "_model_module_version": "1.5.0",
            "_view_count": null,
            "_view_module_version": "1.2.0",
            "bar_color": null,
            "_model_module": "@jupyter-widgets/controls"
          }
        },
        "da8a888f48dd40029959d1c1d9521c02": {
          "model_module": "@jupyter-widgets/base",
          "model_name": "LayoutModel",
          "state": {
            "_view_name": "LayoutView",
            "grid_template_rows": null,
            "right": null,
            "justify_content": null,
            "_view_module": "@jupyter-widgets/base",
            "overflow": null,
            "_model_module_version": "1.2.0",
            "_view_count": null,
            "flex_flow": null,
            "width": null,
            "min_width": null,
            "border": null,
            "align_items": null,
            "bottom": null,
            "_model_module": "@jupyter-widgets/base",
            "top": null,
            "grid_column": null,
            "overflow_y": null,
            "overflow_x": null,
            "grid_auto_flow": null,
            "grid_area": null,
            "grid_template_columns": null,
            "flex": null,
            "_model_name": "LayoutModel",
            "justify_items": null,
            "grid_row": null,
            "max_height": null,
            "align_content": null,
            "visibility": null,
            "align_self": null,
            "height": null,
            "min_height": null,
            "padding": null,
            "grid_auto_rows": null,
            "grid_gap": null,
            "max_width": null,
            "order": null,
            "_view_module_version": "1.2.0",
            "grid_template_areas": null,
            "object_position": null,
            "object_fit": null,
            "grid_auto_columns": null,
            "margin": null,
            "display": null,
            "left": null
          }
        },
        "6c5e38cb6eef4cee9f7d40f6dc9b390d": {
          "model_module": "@jupyter-widgets/controls",
          "model_name": "DescriptionStyleModel",
          "state": {
            "_view_name": "StyleView",
            "_model_name": "DescriptionStyleModel",
            "description_width": "",
            "_view_module": "@jupyter-widgets/base",
            "_model_module_version": "1.5.0",
            "_view_count": null,
            "_view_module_version": "1.2.0",
            "_model_module": "@jupyter-widgets/controls"
          }
        },
        "a243f085630346f18603ed919270a797": {
          "model_module": "@jupyter-widgets/base",
          "model_name": "LayoutModel",
          "state": {
            "_view_name": "LayoutView",
            "grid_template_rows": null,
            "right": null,
            "justify_content": null,
            "_view_module": "@jupyter-widgets/base",
            "overflow": null,
            "_model_module_version": "1.2.0",
            "_view_count": null,
            "flex_flow": null,
            "width": null,
            "min_width": null,
            "border": null,
            "align_items": null,
            "bottom": null,
            "_model_module": "@jupyter-widgets/base",
            "top": null,
            "grid_column": null,
            "overflow_y": null,
            "overflow_x": null,
            "grid_auto_flow": null,
            "grid_area": null,
            "grid_template_columns": null,
            "flex": null,
            "_model_name": "LayoutModel",
            "justify_items": null,
            "grid_row": null,
            "max_height": null,
            "align_content": null,
            "visibility": null,
            "align_self": null,
            "height": null,
            "min_height": null,
            "padding": null,
            "grid_auto_rows": null,
            "grid_gap": null,
            "max_width": null,
            "order": null,
            "_view_module_version": "1.2.0",
            "grid_template_areas": null,
            "object_position": null,
            "object_fit": null,
            "grid_auto_columns": null,
            "margin": null,
            "display": null,
            "left": null
          }
        },
        "eddb7d37400f4e59bc9153b5aa346e3f": {
          "model_module": "@jupyter-widgets/controls",
          "model_name": "HBoxModel",
          "state": {
            "_view_name": "HBoxView",
            "_dom_classes": [],
            "_model_name": "HBoxModel",
            "_view_module": "@jupyter-widgets/controls",
            "_model_module_version": "1.5.0",
            "_view_count": null,
            "_view_module_version": "1.5.0",
            "box_style": "",
            "layout": "IPY_MODEL_a0e5a833eefa42d388222f3899bcb71b",
            "_model_module": "@jupyter-widgets/controls",
            "children": [
              "IPY_MODEL_8af447b3c29c40fa82999a71d3d9f0ba",
              "IPY_MODEL_0649036fc4484a899f3a42b4f31509f3"
            ]
          }
        },
        "a0e5a833eefa42d388222f3899bcb71b": {
          "model_module": "@jupyter-widgets/base",
          "model_name": "LayoutModel",
          "state": {
            "_view_name": "LayoutView",
            "grid_template_rows": null,
            "right": null,
            "justify_content": null,
            "_view_module": "@jupyter-widgets/base",
            "overflow": null,
            "_model_module_version": "1.2.0",
            "_view_count": null,
            "flex_flow": null,
            "width": null,
            "min_width": null,
            "border": null,
            "align_items": null,
            "bottom": null,
            "_model_module": "@jupyter-widgets/base",
            "top": null,
            "grid_column": null,
            "overflow_y": null,
            "overflow_x": null,
            "grid_auto_flow": null,
            "grid_area": null,
            "grid_template_columns": null,
            "flex": null,
            "_model_name": "LayoutModel",
            "justify_items": null,
            "grid_row": null,
            "max_height": null,
            "align_content": null,
            "visibility": null,
            "align_self": null,
            "height": null,
            "min_height": null,
            "padding": null,
            "grid_auto_rows": null,
            "grid_gap": null,
            "max_width": null,
            "order": null,
            "_view_module_version": "1.2.0",
            "grid_template_areas": null,
            "object_position": null,
            "object_fit": null,
            "grid_auto_columns": null,
            "margin": null,
            "display": null,
            "left": null
          }
        },
        "8af447b3c29c40fa82999a71d3d9f0ba": {
          "model_module": "@jupyter-widgets/controls",
          "model_name": "FloatProgressModel",
          "state": {
            "_view_name": "ProgressView",
            "style": "IPY_MODEL_76662f6fcd3c4fafa858e4567d4f256d",
            "_dom_classes": [],
            "description": "",
            "_model_name": "FloatProgressModel",
            "bar_style": "info",
            "max": 1,
            "_view_module": "@jupyter-widgets/controls",
            "_model_module_version": "1.5.0",
            "value": 0,
            "_view_count": null,
            "_view_module_version": "1.5.0",
            "orientation": "horizontal",
            "min": 0,
            "description_tooltip": null,
            "_model_module": "@jupyter-widgets/controls",
            "layout": "IPY_MODEL_f2dffc224f9d4bbe9537156c6174ecc0"
          }
        },
        "0649036fc4484a899f3a42b4f31509f3": {
          "model_module": "@jupyter-widgets/controls",
          "model_name": "HTMLModel",
          "state": {
            "_view_name": "HTMLView",
            "style": "IPY_MODEL_547c28eb5dd1436e80140544a0071c21",
            "_dom_classes": [],
            "description": "",
            "_model_name": "HTMLModel",
            "placeholder": "​",
            "_view_module": "@jupyter-widgets/controls",
            "_model_module_version": "1.5.0",
            "value": " 0/? [00:00&lt;?, ?it/s]",
            "_view_count": null,
            "_view_module_version": "1.5.0",
            "description_tooltip": null,
            "_model_module": "@jupyter-widgets/controls",
            "layout": "IPY_MODEL_51b8c367d21e4e8d8820f1a20a479138"
          }
        },
        "76662f6fcd3c4fafa858e4567d4f256d": {
          "model_module": "@jupyter-widgets/controls",
          "model_name": "ProgressStyleModel",
          "state": {
            "_view_name": "StyleView",
            "_model_name": "ProgressStyleModel",
            "description_width": "initial",
            "_view_module": "@jupyter-widgets/base",
            "_model_module_version": "1.5.0",
            "_view_count": null,
            "_view_module_version": "1.2.0",
            "bar_color": null,
            "_model_module": "@jupyter-widgets/controls"
          }
        },
        "f2dffc224f9d4bbe9537156c6174ecc0": {
          "model_module": "@jupyter-widgets/base",
          "model_name": "LayoutModel",
          "state": {
            "_view_name": "LayoutView",
            "grid_template_rows": null,
            "right": null,
            "justify_content": null,
            "_view_module": "@jupyter-widgets/base",
            "overflow": null,
            "_model_module_version": "1.2.0",
            "_view_count": null,
            "flex_flow": null,
            "width": null,
            "min_width": null,
            "border": null,
            "align_items": null,
            "bottom": null,
            "_model_module": "@jupyter-widgets/base",
            "top": null,
            "grid_column": null,
            "overflow_y": null,
            "overflow_x": null,
            "grid_auto_flow": null,
            "grid_area": null,
            "grid_template_columns": null,
            "flex": null,
            "_model_name": "LayoutModel",
            "justify_items": null,
            "grid_row": null,
            "max_height": null,
            "align_content": null,
            "visibility": null,
            "align_self": null,
            "height": null,
            "min_height": null,
            "padding": null,
            "grid_auto_rows": null,
            "grid_gap": null,
            "max_width": null,
            "order": null,
            "_view_module_version": "1.2.0",
            "grid_template_areas": null,
            "object_position": null,
            "object_fit": null,
            "grid_auto_columns": null,
            "margin": null,
            "display": null,
            "left": null
          }
        },
        "547c28eb5dd1436e80140544a0071c21": {
          "model_module": "@jupyter-widgets/controls",
          "model_name": "DescriptionStyleModel",
          "state": {
            "_view_name": "StyleView",
            "_model_name": "DescriptionStyleModel",
            "description_width": "",
            "_view_module": "@jupyter-widgets/base",
            "_model_module_version": "1.5.0",
            "_view_count": null,
            "_view_module_version": "1.2.0",
            "_model_module": "@jupyter-widgets/controls"
          }
        },
        "51b8c367d21e4e8d8820f1a20a479138": {
          "model_module": "@jupyter-widgets/base",
          "model_name": "LayoutModel",
          "state": {
            "_view_name": "LayoutView",
            "grid_template_rows": null,
            "right": null,
            "justify_content": null,
            "_view_module": "@jupyter-widgets/base",
            "overflow": null,
            "_model_module_version": "1.2.0",
            "_view_count": null,
            "flex_flow": null,
            "width": null,
            "min_width": null,
            "border": null,
            "align_items": null,
            "bottom": null,
            "_model_module": "@jupyter-widgets/base",
            "top": null,
            "grid_column": null,
            "overflow_y": null,
            "overflow_x": null,
            "grid_auto_flow": null,
            "grid_area": null,
            "grid_template_columns": null,
            "flex": null,
            "_model_name": "LayoutModel",
            "justify_items": null,
            "grid_row": null,
            "max_height": null,
            "align_content": null,
            "visibility": null,
            "align_self": null,
            "height": null,
            "min_height": null,
            "padding": null,
            "grid_auto_rows": null,
            "grid_gap": null,
            "max_width": null,
            "order": null,
            "_view_module_version": "1.2.0",
            "grid_template_areas": null,
            "object_position": null,
            "object_fit": null,
            "grid_auto_columns": null,
            "margin": null,
            "display": null,
            "left": null
          }
        }
      }
    }
  },
  "cells": [
    {
      "cell_type": "markdown",
      "metadata": {
        "id": "view-in-github",
        "colab_type": "text"
      },
      "source": [
        "<a href=\"https://colab.research.google.com/github/Nikoszav/MathForAI/blob/main/Ex3/CwEx3.ipynb\" target=\"_parent\"><img src=\"https://colab.research.google.com/assets/colab-badge.svg\" alt=\"Open In Colab\"/></a>"
      ]
    },
    {
      "cell_type": "markdown",
      "metadata": {
        "id": "uSXr9pqhnCdv"
      },
      "source": [
        "# ANN for MNIST dataset"
      ]
    },
    {
      "cell_type": "markdown",
      "metadata": {
        "id": "4Rvug4FD_bhj"
      },
      "source": [
        "code: https://medium.com/coinmonks/create-a-neural-network-in-pytorch-and-make-your-life-simpler-ec5367895199"
      ]
    },
    {
      "cell_type": "markdown",
      "metadata": {
        "id": "MraqgZ1WnaOd"
      },
      "source": [
        "## Import Libraries"
      ]
    },
    {
      "cell_type": "code",
      "metadata": {
        "colab": {
          "base_uri": "https://localhost:8080/"
        },
        "id": "_QUl6tNNQLCA",
        "outputId": "77558466-028c-40eb-c105-ed02958b2354"
      },
      "source": [
        "import torch \n",
        "import torch.nn as nn\n",
        "import torchvision.transforms as transforms\n",
        "import torchvision.datasets as dsets\n",
        "import torch.nn.functional as F\n",
        "import matplotlib.pylab as plt\n",
        "import numpy as np\n",
        "torch.manual_seed(2)"
      ],
      "execution_count": 1,
      "outputs": [
        {
          "output_type": "execute_result",
          "data": {
            "text/plain": [
              "<torch._C.Generator at 0x7fb01d948b58>"
            ]
          },
          "metadata": {
            "tags": []
          },
          "execution_count": 1
        }
      ]
    },
    {
      "cell_type": "markdown",
      "metadata": {
        "id": "xrRhCscbndmI"
      },
      "source": [
        "## Import data"
      ]
    },
    {
      "cell_type": "code",
      "metadata": {
        "id": "9ihLuvrhQD6M",
        "colab": {
          "base_uri": "https://localhost:8080/",
          "height": 424,
          "referenced_widgets": [
            "d64432aa19d94579ae3ef8ecc83c6c2a",
            "646bed50fb7c407cad7f933b14589458",
            "16269714d7444aaab6ebafc6b647894c",
            "dd4ff662d6f247e9b86fba15497d08d2",
            "f135a415439249a1b60504a12ee2f102",
            "40ec360538624e148b8a3571c11958e5",
            "d374abec81f84761ae18667f7ffcbbbb",
            "02d97e6eb9e44ef1bf092bb63cc9231d",
            "b3c09e455c3642e998d7471180496ce1",
            "3a8892d2a995425c8a8fab3d6ba415a4",
            "f93c705eee2d43e89184a61c692ff11f",
            "56f45bd8ce8146e197276e98ef1f3de6",
            "01835e12b0444bbabd0d09fcdc4d2450",
            "03d5a58c672949f4891848e31618611a",
            "5a31352afe2444f7a78107f1b461cd8d",
            "0b35e16b8fd740b385b6f55683bd5346",
            "469611f15f2442548bd41fd2574f8da2",
            "8f8d8159e7ae427ea6595135bfff830c",
            "dacb86a3951c407dba78840653ef1f96",
            "bcc6c691949d47b8af4f0cfac2259f57",
            "5788191131564b8fbd9f19dcf2a74469",
            "da8a888f48dd40029959d1c1d9521c02",
            "6c5e38cb6eef4cee9f7d40f6dc9b390d",
            "a243f085630346f18603ed919270a797",
            "eddb7d37400f4e59bc9153b5aa346e3f",
            "a0e5a833eefa42d388222f3899bcb71b",
            "8af447b3c29c40fa82999a71d3d9f0ba",
            "0649036fc4484a899f3a42b4f31509f3",
            "76662f6fcd3c4fafa858e4567d4f256d",
            "f2dffc224f9d4bbe9537156c6174ecc0",
            "547c28eb5dd1436e80140544a0071c21",
            "51b8c367d21e4e8d8820f1a20a479138"
          ]
        },
        "outputId": "a72a2800-3436-4435-9713-c64567d6bc31"
      },
      "source": [
        "trainSet = dsets.MNIST(root='./data', train=True, download=True, transform=transforms.ToTensor())"
      ],
      "execution_count": 2,
      "outputs": [
        {
          "output_type": "stream",
          "text": [
            "Downloading http://yann.lecun.com/exdb/mnist/train-images-idx3-ubyte.gz to ./data/MNIST/raw/train-images-idx3-ubyte.gz\n"
          ],
          "name": "stdout"
        },
        {
          "output_type": "display_data",
          "data": {
            "application/vnd.jupyter.widget-view+json": {
              "model_id": "d64432aa19d94579ae3ef8ecc83c6c2a",
              "version_minor": 0,
              "version_major": 2
            },
            "text/plain": [
              "HBox(children=(FloatProgress(value=1.0, bar_style='info', max=1.0), HTML(value='')))"
            ]
          },
          "metadata": {
            "tags": []
          }
        },
        {
          "output_type": "stream",
          "text": [
            "Extracting ./data/MNIST/raw/train-images-idx3-ubyte.gz to ./data/MNIST/raw\n",
            "Downloading http://yann.lecun.com/exdb/mnist/train-labels-idx1-ubyte.gz to ./data/MNIST/raw/train-labels-idx1-ubyte.gz\n"
          ],
          "name": "stdout"
        },
        {
          "output_type": "display_data",
          "data": {
            "application/vnd.jupyter.widget-view+json": {
              "model_id": "b3c09e455c3642e998d7471180496ce1",
              "version_minor": 0,
              "version_major": 2
            },
            "text/plain": [
              "HBox(children=(FloatProgress(value=1.0, bar_style='info', max=1.0), HTML(value='')))"
            ]
          },
          "metadata": {
            "tags": []
          }
        },
        {
          "output_type": "stream",
          "text": [
            "Extracting ./data/MNIST/raw/train-labels-idx1-ubyte.gz to ./data/MNIST/raw\n",
            "Downloading http://yann.lecun.com/exdb/mnist/t10k-images-idx3-ubyte.gz to ./data/MNIST/raw/t10k-images-idx3-ubyte.gz\n"
          ],
          "name": "stdout"
        },
        {
          "output_type": "display_data",
          "data": {
            "application/vnd.jupyter.widget-view+json": {
              "model_id": "469611f15f2442548bd41fd2574f8da2",
              "version_minor": 0,
              "version_major": 2
            },
            "text/plain": [
              "HBox(children=(FloatProgress(value=1.0, bar_style='info', max=1.0), HTML(value='')))"
            ]
          },
          "metadata": {
            "tags": []
          }
        },
        {
          "output_type": "stream",
          "text": [
            "Extracting ./data/MNIST/raw/t10k-images-idx3-ubyte.gz to ./data/MNIST/raw\n",
            "Downloading http://yann.lecun.com/exdb/mnist/t10k-labels-idx1-ubyte.gz to ./data/MNIST/raw/t10k-labels-idx1-ubyte.gz\n",
            "\n",
            "\n"
          ],
          "name": "stdout"
        },
        {
          "output_type": "display_data",
          "data": {
            "application/vnd.jupyter.widget-view+json": {
              "model_id": "eddb7d37400f4e59bc9153b5aa346e3f",
              "version_minor": 0,
              "version_major": 2
            },
            "text/plain": [
              "HBox(children=(FloatProgress(value=1.0, bar_style='info', max=1.0), HTML(value='')))"
            ]
          },
          "metadata": {
            "tags": []
          }
        },
        {
          "output_type": "stream",
          "text": [
            "Extracting ./data/MNIST/raw/t10k-labels-idx1-ubyte.gz to ./data/MNIST/raw\n",
            "Processing...\n",
            "Done!\n"
          ],
          "name": "stdout"
        },
        {
          "output_type": "stream",
          "text": [
            "/usr/local/lib/python3.6/dist-packages/torchvision/datasets/mnist.py:480: UserWarning: The given NumPy array is not writeable, and PyTorch does not support non-writeable tensors. This means you can write to the underlying (supposedly non-writeable) NumPy array using the tensor. You may want to copy the array to protect its data or make it writeable before converting it to a tensor. This type of warning will be suppressed for the rest of this program. (Triggered internally at  /pytorch/torch/csrc/utils/tensor_numpy.cpp:141.)\n",
            "  return torch.from_numpy(parsed.astype(m[2], copy=False)).view(*s)\n"
          ],
          "name": "stderr"
        }
      ]
    },
    {
      "cell_type": "code",
      "metadata": {
        "id": "M9U-vIFyQflD"
      },
      "source": [
        "validationSet = dsets.MNIST(root='./data', train=False, download=True, transform=transforms.ToTensor())"
      ],
      "execution_count": 3,
      "outputs": []
    },
    {
      "cell_type": "code",
      "metadata": {
        "id": "bTvdW8hSQ4q6"
      },
      "source": [
        "criterion = nn.CrossEntropyLoss()"
      ],
      "execution_count": 4,
      "outputs": []
    },
    {
      "cell_type": "code",
      "metadata": {
        "id": "xkCW1Rs-Q8_y"
      },
      "source": [
        "train_loader = torch.utils.data.DataLoader(dataset=trainSet, batch_size=10, shuffle=True)\n",
        "\n",
        "validation_loader = torch.utils.data.DataLoader(dataset=validationSet, batch_size=10, shuffle=False)"
      ],
      "execution_count": 5,
      "outputs": []
    },
    {
      "cell_type": "markdown",
      "metadata": {
        "id": "rIG72L3bnh6s"
      },
      "source": [
        "## Create the ANN classifier"
      ]
    },
    {
      "cell_type": "code",
      "metadata": {
        "id": "2CNl2Wt_dYO8"
      },
      "source": [
        "class Classifier(nn.Module):\r\n",
        "    \r\n",
        "  # Constructor\r\n",
        "  def __init__(self,Layers, activationFun):\r\n",
        "      super(Classifier, self).__init__()\r\n",
        "      self.hidden = nn.ModuleList()\r\n",
        "      self.activationFun = activationFun\r\n",
        "      for input_size, output_size in zip(Layers, Layers[1:]):\r\n",
        "          self.hidden.append(nn.Linear(input_size, output_size))\r\n",
        "\r\n",
        "  \r\n",
        "  # feedforward process\r\n",
        "  def forward(self,x):\r\n",
        "    lengthLayer = len(self.hidden)\r\n",
        "    for (l, linear_transform) in zip(range(lengthLayer), self.hidden):\r\n",
        "      if l < lengthLayer - 1:    \r\n",
        "        if self.activationFun == \"sigmoid\":\r\n",
        "          x = F.sigmoid(linear_transform(x)) \r\n",
        "        else: \r\n",
        "          x = F.relu(linear_transform(x)) \r\n",
        "      else:\r\n",
        "        yPred = linear_transform(x)\r\n",
        "    return yPred"
      ],
      "execution_count": 6,
      "outputs": []
    },
    {
      "cell_type": "markdown",
      "metadata": {
        "id": "z-KdoyPDnmvB"
      },
      "source": [
        "## Create the fit method"
      ]
    },
    {
      "cell_type": "code",
      "metadata": {
        "id": "KJkaiCeDfI1q"
      },
      "source": [
        "def fit(model, criterion, train_loader, validation_loader, optimizer, epochs):\r\n",
        "    iteration = 0\r\n",
        "    trainingAcc = []\r\n",
        "    trainingLoss = []\r\n",
        "    validationAcc = []\r\n",
        "    validationLoss = []\r\n",
        "    epoch = 0\r\n",
        "    stopFlag = False\r\n",
        "    while epoch <= epochs and stopFlag == False:\r\n",
        "        trAcc = 0\r\n",
        "        for iteration, (x, y) in enumerate(train_loader):\r\n",
        "            optimizer.zero_grad()                                   # clear gradients\r\n",
        "            z = model(x.view(-1, 784))                              # compute z vector\r\n",
        "            loss = criterion(z, y)                                  # define loss\r\n",
        "            loss.backward()                                         # backward process is called\r\n",
        "            optimizer.step()                                        # optimize the weights\r\n",
        "           \r\n",
        "            _, label = torch.max(z, 1)\r\n",
        "            trAcc += (label == y).sum().item()  \r\n",
        "        \r\n",
        "        trainingLoss.append(loss.data.item())                     # store training loss for future reference\r\n",
        "        accuracy = 100 * (trAcc / len(trainSet))                  # calculate accuracy \r\n",
        "        trainingAcc.append(accuracy)                              # store validation accuracy for future reference\r\n",
        "\r\n",
        "        print(\"After \" ,epoch, \" epochs the training accuracy is: \", trainingAcc[-1] )        \r\n",
        "        print(\"After \" ,epoch, \" epochs the training loss is: \", trainingLoss[-1] )\r\n",
        "        \r\n",
        "        acc = 0\r\n",
        "        for x, y in validation_loader:                              # validation process\r\n",
        "            z = model(x.view(-1, 28 * 28))  \r\n",
        "            valLoss = criterion(z, y)  \r\n",
        "\r\n",
        "            \r\n",
        "            _, label = torch.max(z, 1)            \r\n",
        "            acc += (label == y).sum().item()                        # calcualte acc\r\n",
        "        \r\n",
        "        validationLoss.append(valLoss.data.item()) \r\n",
        "        accuracy = 100 * (acc / len(validationSet))                 #calculate accuracy \r\n",
        "        validationAcc.append(accuracy)                              # store validation accuracy for future reference\r\n",
        "        \r\n",
        "        print(\"After \" ,epoch, \" epochs the validation accuracy is: \", validationAcc[-1] )\r\n",
        "        print(\"After \" ,epoch, \" epochs the validation loss is: \", validationLoss[-1] )\r\n",
        "        epoch += 1\r\n",
        "        \r\n",
        "        if accuracy >=95.0:\r\n",
        "          stopFlag = True\r\n",
        "          print(\"Training stopped after \" ,epoch, \"epochs\")\r\n",
        "\r\n",
        "    return trainingAcc, trainingLoss, validationAcc, validationLoss, epoch                            "
      ],
      "execution_count": 7,
      "outputs": []
    },
    {
      "cell_type": "markdown",
      "metadata": {
        "id": "mgpYeotTntyA"
      },
      "source": [
        "## Define the hyperparameters"
      ]
    },
    {
      "cell_type": "code",
      "metadata": {
        "id": "SneTetoER2IF"
      },
      "source": [
        "Layer = [784, 50, 50, 10]\n",
        "activationFunction = \"sigmoid\"\n",
        "learning_rate = 0.01\n",
        "epochs = 30"
      ],
      "execution_count": 8,
      "outputs": []
    },
    {
      "cell_type": "markdown",
      "metadata": {
        "id": "QzeZdqojnyE3"
      },
      "source": [
        "## Fit the model to our dataset"
      ]
    },
    {
      "cell_type": "code",
      "metadata": {
        "id": "XQBGZINTebKD",
        "outputId": "209e7939-1832-4599-bb5c-a1a11c6c220b",
        "colab": {
          "base_uri": "https://localhost:8080/"
        }
      },
      "source": [
        "model = Classifier(Layer, activationFunction)\r\n",
        "optimizer = torch.optim.SGD(model.parameters(), lr=learning_rate)\r\n",
        "trainingAcc, trainingLoss, validationAcc, validationLoss, stopEpoch   = fit(model, criterion, train_loader, validation_loader, optimizer, epochs=epochs)"
      ],
      "execution_count": 9,
      "outputs": [
        {
          "output_type": "stream",
          "text": [
            "/usr/local/lib/python3.6/dist-packages/torch/nn/functional.py:1639: UserWarning: nn.functional.sigmoid is deprecated. Use torch.sigmoid instead.\n",
            "  warnings.warn(\"nn.functional.sigmoid is deprecated. Use torch.sigmoid instead.\")\n"
          ],
          "name": "stderr"
        },
        {
          "output_type": "stream",
          "text": [
            "After  0  epochs the training accuracy is:  17.9\n",
            "After  0  epochs the training loss is:  2.1779446601867676\n",
            "After  0  epochs the validation accuracy is:  32.84\n",
            "After  0  epochs the validation loss is:  2.139194965362549\n",
            "After  1  epochs the training accuracy is:  54.97833333333333\n",
            "After  1  epochs the training loss is:  0.8593817949295044\n",
            "After  1  epochs the validation accuracy is:  71.77\n",
            "After  1  epochs the validation loss is:  0.8344858288764954\n",
            "After  2  epochs the training accuracy is:  79.4\n",
            "After  2  epochs the training loss is:  0.48165392875671387\n",
            "After  2  epochs the validation accuracy is:  83.95\n",
            "After  2  epochs the validation loss is:  0.4410378038883209\n",
            "After  3  epochs the training accuracy is:  85.27833333333334\n",
            "After  3  epochs the training loss is:  0.43530169129371643\n",
            "After  3  epochs the validation accuracy is:  87.02\n",
            "After  3  epochs the validation loss is:  0.3442198932170868\n",
            "After  4  epochs the training accuracy is:  87.75500000000001\n",
            "After  4  epochs the training loss is:  0.5822656154632568\n",
            "After  4  epochs the validation accuracy is:  88.55\n",
            "After  4  epochs the validation loss is:  0.34474965929985046\n",
            "After  5  epochs the training accuracy is:  89.27000000000001\n",
            "After  5  epochs the training loss is:  0.1153448075056076\n",
            "After  5  epochs the validation accuracy is:  89.89\n",
            "After  5  epochs the validation loss is:  0.28312239050865173\n",
            "After  6  epochs the training accuracy is:  90.25333333333333\n",
            "After  6  epochs the training loss is:  0.41187629103660583\n",
            "After  6  epochs the validation accuracy is:  90.81\n",
            "After  6  epochs the validation loss is:  0.26392343640327454\n",
            "After  7  epochs the training accuracy is:  91.05333333333333\n",
            "After  7  epochs the training loss is:  0.23455587029457092\n",
            "After  7  epochs the validation accuracy is:  91.47\n",
            "After  7  epochs the validation loss is:  0.1885049194097519\n",
            "After  8  epochs the training accuracy is:  91.71333333333334\n",
            "After  8  epochs the training loss is:  0.5221295356750488\n",
            "After  8  epochs the validation accuracy is:  92.0\n",
            "After  8  epochs the validation loss is:  0.1393728405237198\n",
            "After  9  epochs the training accuracy is:  92.24\n",
            "After  9  epochs the training loss is:  0.3284665048122406\n",
            "After  9  epochs the validation accuracy is:  92.33\n",
            "After  9  epochs the validation loss is:  0.11281218379735947\n",
            "After  10  epochs the training accuracy is:  92.715\n",
            "After  10  epochs the training loss is:  0.14209075272083282\n",
            "After  10  epochs the validation accuracy is:  92.7\n",
            "After  10  epochs the validation loss is:  0.09622617810964584\n",
            "After  11  epochs the training accuracy is:  93.07\n",
            "After  11  epochs the training loss is:  0.15442760288715363\n",
            "After  11  epochs the validation accuracy is:  93.21000000000001\n",
            "After  11  epochs the validation loss is:  0.0820029079914093\n",
            "After  12  epochs the training accuracy is:  93.45333333333333\n",
            "After  12  epochs the training loss is:  0.024914536625146866\n",
            "After  12  epochs the validation accuracy is:  93.5\n",
            "After  12  epochs the validation loss is:  0.07867260277271271\n",
            "After  13  epochs the training accuracy is:  93.80333333333334\n",
            "After  13  epochs the training loss is:  0.07271446287631989\n",
            "After  13  epochs the validation accuracy is:  93.74\n",
            "After  13  epochs the validation loss is:  0.05976184457540512\n",
            "After  14  epochs the training accuracy is:  94.14\n",
            "After  14  epochs the training loss is:  0.43662530183792114\n",
            "After  14  epochs the validation accuracy is:  94.08\n",
            "After  14  epochs the validation loss is:  0.05137256905436516\n",
            "After  15  epochs the training accuracy is:  94.45\n",
            "After  15  epochs the training loss is:  0.15923993289470673\n",
            "After  15  epochs the validation accuracy is:  94.38\n",
            "After  15  epochs the validation loss is:  0.03801974281668663\n",
            "After  16  epochs the training accuracy is:  94.74333333333334\n",
            "After  16  epochs the training loss is:  0.09073466807603836\n",
            "After  16  epochs the validation accuracy is:  94.66\n",
            "After  16  epochs the validation loss is:  0.038750145584344864\n",
            "After  17  epochs the training accuracy is:  94.98333333333333\n",
            "After  17  epochs the training loss is:  0.02773749828338623\n",
            "After  17  epochs the validation accuracy is:  94.85\n",
            "After  17  epochs the validation loss is:  0.03116064891219139\n",
            "After  18  epochs the training accuracy is:  95.19833333333332\n",
            "After  18  epochs the training loss is:  0.14009401202201843\n",
            "After  18  epochs the validation accuracy is:  95.02000000000001\n",
            "After  18  epochs the validation loss is:  0.024947289377450943\n",
            "Training stopped after  19 epochs\n"
          ],
          "name": "stdout"
        }
      ]
    },
    {
      "cell_type": "code",
      "metadata": {
        "id": "WpGE7oBq8jQO",
        "outputId": "8702f2b1-9759-4f66-f11e-c2b0bcd3d8ee",
        "colab": {
          "base_uri": "https://localhost:8080/"
        }
      },
      "source": [
        "activationFunction = \"relu\"\n",
        "model = Classifier(Layer, activationFunction)\n",
        "optimizer = torch.optim.SGD(model.parameters(), lr=learning_rate)\n",
        "trainingAcc1, trainingLoss1, validationAcc1, validationLoss1, stopEpoch1 = fit(model, criterion, train_loader, validation_loader, optimizer, epochs=epochs)"
      ],
      "execution_count": 10,
      "outputs": [
        {
          "output_type": "stream",
          "text": [
            "After  0  epochs the training accuracy is:  82.44666666666667\n",
            "After  0  epochs the training loss is:  0.1188189759850502\n",
            "After  0  epochs the validation accuracy is:  92.16\n",
            "After  0  epochs the validation loss is:  0.08961441367864609\n",
            "After  1  epochs the training accuracy is:  92.91333333333334\n",
            "After  1  epochs the training loss is:  0.049526672810316086\n",
            "After  1  epochs the validation accuracy is:  94.0\n",
            "After  1  epochs the validation loss is:  0.03366703540086746\n",
            "After  2  epochs the training accuracy is:  94.69666666666666\n",
            "After  2  epochs the training loss is:  0.2479158192873001\n",
            "After  2  epochs the validation accuracy is:  95.22\n",
            "After  2  epochs the validation loss is:  0.0058342041447758675\n",
            "Training stopped after  3 epochs\n"
          ],
          "name": "stdout"
        }
      ]
    },
    {
      "cell_type": "markdown",
      "metadata": {
        "id": "YLBbzb7Xn3Kc"
      },
      "source": [
        "## Create different plots"
      ]
    },
    {
      "cell_type": "code",
      "metadata": {
        "id": "7h_OCpeW5tD4"
      },
      "source": [
        "evaluation = {}\n",
        "evaluation[\"trainAccSigmoid\"] = trainingAcc\n",
        "evaluation[\"trainAccRelu\"] = trainingAcc1\n",
        "\n",
        "evaluation[\"trainLossSigmoid\"] = trainingLoss\n",
        "evaluation[\"trainLossRelu\"] = trainingLoss1\n",
        "\n",
        "evaluation[\"validationAccSigmoid\"] = validationAcc\n",
        "evaluation[\"validationAccRelu\"] = validationAcc1\n",
        "\n",
        "evaluation[\"validationLossSigmoid\"] = validationLoss\n",
        "evaluation[\"validationLossRelu\"] = validationLoss1\n"
      ],
      "execution_count": 11,
      "outputs": []
    },
    {
      "cell_type": "code",
      "metadata": {
        "id": "JE5_6ntYJrJt",
        "outputId": "0c32dd2e-9867-4c4d-98bd-8c4185047c6c",
        "colab": {
          "base_uri": "https://localhost:8080/",
          "height": 313
        }
      },
      "source": [
        "plt.plot(evaluation[\"trainAccSigmoid\"], label='sigmoid')\n",
        "plt.plot(evaluation[\"trainAccRelu\"], label='relu')\n",
        "plt.ylabel('Training Accuracy')\n",
        "plt.xlabel('Epochs')\n",
        "plt.xticks(np.arange(0,32,2))\n",
        "plt.title('Training Accuracy per epoch')\n",
        "plt.legend()"
      ],
      "execution_count": 12,
      "outputs": [
        {
          "output_type": "execute_result",
          "data": {
            "text/plain": [
              "<matplotlib.legend.Legend at 0x7fafcd95e0f0>"
            ]
          },
          "metadata": {
            "tags": []
          },
          "execution_count": 12
        },
        {
          "output_type": "display_data",
          "data": {
            "image/png": "[encoded data removed]",
            "text/plain": [
              "<Figure size 432x288 with 1 Axes>"
            ]
          },
          "metadata": {
            "tags": [],
            "needs_background": "light"
          }
        }
      ]
    },
    {
      "cell_type": "code",
      "metadata": {
        "id": "SOFeh-3dTH7E",
        "outputId": "a8914d19-0be2-4ee6-b28d-bf0259f279dc",
        "colab": {
          "base_uri": "https://localhost:8080/",
          "height": 313
        }
      },
      "source": [
        "plt.plot(evaluation[\"trainLossSigmoid\"], label='sigmoid')\n",
        "plt.plot(evaluation[\"trainLossRelu\"], label='relu')\n",
        "plt.ylabel('Training loss')\n",
        "plt.xlabel('Epochs')\n",
        "plt.xticks(np.arange(0,32,2))\n",
        "plt.title('Training loss per epoch')\n",
        "plt.legend()"
      ],
      "execution_count": 13,
      "outputs": [
        {
          "output_type": "execute_result",
          "data": {
            "text/plain": [
              "<matplotlib.legend.Legend at 0x7fafcd8ecd68>"
            ]
          },
          "metadata": {
            "tags": []
          },
          "execution_count": 13
        },
        {
          "output_type": "display_data",
          "data": {
            "image/png": "[encoded data removed]",
            "text/plain": [
              "<Figure size 432x288 with 1 Axes>"
            ]
          },
          "metadata": {
            "tags": [],
            "needs_background": "light"
          }
        }
      ]
    },
    {
      "cell_type": "code",
      "metadata": {
        "id": "8eHIY7pETNta",
        "outputId": "c03d8b90-d451-460a-d44a-3fe311f8f487",
        "colab": {
          "base_uri": "https://localhost:8080/",
          "height": 313
        }
      },
      "source": [
        "plt.plot(evaluation[\"validationAccSigmoid\"], label = 'sigmoid')\n",
        "plt.plot(evaluation[\"validationAccRelu\"], label = 'relu') \n",
        "plt.ylabel('validation accuracy')\n",
        "plt.xticks(np.arange(0,32,2))\n",
        "plt.xlabel('Epochs')   \n",
        "plt.title('Validation accuracy per epoch')\n",
        "plt.legend()"
      ],
      "execution_count": 14,
      "outputs": [
        {
          "output_type": "execute_result",
          "data": {
            "text/plain": [
              "<matplotlib.legend.Legend at 0x7fafcd7d65c0>"
            ]
          },
          "metadata": {
            "tags": []
          },
          "execution_count": 14
        },
        {
          "output_type": "display_data",
          "data": {
            "image/png": "[encoded data removed]",
            "text/plain": [
              "<Figure size 432x288 with 1 Axes>"
            ]
          },
          "metadata": {
            "tags": [],
            "needs_background": "light"
          }
        }
      ]
    },
    {
      "cell_type": "code",
      "metadata": {
        "id": "_pAqX8HzJ8s8",
        "outputId": "ec855702-f60d-43c4-d3d4-c138ed197893",
        "colab": {
          "base_uri": "https://localhost:8080/",
          "height": 313
        }
      },
      "source": [
        "plt.plot(evaluation[\"validationLossSigmoid\"], label = 'sigmoid')\n",
        "plt.plot(evaluation[\"validationLossRelu\"], label = 'relu') \n",
        "plt.ylabel('validation Loss')\n",
        "plt.xticks(np.arange(0,32,2))\n",
        "plt.xlabel('Epochs')   \n",
        "plt.title('Validation loss per epoch')\n",
        "plt.legend()"
      ],
      "execution_count": 15,
      "outputs": [
        {
          "output_type": "execute_result",
          "data": {
            "text/plain": [
              "<matplotlib.legend.Legend at 0x7fafcd84e978>"
            ]
          },
          "metadata": {
            "tags": []
          },
          "execution_count": 15
        },
        {
          "output_type": "display_data",
          "data": {
            "image/png": "[encoded data removed]",
            "text/plain": [
              "<Figure size 432x288 with 1 Axes>"
            ]
          },
          "metadata": {
            "tags": [],
            "needs_background": "light"
          }
        }
      ]
    },
    {
      "cell_type": "markdown",
      "metadata": {
        "id": "CTujTijxbiAF"
      },
      "source": [
        "# Start of CNN"
      ]
    },
    {
      "cell_type": "markdown",
      "metadata": {
        "id": "IY39WcBjn763"
      },
      "source": [
        "## Import dataser"
      ]
    },
    {
      "cell_type": "code",
      "metadata": {
        "id": "sGbLesizm6Xa"
      },
      "source": [
        "composed = transforms.Compose([transforms.Resize((16, 16)), transforms.ToTensor()])\n",
        "\n",
        "trainSet = dsets.MNIST(root='./data', train=True, download=True, transform=composed)\n",
        "\n",
        "validationSet = dsets.MNIST(root='./data', train=False, download=True, transform=composed)\n"
      ],
      "execution_count": 16,
      "outputs": []
    },
    {
      "cell_type": "code",
      "metadata": {
        "id": "XmkmfcH65RXZ"
      },
      "source": [
        "train_loader = torch.utils.data.DataLoader(dataset=trainSet, batch_size=100)\r\n",
        "validation_loader = torch.utils.data.DataLoader(dataset=validationSet, batch_size=5000)"
      ],
      "execution_count": 17,
      "outputs": []
    },
    {
      "cell_type": "markdown",
      "metadata": {
        "id": "EaYBq36On-do"
      },
      "source": [
        "## Create the CNN classifier"
      ]
    },
    {
      "cell_type": "code",
      "metadata": {
        "id": "f1gmz9DCbJRX"
      },
      "source": [
        "'''\n",
        "This class will create the cnn classifier. \n",
        "'''\n",
        "class CNN(nn.Module):\n",
        "    \n",
        "    # initiliaze the cnn \n",
        "    def __init__(self, out_1, out_2):\n",
        "    \n",
        "      super(CNN, self).__init__()\n",
        "      self.cnn1 = nn.Conv2d(in_channels=1, out_channels=out_1, kernel_size=5, padding=2)#kernel size = 5, padding = 2\n",
        "      self.maxpool1=nn.MaxPool2d(kernel_size=2) #max pooling layer \n",
        "      self.cnn2 = nn.Conv2d(in_channels=out_1, out_channels=out_2, kernel_size=5, stride=1, padding=2)\n",
        "      self.maxpool2=nn.MaxPool2d(kernel_size=2)\n",
        "      self.fc1 = nn.Linear(out_2 * 4 * 4, 10)\n",
        "  \n",
        "    # forward process for the cnn\n",
        "    def forward(self, x):\n",
        "        x = self.cnn1(x)  #convolution layer 1\n",
        "        x = torch.relu(x) #follow by activation function(relu)\n",
        "        x = self.maxpool1(x) #follow by a max pool layer 1\n",
        "        x = self.cnn2(x)  #convolution layer 2\n",
        "        x = torch.relu(x) #follow by activation function(relu)\n",
        "        x = self.maxpool2(x) #follow by a max pool layer 1\n",
        "        x = x.view(x.size(0), -1)#flattern \n",
        "        x = self.fc1(x)#fully conneted layer\n",
        "        return x\n",
        "    \n",
        "    # activation process to connect all the layers of the cnn \n",
        "    def activations(self, x):\n",
        "       \n",
        "        z1 = self.cnn1(x)\n",
        "        a1 = torch.relu(z1)\n",
        "        output = self.maxpool1(a1)\n",
        "        \n",
        "        z2 = self.cnn2(output)\n",
        "        a2 = torch.relu(z2)\n",
        "        output1 = self.maxpool2(a2)\n",
        "        output = output.view(output.size(0),-1)\n",
        "        return z1, a1, z2, a2, output1,output"
      ],
      "execution_count": 18,
      "outputs": []
    },
    {
      "cell_type": "code",
      "metadata": {
        "id": "zYfzYkCxmqKR"
      },
      "source": [
        "# function to train the model \n",
        "'''\n",
        "similar train function with the one in the ann\n",
        "'''\n",
        "def fit(epochs):\n",
        "  valLen = len(validationSet)\n",
        "  trainLen = len(trainSet)\n",
        "  \n",
        "  trainingAcc = []\n",
        "  trainingLoss = []\n",
        "\n",
        "  validationAcc = []\n",
        "  validationLoss = []\n",
        "  \n",
        "  \n",
        "  for epoch in range(epochs):\n",
        "    trainLoss = 0\n",
        "    valLoss = 0\n",
        "    Tacc = 0\n",
        "    Vacc = 0\n",
        "    for x, y in train_loader:\n",
        "        optimizer.zero_grad()\n",
        "        z = model(x)\n",
        "        loss = criterion(z, y)\n",
        "        loss.backward()\n",
        "        optimizer.step()\n",
        "        trainLoss += loss.data.item()\n",
        "        _, yhat = torch.max(z.data, 1)            \n",
        "        Tacc += (yhat == y).sum().item()\n",
        "\n",
        "    trainingAccuracy = Tacc / trainLen\n",
        "    trainingAcc.append(trainingAccuracy)\n",
        "    trainingLoss.append(trainLoss)\n",
        "\n",
        "    #test on the validation set  \n",
        "    for x_test, y_test in validation_loader:\n",
        "      z = model(x_test)\n",
        "      loss = criterion(z, y_test)\n",
        "      valLoss += loss.data.item()\n",
        "      _, yhat = torch.max(z.data, 1)            \n",
        "      Vacc += (yhat == y_test).sum().item()\n",
        "    \n",
        "        \n",
        "    validationAccuracy = Vacc / valLen\n",
        "    validationAcc.append(validationAccuracy)\n",
        "    validationLoss.append(valLoss)  \n",
        "    print(\"Epoch: \", epoch, \"train accuracy is \", trainingAccuracy)\n",
        "    print(\"Epoch: \", epoch, \"validation accuracy is \", validationAccuracy)\n",
        "  return trainingAcc, trainingLoss, validationAcc, validationLoss\n",
        "  \n",
        "  \n"
      ],
      "execution_count": 19,
      "outputs": []
    },
    {
      "cell_type": "code",
      "metadata": {
        "id": "peswkgcCmP8Q"
      },
      "source": [
        "# create the cnn model \n",
        "model = CNN(16, 32)"
      ],
      "execution_count": 20,
      "outputs": []
    },
    {
      "cell_type": "code",
      "metadata": {
        "id": "iPRqE2ZrmUEZ",
        "outputId": "691abeab-f17b-4bdb-e4b2-3035f1149f0a",
        "colab": {
          "base_uri": "https://localhost:8080/"
        }
      },
      "source": [
        "#define the parameters and fit the model to the trainset\n",
        "criterion = nn.CrossEntropyLoss()\n",
        "learningRate = 0.01\n",
        "optimizer = torch.optim.SGD(model.parameters(), lr = learningRate)\n",
        "epochs=10\n",
        "trainingAcc, trainingLoss, validationAcc, validationLoss = fit(epochs)"
      ],
      "execution_count": null,
      "outputs": [
        {
          "output_type": "stream",
          "text": [
            "Epoch:  0 train accuracy is  0.47486666666666666\n",
            "Epoch:  0 validation accuracy is  0.7365\n",
            "Epoch:  1 train accuracy is  0.8219833333333333\n",
            "Epoch:  1 validation accuracy is  0.8614\n",
            "Epoch:  2 train accuracy is  0.8898833333333334\n",
            "Epoch:  2 validation accuracy is  0.8956\n",
            "Epoch:  3 train accuracy is  0.9134\n",
            "Epoch:  3 validation accuracy is  0.9158\n",
            "Epoch:  4 train accuracy is  0.928\n",
            "Epoch:  4 validation accuracy is  0.9275\n",
            "Epoch:  5 train accuracy is  0.9381666666666667\n",
            "Epoch:  5 validation accuracy is  0.9375\n",
            "Epoch:  6 train accuracy is  0.9450833333333334\n",
            "Epoch:  6 validation accuracy is  0.9448\n",
            "Epoch:  7 train accuracy is  0.9503833333333334\n",
            "Epoch:  7 validation accuracy is  0.95\n",
            "Epoch:  8 train accuracy is  0.95455\n",
            "Epoch:  8 validation accuracy is  0.9531\n"
          ],
          "name": "stdout"
        }
      ]
    },
    {
      "cell_type": "code",
      "metadata": {
        "id": "5nc70cYZwuHT"
      },
      "source": [
        "for x_test, y_test in validation_loader:\r\n",
        "  z = model(x_test)\r\n",
        "  _, yhat = torch.max(z.data, 1)  "
      ],
      "execution_count": null,
      "outputs": []
    },
    {
      "cell_type": "code",
      "metadata": {
        "id": "hvPncXGlfpm_"
      },
      "source": [
        "from sklearn.metrics import confusion_matrix\r\n",
        "import seaborn as sns\r\n",
        "mat = confusion_matrix(yhat, y_test)"
      ],
      "execution_count": null,
      "outputs": []
    },
    {
      "cell_type": "code",
      "metadata": {
        "id": "6vxoA2IKrns4"
      },
      "source": [
        "#THE CONFUSION MATRIX OF MY BEST MODEL\r\n",
        "sns.heatmap(mat, square=True, annot=True, cbar=False)\r\n",
        "plt.xlabel('predicted value')\r\n",
        "plt.ylabel('true value');"
      ],
      "execution_count": null,
      "outputs": []
    },
    {
      "cell_type": "markdown",
      "metadata": {
        "id": "4bRlNCiQqPRA"
      },
      "source": [
        "## Plot graphs"
      ]
    },
    {
      "cell_type": "code",
      "metadata": {
        "id": "kitMGj4anxcv"
      },
      "source": [
        "plt.plot(validationLoss, label='CNN')\n",
        "plt.ylabel('Validation loss')\n",
        "plt.xlabel('Epochs')\n",
        "plt.xticks(np.arange(0,10,1))\n",
        "plt.title('Validation loss per epoch')\n",
        "plt.legend()"
      ],
      "execution_count": null,
      "outputs": []
    },
    {
      "cell_type": "code",
      "metadata": {
        "id": "MgTTnuvZojFg"
      },
      "source": [
        "plt.plot(validationAcc, label='CNN')\r\n",
        "plt.ylabel('Validation accuracy')\r\n",
        "plt.xlabel('Epochs')\r\n",
        "plt.xticks(np.arange(0,10,1))\r\n",
        "plt.title('Validation accuracy per epoch')\r\n",
        "plt.legend()"
      ],
      "execution_count": null,
      "outputs": []
    }
  ]
}