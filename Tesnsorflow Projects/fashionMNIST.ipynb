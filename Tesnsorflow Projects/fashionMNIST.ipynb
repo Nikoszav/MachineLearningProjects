{
  "nbformat": 4,
  "nbformat_minor": 0,
  "metadata": {
    "colab": {
      "name": "fashionMNIST.ipynb",
      "provenance": [],
      "collapsed_sections": []
    },
    "kernelspec": {
      "name": "python3",
      "display_name": "Python 3"
    }
  },
  "cells": [
    {
      "cell_type": "code",
      "metadata": {
        "id": "XLhB254kcOsA"
      },
      "source": [
        "import tensorflow as tf\n",
        "from tensorflow import keras\n",
        "import numpy as np\n",
        "import matplotlib.pyplot as plt"
      ],
      "execution_count": null,
      "outputs": []
    },
    {
      "cell_type": "code",
      "metadata": {
        "id": "YtAkFNz4cjWP"
      },
      "source": [
        "data = keras.datasets.fashion_mnist"
      ],
      "execution_count": null,
      "outputs": []
    },
    {
      "cell_type": "code",
      "metadata": {
        "id": "LjVGZVQYcqTR",
        "colab": {
          "base_uri": "https://localhost:8080/",
          "height": 164
        },
        "outputId": "af914049-1109-4967-8e1b-8778407270ee"
      },
      "source": [
        "(train_images, train_labels), (test_images, test_labels) = data.load_data()"
      ],
      "execution_count": null,
      "outputs": [
        {
          "output_type": "stream",
          "text": [
            "Downloading data from https://storage.googleapis.com/tensorflow/tf-keras-datasets/train-labels-idx1-ubyte.gz\n",
            "32768/29515 [=================================] - 0s 0us/step\n",
            "Downloading data from https://storage.googleapis.com/tensorflow/tf-keras-datasets/train-images-idx3-ubyte.gz\n",
            "26427392/26421880 [==============================] - 0s 0us/step\n",
            "Downloading data from https://storage.googleapis.com/tensorflow/tf-keras-datasets/t10k-labels-idx1-ubyte.gz\n",
            "8192/5148 [===============================================] - 0s 0us/step\n",
            "Downloading data from https://storage.googleapis.com/tensorflow/tf-keras-datasets/t10k-images-idx3-ubyte.gz\n",
            "4423680/4422102 [==============================] - 0s 0us/step\n"
          ],
          "name": "stdout"
        }
      ]
    },
    {
      "cell_type": "code",
      "metadata": {
        "id": "B4vj_5A8c-1p"
      },
      "source": [
        "classes_names = 'T-shirt/top Trouser/pants Pullover shirt_Dress Coat Sandal Shirt Sneaker Bag Ankle_boot'.split()"
      ],
      "execution_count": null,
      "outputs": []
    },
    {
      "cell_type": "code",
      "metadata": {
        "id": "f0NnNN81ArAL"
      },
      "source": [
        "train_images = train_images/255.0\n",
        "test_images = test_images/255.0"
      ],
      "execution_count": null,
      "outputs": []
    },
    {
      "cell_type": "code",
      "metadata": {
        "id": "bxt9NuXhdd3Q",
        "colab": {
          "base_uri": "https://localhost:8080/",
          "height": 201
        },
        "outputId": "83d3809d-18f5-4c1e-9f5a-f08531a76761"
      },
      "source": [
        "classes_names"
      ],
      "execution_count": null,
      "outputs": [
        {
          "output_type": "execute_result",
          "data": {
            "text/plain": [
              "['T-shirt/top',\n",
              " 'Trouser/pants',\n",
              " 'Pullover',\n",
              " 'shirt_Dress',\n",
              " 'Coat',\n",
              " 'Sandal',\n",
              " 'Shirt',\n",
              " 'Sneaker',\n",
              " 'Bag',\n",
              " 'Ankle_boot']"
            ]
          },
          "metadata": {
            "tags": []
          },
          "execution_count": 7
        }
      ]
    },
    {
      "cell_type": "code",
      "metadata": {
        "id": "aIgOEYzudknB",
        "colab": {
          "base_uri": "https://localhost:8080/",
          "height": 283
        },
        "outputId": "e29175f9-aca3-4858-bc50-3f14ac9d6b94"
      },
      "source": [
        "plt.imshow(train_images[7], cmap=plt.cm.binary)"
      ],
      "execution_count": null,
      "outputs": [
        {
          "output_type": "execute_result",
          "data": {
            "text/plain": [
              "<matplotlib.image.AxesImage at 0x7f1d46cbb7f0>"
            ]
          },
          "metadata": {
            "tags": []
          },
          "execution_count": 12
        },
        {
          "output_type": "display_data",
          "data": {
            "image/png": "[encoded data removed]",
            "text/plain": [
              "<Figure size 432x288 with 1 Axes>"
            ]
          },
          "metadata": {
            "tags": [],
            "needs_background": "light"
          }
        }
      ]
    },
    {
      "cell_type": "code",
      "metadata": {
        "id": "C0vjpveLd0rR",
        "colab": {
          "base_uri": "https://localhost:8080/",
          "height": 1000
        },
        "outputId": "3535b331-58bb-49dd-c091-d5f28590fef5"
      },
      "source": [
        "print(train_images[7])"
      ],
      "execution_count": null,
      "outputs": [
        {
          "output_type": "stream",
          "text": [
            "[[0.         0.         0.         0.         0.         0.00392157\n",
            "  0.00392157 0.         0.         0.         0.         0.24705882\n",
            "  0.10980392 0.         0.         0.         0.12941176 0.33333333\n",
            "  0.         0.         0.         0.         0.         0.\n",
            "  0.         0.         0.         0.        ]\n",
            " [0.         0.         0.         0.         0.         0.00784314\n",
            "  0.         0.         0.10980392 0.49411765 0.94509804 1.\n",
            "  1.         1.         1.         1.         1.         0.98823529\n",
            "  0.97254902 0.43529412 0.         0.         0.         0.00784314\n",
            "  0.         0.         0.         0.        ]\n",
            " [0.         0.         0.         0.         0.00784314 0.\n",
            "  0.         0.80784314 0.95686275 0.98431373 0.94509804 0.90196078\n",
            "  0.93333333 0.86666667 0.80392157 0.90196078 0.94117647 0.90196078\n",
            "  0.9372549  0.98431373 0.91372549 0.64705882 0.         0.\n",
            "  0.00784314 0.         0.         0.        ]\n",
            " [0.         0.         0.         0.00392157 0.         0.\n",
            "  0.78039216 0.98431373 0.89411765 0.91764706 0.91372549 0.9254902\n",
            "  0.92156863 0.96078431 0.96862745 0.92941176 0.91764706 0.9372549\n",
            "  0.90196078 0.90196078 0.92156863 1.         0.69019608 0.\n",
            "  0.         0.00392157 0.         0.        ]\n",
            " [0.         0.         0.         0.         0.         0.31764706\n",
            "  0.99607843 0.88627451 0.89411765 0.9372549  0.92941176 0.9254902\n",
            "  0.91764706 0.90980392 0.91372549 0.92156863 0.92156863 0.9254902\n",
            "  0.9372549  0.92941176 0.91372549 0.88235294 0.96470588 0.28627451\n",
            "  0.         0.         0.         0.        ]\n",
            " [0.         0.         0.01176471 0.         0.         1.\n",
            "  0.92156863 0.9372549  0.8745098  0.91764706 0.93333333 0.9254902\n",
            "  0.92941176 0.9254902  0.92156863 0.92156863 0.92156863 0.92156863\n",
            "  0.9254902  0.92156863 0.91764706 0.90196078 0.90588235 1.\n",
            "  0.09411765 0.         0.01568627 0.        ]\n",
            " [0.         0.         0.         0.         0.69411765 0.9372549\n",
            "  0.8745098  0.99607843 0.8745098  0.90980392 0.91764706 0.91764706\n",
            "  0.9254902  0.9254902  0.92156863 0.92156863 0.92156863 0.92156863\n",
            "  0.92156863 0.91764706 0.90588235 0.91372549 0.87058824 0.96470588\n",
            "  0.34509804 0.         0.00392157 0.        ]\n",
            " [0.         0.         0.         0.         0.91764706 0.9372549\n",
            "  0.89803922 1.         0.8627451  0.90980392 0.91372549 0.90980392\n",
            "  0.91764706 0.92156863 0.92156863 0.92156863 0.92156863 0.92156863\n",
            "  0.91764706 0.91372549 0.90980392 0.90196078 0.89411765 0.99607843\n",
            "  0.54901961 0.         0.         0.        ]\n",
            " [0.         0.         0.         0.         0.88235294 0.94117647\n",
            "  0.88627451 1.         0.86666667 0.89019608 0.90980392 0.89411765\n",
            "  0.90588235 0.90196078 0.89411765 0.89803922 0.90588235 0.90196078\n",
            "  0.89411765 0.89411765 0.90980392 0.8745098  0.89803922 0.95686275\n",
            "  0.90588235 0.         0.         0.        ]\n",
            " [0.         0.         0.         0.18431373 0.96078431 0.90588235\n",
            "  0.91764706 0.97647059 0.89803922 0.86666667 0.89803922 0.88235294\n",
            "  0.89803922 0.89019608 0.88627451 0.89019608 0.89411765 0.89019608\n",
            "  0.89411765 0.89803922 0.89411765 0.87843137 0.96470588 0.94117647\n",
            "  0.89019608 0.         0.         0.        ]\n",
            " [0.         0.         0.         0.2        0.97254902 0.90196078\n",
            "  0.96078431 0.96470588 0.90196078 0.88627451 0.90196078 0.89019608\n",
            "  0.90196078 0.89803922 0.89411765 0.89803922 0.90196078 0.89411765\n",
            "  0.89411765 0.90588235 0.88235294 0.89019608 0.94901961 0.92941176\n",
            "  1.         0.         0.         0.        ]\n",
            " [0.         0.         0.         0.39607843 0.99215686 0.89803922\n",
            "  0.96862745 0.94509804 0.86666667 0.91372549 0.89411765 0.89019608\n",
            "  0.89803922 0.89411765 0.89019608 0.89411765 0.90196078 0.89019608\n",
            "  0.90196078 0.91764706 0.88235294 0.89803922 0.98431373 0.89803922\n",
            "  0.95294118 0.21568627 0.         0.        ]\n",
            " [0.         0.         0.         0.4        1.         0.89019608\n",
            "  0.94901961 0.94509804 0.86666667 0.91764706 0.8745098  0.90196078\n",
            "  0.89411765 0.90588235 0.89803922 0.90588235 0.90588235 0.89019608\n",
            "  0.89803922 0.94509804 0.85882353 0.9254902  0.99607843 0.88235294\n",
            "  0.98039216 0.65490196 0.         0.        ]\n",
            " [0.         0.         0.         0.35294118 1.         0.89803922\n",
            "  0.9254902  0.90588235 0.87058824 0.9254902  0.8745098  0.90588235\n",
            "  0.89803922 0.90588235 0.89803922 0.90588235 0.90588235 0.89411765\n",
            "  0.87843137 0.96078431 0.85490196 0.95294118 0.9372549  0.89019608\n",
            "  0.95686275 0.68627451 0.         0.        ]\n",
            " [0.         0.         0.         0.83137255 0.98039216 0.88235294\n",
            "  0.9254902  0.97647059 0.89803922 0.92941176 0.8745098  0.90588235\n",
            "  0.89803922 0.90588235 0.89803922 0.90588235 0.90588235 0.90196078\n",
            "  0.86666667 0.95294118 0.88235294 0.97254902 0.90196078 0.9254902\n",
            "  0.91764706 1.         0.00392157 0.        ]\n",
            " [0.         0.         0.         0.96078431 0.95294118 0.90980392\n",
            "  0.95294118 0.85490196 0.89411765 0.93333333 0.87058824 0.90588235\n",
            "  0.89803922 0.90588235 0.89803922 0.90588235 0.90588235 0.90196078\n",
            "  0.87058824 0.92941176 0.92941176 0.98823529 0.89803922 0.9372549\n",
            "  0.94117647 0.8745098  0.         0.        ]\n",
            " [0.         0.         0.10588235 1.         0.92156863 0.94901961\n",
            "  0.92941176 0.84705882 0.90196078 0.9254902  0.87843137 0.89803922\n",
            "  0.89019608 0.91372549 0.91372549 0.91372549 0.90196078 0.89411765\n",
            "  0.87843137 0.90196078 0.96078431 0.96862745 0.86666667 0.95294118\n",
            "  0.9372549  0.98823529 0.         0.        ]\n",
            " [0.         0.         0.34509804 1.         0.90980392 0.97254902\n",
            "  0.9254902  0.81568627 0.91764706 0.90588235 0.8745098  0.89019608\n",
            "  0.88627451 0.91372549 0.90980392 0.90980392 0.90196078 0.89411765\n",
            "  0.87843137 0.87843137 0.92156863 0.91372549 0.91764706 0.96862745\n",
            "  0.92156863 1.         0.         0.        ]\n",
            " [0.         0.         0.3254902  1.         0.88235294 0.98039216\n",
            "  0.92941176 0.87843137 0.9254902  0.89803922 0.88235294 0.88235294\n",
            "  0.89019608 0.92156863 0.89803922 0.90588235 0.90196078 0.90196078\n",
            "  0.89019608 0.86666667 0.89019608 0.86666667 0.9372549  0.98039216\n",
            "  0.90588235 1.         0.         0.        ]\n",
            " [0.         0.         0.07843137 1.         0.87843137 0.97254902\n",
            "  0.91764706 0.88627451 0.90980392 0.87058824 0.88235294 0.87843137\n",
            "  0.90588235 0.93333333 0.88627451 0.90196078 0.89411765 0.90196078\n",
            "  0.90196078 0.86666667 0.89803922 0.88235294 0.95686275 0.96470588\n",
            "  0.90196078 1.         0.         0.        ]\n",
            " [0.         0.         0.37254902 1.         0.85490196 0.94901961\n",
            "  1.         0.90980392 0.88627451 0.87843137 0.89803922 0.89411765\n",
            "  0.89411765 0.90980392 0.89411765 0.89803922 0.90588235 0.91372549\n",
            "  0.90980392 0.88627451 0.86666667 0.87843137 0.96862745 0.95686275\n",
            "  0.89411765 1.         0.         0.        ]\n",
            " [0.         0.         0.65490196 1.         0.83529412 0.92156863\n",
            "  1.         0.31764706 0.96078431 0.98431373 0.93333333 0.9254902\n",
            "  0.90196078 0.89803922 0.90196078 0.89803922 0.90196078 0.90588235\n",
            "  0.93333333 0.94117647 1.         0.75294118 1.         0.9372549\n",
            "  0.89411765 1.         0.09019608 0.        ]\n",
            " [0.         0.         0.67843137 0.94901961 0.87843137 0.91372549\n",
            "  1.         0.         0.53333333 0.88627451 0.9372549  1.\n",
            "  0.89803922 0.9254902  0.9254902  0.91764706 0.91372549 0.89411765\n",
            "  0.98431373 0.97254902 0.78431373 0.31764706 1.         0.92941176\n",
            "  0.88235294 1.         0.39607843 0.        ]\n",
            " [0.         0.         0.6745098  1.         0.88627451 0.91372549\n",
            "  1.         0.         0.         0.         0.         0.\n",
            "  0.03137255 0.08235294 0.08627451 0.08235294 0.07843137 0.05490196\n",
            "  0.         0.         0.         0.         1.         0.93333333\n",
            "  0.89803922 0.96470588 0.69803922 0.        ]\n",
            " [0.         0.         0.0627451  1.         0.9254902  0.93333333\n",
            "  0.98823529 0.         0.         0.         0.         0.\n",
            "  0.         0.         0.         0.         0.         0.\n",
            "  0.         0.         0.         0.         0.87058824 0.95686275\n",
            "  0.87058824 0.99607843 0.46666667 0.        ]\n",
            " [0.         0.         0.         0.11764706 0.89411765 0.94901961\n",
            "  0.63921569 0.         0.         0.         0.         0.00784314\n",
            "  0.01568627 0.02352941 0.01960784 0.01960784 0.01568627 0.01568627\n",
            "  0.00784314 0.         0.00392157 0.         0.59215686 0.98431373\n",
            "  0.92156863 0.70588235 0.         0.        ]\n",
            " [0.         0.         0.         0.         0.91764706 1.\n",
            "  0.74901961 0.         0.04313725 0.         0.         0.\n",
            "  0.         0.         0.         0.         0.         0.\n",
            "  0.         0.         0.01568627 0.         0.40392157 0.96470588\n",
            "  0.96862745 0.28235294 0.         0.        ]\n",
            " [0.         0.         0.         0.00392157 0.37254902 0.30196078\n",
            "  0.20392157 0.         0.01568627 0.         0.         0.\n",
            "  0.         0.         0.         0.         0.         0.\n",
            "  0.         0.         0.01176471 0.         0.32156863 0.92941176\n",
            "  0.90588235 0.2745098  0.         0.        ]]\n"
          ],
          "name": "stdout"
        }
      ]
    },
    {
      "cell_type": "code",
      "metadata": {
        "id": "0RjZ8NHjFr7O",
        "colab": {
          "base_uri": "https://localhost:8080/",
          "height": 219
        },
        "outputId": "3fad989f-f846-4142-e60e-5a664d7ca846"
      },
      "source": [
        "model = keras.Sequential(\n",
        "    [\n",
        "     keras.layers.Flatten(input_shape = (28,28)),\n",
        "     keras.layers.Dense(128, activation= \"relu\"), \n",
        "     keras.layers.Dense(10, activation=\"softmax\")\n",
        "    ]\n",
        ")\n",
        "model.compile(optimizer = \"adam\", loss=\"sparse_categorical_crossentropy\", metrics=[\"accuracy\"])\n",
        "model.fit(train_images, train_labels, epochs = 5)\n",
        "\n"
      ],
      "execution_count": null,
      "outputs": [
        {
          "output_type": "stream",
          "text": [
            "Epoch 1/5\n",
            "1875/1875 [==============================] - 3s 2ms/step - loss: 0.5047 - accuracy: 0.8236\n",
            "Epoch 2/5\n",
            "1875/1875 [==============================] - 3s 2ms/step - loss: 0.3772 - accuracy: 0.8647\n",
            "Epoch 3/5\n",
            "1875/1875 [==============================] - 3s 2ms/step - loss: 0.3407 - accuracy: 0.8751\n",
            "Epoch 4/5\n",
            "1875/1875 [==============================] - 3s 2ms/step - loss: 0.3158 - accuracy: 0.8828\n",
            "Epoch 5/5\n",
            "1875/1875 [==============================] - 3s 2ms/step - loss: 0.2953 - accuracy: 0.8920\n"
          ],
          "name": "stdout"
        },
        {
          "output_type": "execute_result",
          "data": {
            "text/plain": [
              "<tensorflow.python.keras.callbacks.History at 0x7f1d40505e80>"
            ]
          },
          "metadata": {
            "tags": []
          },
          "execution_count": 13
        }
      ]
    },
    {
      "cell_type": "code",
      "metadata": {
        "id": "SQQwhoIiIVo8",
        "colab": {
          "base_uri": "https://localhost:8080/",
          "height": 34
        },
        "outputId": "0f3ef395-f995-4ef6-d7d5-8b80e5d378b5"
      },
      "source": [
        "test_loss, test_acc = model.evaluate(test_images, test_labels)"
      ],
      "execution_count": null,
      "outputs": [
        {
          "output_type": "stream",
          "text": [
            "313/313 [==============================] - 0s 1ms/step - loss: 0.5124 - accuracy: 0.8156\n"
          ],
          "name": "stdout"
        }
      ]
    },
    {
      "cell_type": "code",
      "metadata": {
        "id": "YzlWObxPIh6x",
        "colab": {
          "base_uri": "https://localhost:8080/",
          "height": 34
        },
        "outputId": "2155717e-1cac-4a5f-b867-62e97e250369"
      },
      "source": [
        "print(\"Tested acc\", test_acc)"
      ],
      "execution_count": null,
      "outputs": [
        {
          "output_type": "stream",
          "text": [
            "Tested acc 0.8155999779701233\n"
          ],
          "name": "stdout"
        }
      ]
    },
    {
      "cell_type": "code",
      "metadata": {
        "id": "0_XIUsdTLDuq"
      },
      "source": [
        "prediction = model.predict(test_images)"
      ],
      "execution_count": null,
      "outputs": []
    },
    {
      "cell_type": "code",
      "metadata": {
        "id": "FfnLry2NLJBC",
        "colab": {
          "base_uri": "https://localhost:8080/",
          "height": 35
        },
        "outputId": "bbcb524b-ce84-44a9-9aa3-58f189725594"
      },
      "source": [
        "classes_names[np.argmax(prediction[1])]"
      ],
      "execution_count": null,
      "outputs": [
        {
          "output_type": "execute_result",
          "data": {
            "application/vnd.google.colaboratory.intrinsic+json": {
              "type": "string"
            },
            "text/plain": [
              "'Pullover'"
            ]
          },
          "metadata": {
            "tags": []
          },
          "execution_count": 44
        }
      ]
    },
    {
      "cell_type": "code",
      "metadata": {
        "id": "58T6uvXQL0NC"
      },
      "source": [
        "for i in range(5):\n",
        "  plt.grid(False)\n",
        "  plt.imshow(test_images[i], cmap= plt.cm.binary)\n",
        "  plt.xlabel(\"Actual: \" + classes_names[test_labels[i]])\n",
        "  plt.title(\"Prediction: \" + classes_names[np.argmax(prediction[i])])\n",
        "  plt.show()"
      ],
      "execution_count": null,
      "outputs": []
    }
  ]
}