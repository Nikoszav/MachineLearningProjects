{
  "nbformat": 4,
  "nbformat_minor": 0,
  "metadata": {
    "colab": {
      "name": "SVM.ipynb",
      "provenance": [],
      "toc_visible": true,
      "include_colab_link": true
    },
    "kernelspec": {
      "name": "python3",
      "display_name": "Python 3"
    }
  },
  "cells": [
    {
      "cell_type": "markdown",
      "metadata": {
        "id": "view-in-github",
        "colab_type": "text"
      },
      "source": [
        "<a href=\"https://colab.research.google.com/github/IntroductionToAICW/CW/blob/main/algorithms/SVM.ipynb\" target=\"_parent\"><img src=\"https://colab.research.google.com/assets/colab-badge.svg\" alt=\"Open In Colab\"/></a>"
      ]
    },
    {
      "cell_type": "markdown",
      "metadata": {
        "id": "B1Oh7WWtvXrX"
      },
      "source": [
        "#Import the libraries"
      ]
    },
    {
      "cell_type": "code",
      "metadata": {
        "id": "j5SO8ILG_-uD"
      },
      "source": [
        "import pandas as pd\n",
        "import matplotlib.pyplot as plt\n",
        "import numpy as np\n",
        "\n",
        "from sklearn import svm\n",
        "from sklearn.metrics import confusion_matrix\n",
        "from sklearn.feature_extraction.text import CountVectorizer \n",
        "from sklearn.model_selection import train_test_split, StratifiedKFold, cross_val_score\n",
        "from sklearn.pipeline import make_pipeline, Pipeline\n",
        "from sklearn.model_selection import GridSearchCV\n",
        "from sklearn.metrics import accuracy_score\n",
        "\n",
        "from google.colab import drive\n",
        "\n",
        "import twitterAPI"
      ],
      "execution_count": 1,
      "outputs": []
    },
    {
      "cell_type": "markdown",
      "metadata": {
        "id": "jMYAL3UY1efo"
      },
      "source": [
        "#Import the dataset"
      ]
    },
    {
      "cell_type": "code",
      "metadata": {
        "id": "F0vi1owSuth6",
        "colab": {
          "base_uri": "https://localhost:8080/"
        },
        "outputId": "d1c7300d-9ee1-4acf-9edb-f534ef9005a0"
      },
      "source": [
        "drive.mount('/content/drive')"
      ],
      "execution_count": 2,
      "outputs": [
        {
          "output_type": "stream",
          "text": [
            "Mounted at /content/drive\n"
          ],
          "name": "stdout"
        }
      ]
    },
    {
      "cell_type": "code",
      "metadata": {
        "colab": {
          "base_uri": "https://localhost:8080/",
          "height": 380
        },
        "id": "s2MJ46vjAHRM",
        "outputId": "eba0d997-a0fe-4475-f6f6-76acfc65833b"
      },
      "source": [
        "df = pd.read_pickle(\"/content/drive/My Drive/dataset/valid_df.pkl\")\n",
        "df.head(5)"
      ],
      "execution_count": 3,
      "outputs": [
        {
          "output_type": "execute_result",
          "data": {
            "text/html": [
              "<div>\n",
              "<style scoped>\n",
              "    .dataframe tbody tr th:only-of-type {\n",
              "        vertical-align: middle;\n",
              "    }\n",
              "\n",
              "    .dataframe tbody tr th {\n",
              "        vertical-align: top;\n",
              "    }\n",
              "\n",
              "    .dataframe thead th {\n",
              "        text-align: right;\n",
              "    }\n",
              "</style>\n",
              "<table border=\"1\" class=\"dataframe\">\n",
              "  <thead>\n",
              "    <tr style=\"text-align: right;\">\n",
              "      <th></th>\n",
              "      <th>text</th>\n",
              "      <th>labels</th>\n",
              "      <th>lang</th>\n",
              "      <th>NoHTML_text</th>\n",
              "      <th>ASCII_NoHTML_text</th>\n",
              "      <th>Lemma_NoSal_ASCII_NoHTML_text</th>\n",
              "      <th>NoSW_Lemma_NoSal_ASCII_NoHTML_text</th>\n",
              "      <th>afterProcess</th>\n",
              "    </tr>\n",
              "  </thead>\n",
              "  <tbody>\n",
              "    <tr>\n",
              "      <th>0</th>\n",
              "      <td>#FollowFriday @France_Inte @PKuchly57 @Milipol...</td>\n",
              "      <td>1</td>\n",
              "      <td>en</td>\n",
              "      <td>#FollowFriday @France_Inte @PKuchly57 @Milipol...</td>\n",
              "      <td>for being top engaged members in my community ...</td>\n",
              "      <td>for be top engage member in my community this ...</td>\n",
              "      <td>engage member community week</td>\n",
              "      <td>engage member community week</td>\n",
              "    </tr>\n",
              "    <tr>\n",
              "      <th>1</th>\n",
              "      <td>@Lamb2ja Hey James! How odd :/ Please call our...</td>\n",
              "      <td>1</td>\n",
              "      <td>en</td>\n",
              "      <td>@Lamb2ja Hey James! How odd :/ Please call our...</td>\n",
              "      <td>hey james how odd please call our contact cent...</td>\n",
              "      <td>hey james how odd please call our contact cent...</td>\n",
              "      <td>hey james odd contact centre able assist thanks</td>\n",
              "      <td>hey james odd contact centre able assist thanks</td>\n",
              "    </tr>\n",
              "    <tr>\n",
              "      <th>2</th>\n",
              "      <td>@DespiteOfficial we had a listen last night :)...</td>\n",
              "      <td>1</td>\n",
              "      <td>en</td>\n",
              "      <td>@DespiteOfficial we had a listen last night :)...</td>\n",
              "      <td>we had a listen last night as you bleed is an ...</td>\n",
              "      <td>we have a listen last night a you bleed be an ...</td>\n",
              "      <td>listen night bleed amaze track scotland</td>\n",
              "      <td>listen night bleed amaze track scotland</td>\n",
              "    </tr>\n",
              "    <tr>\n",
              "      <th>3</th>\n",
              "      <td>@97sides CONGRATS :)</td>\n",
              "      <td>1</td>\n",
              "      <td>es</td>\n",
              "      <td>@97sides CONGRATS :)</td>\n",
              "      <td>congrats</td>\n",
              "      <td>congrats</td>\n",
              "      <td>congrats</td>\n",
              "      <td>congrats</td>\n",
              "    </tr>\n",
              "    <tr>\n",
              "      <th>4</th>\n",
              "      <td>yeaaaah yippppy!!!  my accnt verified rqst has...</td>\n",
              "      <td>1</td>\n",
              "      <td>en</td>\n",
              "      <td>yeaaaah yippppy!!!  my accnt verified rqst has...</td>\n",
              "      <td>yeaaaah yippppy my accnt verified rqst has suc...</td>\n",
              "      <td>yeaaaah yippppy my accnt verify rqst have succ...</td>\n",
              "      <td>yeaaaah yippppy accnt verify rqst succeed blue...</td>\n",
              "      <td>yeaaaah yippppy accnt verify rqst succeed blue...</td>\n",
              "    </tr>\n",
              "  </tbody>\n",
              "</table>\n",
              "</div>"
            ],
            "text/plain": [
              "                                                text  ...                                       afterProcess\n",
              "0  #FollowFriday @France_Inte @PKuchly57 @Milipol...  ...                       engage member community week\n",
              "1  @Lamb2ja Hey James! How odd :/ Please call our...  ...    hey james odd contact centre able assist thanks\n",
              "2  @DespiteOfficial we had a listen last night :)...  ...            listen night bleed amaze track scotland\n",
              "3                               @97sides CONGRATS :)  ...                                           congrats\n",
              "4  yeaaaah yippppy!!!  my accnt verified rqst has...  ...  yeaaaah yippppy accnt verify rqst succeed blue...\n",
              "\n",
              "[5 rows x 8 columns]"
            ]
          },
          "metadata": {
            "tags": []
          },
          "execution_count": 3
        }
      ]
    },
    {
      "cell_type": "markdown",
      "metadata": {
        "id": "5vtDX5xZ1k6A"
      },
      "source": [
        "#Split the dataset"
      ]
    },
    {
      "cell_type": "code",
      "metadata": {
        "id": "KeGsrbpFwuWn"
      },
      "source": [
        "X = list(df[\"afterProcess\"])\r\n",
        "y = df[\"labels\"]"
      ],
      "execution_count": 4,
      "outputs": []
    },
    {
      "cell_type": "code",
      "metadata": {
        "id": "ThTmChLw425L"
      },
      "source": [
        "x_train, x_test, y_train, y_test = train_test_split(X, y, test_size=0.33, random_state=42)"
      ],
      "execution_count": 5,
      "outputs": []
    },
    {
      "cell_type": "markdown",
      "metadata": {
        "id": "hFQKMyWj1us_"
      },
      "source": [
        "#Build the model"
      ]
    },
    {
      "cell_type": "code",
      "metadata": {
        "id": "JxLpjsOJRxag"
      },
      "source": [
        "kfolds = StratifiedKFold(n_splits=3, shuffle=True, random_state=1)"
      ],
      "execution_count": 6,
      "outputs": []
    },
    {
      "cell_type": "code",
      "metadata": {
        "id": "wvB8o35XRzX-"
      },
      "source": [
        "classifier = make_pipeline(CountVectorizer(), \n",
        "                            svm.SVC(probability=True, kernel=\"linear\", class_weight=\"balanced\"))\n",
        "\n",
        "model = GridSearchCV(classifier,\n",
        "                        param_grid = {'svc__C': [0.01, 0.1, 1]}, \n",
        "                        cv = kfolds,\n",
        "                        scoring='accuracy',   \n",
        "                        n_jobs=-1,\n",
        "                        verbose=2) \n"
      ],
      "execution_count": 7,
      "outputs": []
    },
    {
      "cell_type": "markdown",
      "metadata": {
        "id": "qvuKIroZ3X1D"
      },
      "source": [
        "#Train the model"
      ]
    },
    {
      "cell_type": "code",
      "metadata": {
        "id": "AXOifTe13XGL",
        "colab": {
          "base_uri": "https://localhost:8080/"
        },
        "outputId": "d0b56645-dcd4-4dbc-d84f-e55867a1a9d7"
      },
      "source": [
        "model.fit(x_train, y_train)"
      ],
      "execution_count": 8,
      "outputs": [
        {
          "output_type": "stream",
          "text": [
            "Fitting 3 folds for each of 3 candidates, totalling 9 fits\n"
          ],
          "name": "stdout"
        },
        {
          "output_type": "stream",
          "text": [
            "[Parallel(n_jobs=-1)]: Using backend LokyBackend with 2 concurrent workers.\n",
            "[Parallel(n_jobs=-1)]: Done   9 out of   9 | elapsed:   36.2s finished\n"
          ],
          "name": "stderr"
        },
        {
          "output_type": "execute_result",
          "data": {
            "text/plain": [
              "GridSearchCV(cv=StratifiedKFold(n_splits=3, random_state=1, shuffle=True),\n",
              "             error_score=nan,\n",
              "             estimator=Pipeline(memory=None,\n",
              "                                steps=[('countvectorizer',\n",
              "                                        CountVectorizer(analyzer='word',\n",
              "                                                        binary=False,\n",
              "                                                        decode_error='strict',\n",
              "                                                        dtype=<class 'numpy.int64'>,\n",
              "                                                        encoding='utf-8',\n",
              "                                                        input='content',\n",
              "                                                        lowercase=True,\n",
              "                                                        max_df=1.0,\n",
              "                                                        max_features=None,\n",
              "                                                        min_df=1,\n",
              "                                                        ngram_range=(1, 1),\n",
              "                                                        preproc...\n",
              "                                            class_weight='balanced', coef0=0.0,\n",
              "                                            decision_function_shape='ovr',\n",
              "                                            degree=3, gamma='scale',\n",
              "                                            kernel='linear', max_iter=-1,\n",
              "                                            probability=True, random_state=None,\n",
              "                                            shrinking=True, tol=0.001,\n",
              "                                            verbose=False))],\n",
              "                                verbose=False),\n",
              "             iid='deprecated', n_jobs=-1, param_grid={'svc__C': [0.01, 0.1, 1]},\n",
              "             pre_dispatch='2*n_jobs', refit=True, return_train_score=False,\n",
              "             scoring='accuracy', verbose=2)"
            ]
          },
          "metadata": {
            "tags": []
          },
          "execution_count": 8
        }
      ]
    },
    {
      "cell_type": "markdown",
      "metadata": {
        "id": "NZOmfRbQGSvL"
      },
      "source": [
        "#Accuracy on training set"
      ]
    },
    {
      "cell_type": "code",
      "metadata": {
        "id": "MDPJj2b_GCwR"
      },
      "source": [
        "y_pred = model.predict(x_train)"
      ],
      "execution_count": 9,
      "outputs": []
    },
    {
      "cell_type": "code",
      "metadata": {
        "colab": {
          "base_uri": "https://localhost:8080/"
        },
        "id": "fRWw4ztfGSvR",
        "outputId": "40790147-e992-43ac-d9b8-f4a372c12d7f"
      },
      "source": [
        "accuracy_score(y_train, y_pred)"
      ],
      "execution_count": 10,
      "outputs": [
        {
          "output_type": "execute_result",
          "data": {
            "text/plain": [
              "0.8450212507589556"
            ]
          },
          "metadata": {
            "tags": []
          },
          "execution_count": 10
        }
      ]
    },
    {
      "cell_type": "markdown",
      "metadata": {
        "id": "D4l8QBasmZMn"
      },
      "source": [
        "#Testing on test set"
      ]
    },
    {
      "cell_type": "code",
      "metadata": {
        "id": "j2gAw_uKGIgw"
      },
      "source": [
        "y_pred = model.predict(x_test)"
      ],
      "execution_count": 11,
      "outputs": []
    },
    {
      "cell_type": "code",
      "metadata": {
        "colab": {
          "base_uri": "https://localhost:8080/"
        },
        "id": "p7vkfmFQfwEl",
        "outputId": "ddb3c976-4862-4ad6-e3f7-09c67c0cca56"
      },
      "source": [
        "accuracy_score(y_test, y_pred)"
      ],
      "execution_count": 12,
      "outputs": [
        {
          "output_type": "execute_result",
          "data": {
            "text/plain": [
              "0.7288135593220338"
            ]
          },
          "metadata": {
            "tags": []
          },
          "execution_count": 12
        }
      ]
    },
    {
      "cell_type": "code",
      "metadata": {
        "id": "7fLP8LumSF29",
        "colab": {
          "base_uri": "https://localhost:8080/"
        },
        "outputId": "af52c630-348e-467f-d3bd-3456e866d5bf"
      },
      "source": [
        "print(model.best_params_)\n",
        "print(model.best_score_)"
      ],
      "execution_count": 13,
      "outputs": [
        {
          "output_type": "stream",
          "text": [
            "{'svc__C': 0.1}\n",
            "0.7219186399514269\n"
          ],
          "name": "stdout"
        }
      ]
    },
    {
      "cell_type": "code",
      "metadata": {
        "id": "W5RigJ6tIuD3",
        "colab": {
          "base_uri": "https://localhost:8080/"
        },
        "outputId": "960b45bf-a25e-4014-b2c8-f21a98806690"
      },
      "source": [
        "y_pred = model.best_estimator_.predict(x_test)\r\n",
        "accuracy_score(y_test,y_pred)"
      ],
      "execution_count": 14,
      "outputs": [
        {
          "output_type": "execute_result",
          "data": {
            "text/plain": [
              "0.7288135593220338"
            ]
          },
          "metadata": {
            "tags": []
          },
          "execution_count": 14
        }
      ]
    },
    {
      "cell_type": "markdown",
      "metadata": {
        "id": "iu7MlyZ_3iBs"
      },
      "source": [
        "#Plot the confusion matrix"
      ]
    },
    {
      "cell_type": "code",
      "metadata": {
        "id": "_nSbCPG4H7vB"
      },
      "source": [
        "def plot_confusion_matrix(cm, names, title='Confusion matrix', cmap=plt.cm.Blues):\n",
        "    plt.imshow(cm, interpolation='nearest', cmap=cmap)\n",
        "    plt.title(title)\n",
        "    plt.colorbar(fraction=0.05)\n",
        "    tick_marks = np.arange(len(names))\n",
        "    plt.xticks(tick_marks, names, rotation=45)\n",
        "    plt.yticks(tick_marks, names)\n",
        "    plt.tight_layout()\n",
        "    plt.ylabel('True label')\n",
        "    plt.xlabel('Predicted label')"
      ],
      "execution_count": 15,
      "outputs": []
    },
    {
      "cell_type": "code",
      "metadata": {
        "id": "_CfynzSZIlfL",
        "colab": {
          "base_uri": "https://localhost:8080/",
          "height": 405
        },
        "outputId": "026a9747-2d67-43d7-f758-7be7de83a3ec"
      },
      "source": [
        "# plot the confusion matrix\n",
        "cm = confusion_matrix(y_test, y_pred)\n",
        "np.set_printoptions(precision=2)\n",
        "print(cm)\n",
        "#normalised confusion matrix\n",
        "cm_normalized = cm.astype('float') / cm.sum(axis=1)[:, np.newaxis]\n",
        "print('Normalized confusion matrix')\n",
        "print(cm_normalized)\n",
        "plt.figure()\n",
        "# check that the cm is labelled correctly\n",
        "plot_confusion_matrix(cm_normalized, ['Positive', 'Negative'], title='Normalized confusion matrix')\n",
        "plt.show()"
      ],
      "execution_count": 16,
      "outputs": [
        {
          "output_type": "stream",
          "text": [
            "[[1214  351]\n",
            " [ 529 1151]]\n",
            "Normalized confusion matrix\n",
            "[[0.78 0.22]\n",
            " [0.31 0.69]]\n"
          ],
          "name": "stdout"
        },
        {
          "output_type": "display_data",
          "data": {
            "image/png": "[encoded data removed]",
            "text/plain": [
              "<Figure size 432x288 with 2 Axes>"
            ]
          },
          "metadata": {
            "tags": [],
            "needs_background": "light"
          }
        }
      ]
    },
    {
      "cell_type": "markdown",
      "metadata": {
        "id": "J-nK9hndzMVE"
      },
      "source": [
        "#Connection and test with Twitter API"
      ]
    },
    {
      "cell_type": "code",
      "metadata": {
        "id": "W2929liqsClS"
      },
      "source": [
        "search_words = \"#trump\"\r\n",
        "date_since = \"2020-11-01\"\r\n",
        "number_of_tweets = 10\r\n",
        "tweets = twitterAPI.main(search_words, date_since, number_of_tweets)"
      ],
      "execution_count": 17,
      "outputs": []
    },
    {
      "cell_type": "code",
      "metadata": {
        "id": "ONTDQxI8sClT"
      },
      "source": [
        "tweetsA = [tweet.text for tweet in tweets]\r\n",
        "tweetsA.append(\"I love love love love\")\r\n",
        "tweetsA.append(\"I hate you hate hate\")"
      ],
      "execution_count": 18,
      "outputs": []
    },
    {
      "cell_type": "code",
      "metadata": {
        "id": "WqypDvoFlx66"
      },
      "source": [
        "y_test = model.predict(tweetsA)"
      ],
      "execution_count": 19,
      "outputs": []
    },
    {
      "cell_type": "code",
      "metadata": {
        "colab": {
          "base_uri": "https://localhost:8080/"
        },
        "id": "tT_63UipsClV",
        "outputId": "ec536b84-91fa-4eac-927e-26a4b852920f"
      },
      "source": [
        "for i in y_test:\r\n",
        "  if i == 0:\r\n",
        "    print(\"Negative\")\r\n",
        "  else:\r\n",
        "    print(\"Positive\")"
      ],
      "execution_count": 20,
      "outputs": [
        {
          "output_type": "stream",
          "text": [
            "Positive\n",
            "Negative\n",
            "Positive\n",
            "Negative\n",
            "Negative\n",
            "Positive\n",
            "Positive\n",
            "Positive\n",
            "Positive\n",
            "Positive\n",
            "Positive\n",
            "Negative\n"
          ],
          "name": "stdout"
        }
      ]
    }
  ]
}