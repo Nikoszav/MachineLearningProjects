{
  "nbformat": 4,
  "nbformat_minor": 0,
  "metadata": {
    "colab": {
      "name": "naiveBayesClassifier.ipynb",
      "provenance": [],
      "toc_visible": true,
      "authorship_tag": "ABX9TyNG/jkVkdRGgi0aawYAJXFs",
      "include_colab_link": true
    },
    "kernelspec": {
      "name": "python3",
      "display_name": "Python 3"
    }
  },
  "cells": [
    {
      "cell_type": "markdown",
      "metadata": {
        "id": "view-in-github",
        "colab_type": "text"
      },
      "source": [
        "<a href=\"https://colab.research.google.com/github/IntroductionToAICW/CW/blob/main/algorithms/naiveBayesClassifier.ipynb\" target=\"_parent\"><img src=\"https://colab.research.google.com/assets/colab-badge.svg\" alt=\"Open In Colab\"/></a>"
      ]
    },
    {
      "cell_type": "markdown",
      "metadata": {
        "id": "3c0zfXQHlGh4"
      },
      "source": [
        "#Import the libraries"
      ]
    },
    {
      "cell_type": "code",
      "metadata": {
        "id": "HBiwLGVHgZ2c"
      },
      "source": [
        "import matplotlib.pyplot as plt\n",
        "import pandas as pd\n",
        "import numpy as np\n",
        "\n",
        "from sklearn.pipeline import Pipeline\n",
        "from sklearn.naive_bayes import MultinomialNB\n",
        "from sklearn.feature_extraction.text import CountVectorizer, TfidfTransformer\n",
        "from sklearn.model_selection import train_test_split, GridSearchCV\n",
        "from sklearn.metrics import classification_report\n",
        "from sklearn.metrics import confusion_matrix\n",
        "from sklearn.metrics import accuracy_score\n",
        "\n",
        "from google.colab import drive\n",
        "\n",
        "import twitterAPI"
      ],
      "execution_count": 1,
      "outputs": []
    },
    {
      "cell_type": "markdown",
      "metadata": {
        "id": "ZXJsNgC-jx2i"
      },
      "source": [
        "#Import the dataset"
      ]
    },
    {
      "cell_type": "code",
      "metadata": {
        "id": "MhEoXlIvgA4h",
        "colab": {
          "base_uri": "https://localhost:8080/"
        },
        "outputId": "191527e2-f608-4d3c-fbcb-75233108d1bb"
      },
      "source": [
        "drive.mount('/content/drive')"
      ],
      "execution_count": 2,
      "outputs": [
        {
          "output_type": "stream",
          "text": [
            "Mounted at /content/drive\n"
          ],
          "name": "stdout"
        }
      ]
    },
    {
      "cell_type": "code",
      "metadata": {
        "id": "YY86-8P_gPaN",
        "colab": {
          "base_uri": "https://localhost:8080/",
          "height": 380
        },
        "outputId": "a2520cb0-0a30-4c41-e353-30d4e755fcda"
      },
      "source": [
        "df = pd.read_pickle(\"/content/drive/My Drive/dataset/valid_df.pkl\")\r\n",
        "df.head(5)"
      ],
      "execution_count": 3,
      "outputs": [
        {
          "output_type": "execute_result",
          "data": {
            "text/html": [
              "<div>\n",
              "<style scoped>\n",
              "    .dataframe tbody tr th:only-of-type {\n",
              "        vertical-align: middle;\n",
              "    }\n",
              "\n",
              "    .dataframe tbody tr th {\n",
              "        vertical-align: top;\n",
              "    }\n",
              "\n",
              "    .dataframe thead th {\n",
              "        text-align: right;\n",
              "    }\n",
              "</style>\n",
              "<table border=\"1\" class=\"dataframe\">\n",
              "  <thead>\n",
              "    <tr style=\"text-align: right;\">\n",
              "      <th></th>\n",
              "      <th>text</th>\n",
              "      <th>labels</th>\n",
              "      <th>lang</th>\n",
              "      <th>NoHTML_text</th>\n",
              "      <th>ASCII_NoHTML_text</th>\n",
              "      <th>Lemma_NoSal_ASCII_NoHTML_text</th>\n",
              "      <th>NoSW_Lemma_NoSal_ASCII_NoHTML_text</th>\n",
              "      <th>afterProcess</th>\n",
              "    </tr>\n",
              "  </thead>\n",
              "  <tbody>\n",
              "    <tr>\n",
              "      <th>0</th>\n",
              "      <td>#FollowFriday @France_Inte @PKuchly57 @Milipol...</td>\n",
              "      <td>1</td>\n",
              "      <td>en</td>\n",
              "      <td>#FollowFriday @France_Inte @PKuchly57 @Milipol...</td>\n",
              "      <td>for being top engaged members in my community ...</td>\n",
              "      <td>for be top engage member in my community this ...</td>\n",
              "      <td>engage member community week</td>\n",
              "      <td>engage member community week</td>\n",
              "    </tr>\n",
              "    <tr>\n",
              "      <th>1</th>\n",
              "      <td>@Lamb2ja Hey James! How odd :/ Please call our...</td>\n",
              "      <td>1</td>\n",
              "      <td>en</td>\n",
              "      <td>@Lamb2ja Hey James! How odd :/ Please call our...</td>\n",
              "      <td>hey james how odd please call our contact cent...</td>\n",
              "      <td>hey james how odd please call our contact cent...</td>\n",
              "      <td>hey james odd contact centre able assist thanks</td>\n",
              "      <td>hey james odd contact centre able assist thanks</td>\n",
              "    </tr>\n",
              "    <tr>\n",
              "      <th>2</th>\n",
              "      <td>@DespiteOfficial we had a listen last night :)...</td>\n",
              "      <td>1</td>\n",
              "      <td>en</td>\n",
              "      <td>@DespiteOfficial we had a listen last night :)...</td>\n",
              "      <td>we had a listen last night as you bleed is an ...</td>\n",
              "      <td>we have a listen last night a you bleed be an ...</td>\n",
              "      <td>listen night bleed amaze track scotland</td>\n",
              "      <td>listen night bleed amaze track scotland</td>\n",
              "    </tr>\n",
              "    <tr>\n",
              "      <th>3</th>\n",
              "      <td>@97sides CONGRATS :)</td>\n",
              "      <td>1</td>\n",
              "      <td>es</td>\n",
              "      <td>@97sides CONGRATS :)</td>\n",
              "      <td>congrats</td>\n",
              "      <td>congrats</td>\n",
              "      <td>congrats</td>\n",
              "      <td>congrats</td>\n",
              "    </tr>\n",
              "    <tr>\n",
              "      <th>4</th>\n",
              "      <td>yeaaaah yippppy!!!  my accnt verified rqst has...</td>\n",
              "      <td>1</td>\n",
              "      <td>en</td>\n",
              "      <td>yeaaaah yippppy!!!  my accnt verified rqst has...</td>\n",
              "      <td>yeaaaah yippppy my accnt verified rqst has suc...</td>\n",
              "      <td>yeaaaah yippppy my accnt verify rqst have succ...</td>\n",
              "      <td>yeaaaah yippppy accnt verify rqst succeed blue...</td>\n",
              "      <td>yeaaaah yippppy accnt verify rqst succeed blue...</td>\n",
              "    </tr>\n",
              "  </tbody>\n",
              "</table>\n",
              "</div>"
            ],
            "text/plain": [
              "                                                text  ...                                       afterProcess\n",
              "0  #FollowFriday @France_Inte @PKuchly57 @Milipol...  ...                       engage member community week\n",
              "1  @Lamb2ja Hey James! How odd :/ Please call our...  ...    hey james odd contact centre able assist thanks\n",
              "2  @DespiteOfficial we had a listen last night :)...  ...            listen night bleed amaze track scotland\n",
              "3                               @97sides CONGRATS :)  ...                                           congrats\n",
              "4  yeaaaah yippppy!!!  my accnt verified rqst has...  ...  yeaaaah yippppy accnt verify rqst succeed blue...\n",
              "\n",
              "[5 rows x 8 columns]"
            ]
          },
          "metadata": {
            "tags": []
          },
          "execution_count": 3
        }
      ]
    },
    {
      "cell_type": "markdown",
      "metadata": {
        "id": "YmIu3_EWrNsT"
      },
      "source": [
        "#Split the dataset"
      ]
    },
    {
      "cell_type": "code",
      "metadata": {
        "id": "VdbizeF5nY6H"
      },
      "source": [
        "X = list(df[\"afterProcess\"])\r\n",
        "y = df[\"labels\"]"
      ],
      "execution_count": 4,
      "outputs": []
    },
    {
      "cell_type": "code",
      "metadata": {
        "id": "qR_pIvxTEOzF"
      },
      "source": [
        "x_train, x_test, y_train, y_test = train_test_split(X, y, test_size=0.33, random_state=42)"
      ],
      "execution_count": 5,
      "outputs": []
    },
    {
      "cell_type": "markdown",
      "metadata": {
        "id": "2ZwgoUjjrekT"
      },
      "source": [
        "#Build the model"
      ]
    },
    {
      "cell_type": "code",
      "metadata": {
        "id": "lHTBjEDGDHza"
      },
      "source": [
        "classifier = Pipeline([('vect', CountVectorizer()),\n",
        "                     ('tfidf', TfidfTransformer()),\n",
        "                     ('clf', MultinomialNB())])\n",
        "tuned_parameters = {\n",
        "    'vect__ngram_range': [(1, 1), (1, 2), (2, 2)],\n",
        "    'tfidf__use_idf': (True, False),\n",
        "    'tfidf__norm': ('l1', 'l2'),\n",
        "    'clf__alpha': [1, 1e-1, 1e-2]\n",
        "}\n",
        "model = GridSearchCV(classifier, tuned_parameters, cv=10, verbose=1)"
      ],
      "execution_count": 6,
      "outputs": []
    },
    {
      "cell_type": "markdown",
      "metadata": {
        "id": "x0id_GN93RrY"
      },
      "source": [
        "#Train the model"
      ]
    },
    {
      "cell_type": "code",
      "metadata": {
        "id": "QnXFBNDc31kb",
        "colab": {
          "base_uri": "https://localhost:8080/"
        },
        "outputId": "e19f1a62-3765-4f99-c271-70a82b8fc450"
      },
      "source": [
        "model.fit(x_train, y_train)"
      ],
      "execution_count": 7,
      "outputs": [
        {
          "output_type": "stream",
          "text": [
            "Fitting 10 folds for each of 36 candidates, totalling 360 fits\n"
          ],
          "name": "stdout"
        },
        {
          "output_type": "stream",
          "text": [
            "[Parallel(n_jobs=1)]: Using backend SequentialBackend with 1 concurrent workers.\n",
            "[Parallel(n_jobs=1)]: Done 360 out of 360 | elapsed:   34.0s finished\n"
          ],
          "name": "stderr"
        },
        {
          "output_type": "execute_result",
          "data": {
            "text/plain": [
              "GridSearchCV(cv=10, error_score=nan,\n",
              "             estimator=Pipeline(memory=None,\n",
              "                                steps=[('vect',\n",
              "                                        CountVectorizer(analyzer='word',\n",
              "                                                        binary=False,\n",
              "                                                        decode_error='strict',\n",
              "                                                        dtype=<class 'numpy.int64'>,\n",
              "                                                        encoding='utf-8',\n",
              "                                                        input='content',\n",
              "                                                        lowercase=True,\n",
              "                                                        max_df=1.0,\n",
              "                                                        max_features=None,\n",
              "                                                        min_df=1,\n",
              "                                                        ngram_range=(1, 1),\n",
              "                                                        preprocessor=None,\n",
              "                                                        stop_words=None,\n",
              "                                                        strip_accents=None,\n",
              "                                                        token_pattern='(?u...\n",
              "                                                         sublinear_tf=False,\n",
              "                                                         use_idf=True)),\n",
              "                                       ('clf',\n",
              "                                        MultinomialNB(alpha=1.0,\n",
              "                                                      class_prior=None,\n",
              "                                                      fit_prior=True))],\n",
              "                                verbose=False),\n",
              "             iid='deprecated', n_jobs=None,\n",
              "             param_grid={'clf__alpha': [1, 0.1, 0.01],\n",
              "                         'tfidf__norm': ('l1', 'l2'),\n",
              "                         'tfidf__use_idf': (True, False),\n",
              "                         'vect__ngram_range': [(1, 1), (1, 2), (2, 2)]},\n",
              "             pre_dispatch='2*n_jobs', refit=True, return_train_score=False,\n",
              "             scoring=None, verbose=1)"
            ]
          },
          "metadata": {
            "tags": []
          },
          "execution_count": 7
        }
      ]
    },
    {
      "cell_type": "markdown",
      "metadata": {
        "id": "NZOmfRbQGSvL"
      },
      "source": [
        "#Accuracy on training set"
      ]
    },
    {
      "cell_type": "code",
      "metadata": {
        "id": "MDPJj2b_GCwR"
      },
      "source": [
        "y_pred = model.predict(x_train)"
      ],
      "execution_count": 8,
      "outputs": []
    },
    {
      "cell_type": "code",
      "metadata": {
        "id": "fRWw4ztfGSvR",
        "colab": {
          "base_uri": "https://localhost:8080/"
        },
        "outputId": "19500b27-0656-473c-9f57-dddde688822e"
      },
      "source": [
        "accuracy_score(y_train, y_pred)"
      ],
      "execution_count": 9,
      "outputs": [
        {
          "output_type": "execute_result",
          "data": {
            "text/plain": [
              "0.9304796599878568"
            ]
          },
          "metadata": {
            "tags": []
          },
          "execution_count": 9
        }
      ]
    },
    {
      "cell_type": "markdown",
      "metadata": {
        "id": "D4l8QBasmZMn"
      },
      "source": [
        "#Testing on test set"
      ]
    },
    {
      "cell_type": "code",
      "metadata": {
        "id": "j2gAw_uKGIgw"
      },
      "source": [
        "y_pred = model.predict(x_test)"
      ],
      "execution_count": 10,
      "outputs": []
    },
    {
      "cell_type": "code",
      "metadata": {
        "colab": {
          "base_uri": "https://localhost:8080/"
        },
        "id": "p7vkfmFQfwEl",
        "outputId": "81f90109-291c-499e-98c8-13fcd4041a15"
      },
      "source": [
        "accuracy_score(y_test, y_pred)"
      ],
      "execution_count": 11,
      "outputs": [
        {
          "output_type": "execute_result",
          "data": {
            "text/plain": [
              "0.7429892141756549"
            ]
          },
          "metadata": {
            "tags": []
          },
          "execution_count": 11
        }
      ]
    },
    {
      "cell_type": "code",
      "metadata": {
        "id": "9jm2KoO_4lNm",
        "colab": {
          "base_uri": "https://localhost:8080/"
        },
        "outputId": "2c18313d-e0a3-49ca-a3c0-5ad0ebb3b40d"
      },
      "source": [
        "print(model.best_params_)\r\n",
        "print(model.best_score_)"
      ],
      "execution_count": 12,
      "outputs": [
        {
          "output_type": "stream",
          "text": [
            "{'clf__alpha': 1, 'tfidf__norm': 'l2', 'tfidf__use_idf': False, 'vect__ngram_range': (1, 2)}\n",
            "0.7378557822250715\n"
          ],
          "name": "stdout"
        }
      ]
    },
    {
      "cell_type": "markdown",
      "metadata": {
        "id": "xRcbYwZYm1X_"
      },
      "source": [
        "#Plot the confusion matrix"
      ]
    },
    {
      "cell_type": "code",
      "metadata": {
        "id": "zJiSK1FimhXH"
      },
      "source": [
        "def plot_confusion_matrix(cm, names, title='Confusion matrix', cmap=plt.cm.Blues):\r\n",
        "    plt.imshow(cm, interpolation='nearest', cmap=cmap)\r\n",
        "    plt.title(title)\r\n",
        "    plt.colorbar(fraction=0.05)\r\n",
        "    tick_marks = np.arange(len(names))\r\n",
        "    plt.xticks(tick_marks, names, rotation=45)\r\n",
        "    plt.yticks(tick_marks, names)\r\n",
        "    plt.tight_layout()\r\n",
        "    plt.ylabel('True label')\r\n",
        "    plt.xlabel('Predicted label')"
      ],
      "execution_count": 13,
      "outputs": []
    },
    {
      "cell_type": "code",
      "metadata": {
        "id": "9QTCWgCBmZdo",
        "colab": {
          "base_uri": "https://localhost:8080/",
          "height": 405
        },
        "outputId": "bed65237-eb20-4e4e-bbf0-5e588bb69a59"
      },
      "source": [
        "# plot the confusion matrix\r\n",
        "cm = confusion_matrix(y_test, y_pred)\r\n",
        "np.set_printoptions(precision=2)\r\n",
        "print(cm)\r\n",
        "#normalised confusion matrix\r\n",
        "cm_normalized = cm.astype('float') / cm.sum(axis=1)[:, np.newaxis]\r\n",
        "print('Normalized confusion matrix')\r\n",
        "print(cm_normalized)\r\n",
        "plt.figure()\r\n",
        "# check that the cm is labelled correctly\r\n",
        "plot_confusion_matrix(cm_normalized, ['Positive', 'Negative'], title='Normalized confusion matrix')\r\n",
        "plt.show()"
      ],
      "execution_count": 14,
      "outputs": [
        {
          "output_type": "stream",
          "text": [
            "[[1141  424]\n",
            " [ 410 1270]]\n",
            "Normalized confusion matrix\n",
            "[[0.73 0.27]\n",
            " [0.24 0.76]]\n"
          ],
          "name": "stdout"
        },
        {
          "output_type": "display_data",
          "data": {
            "image/png": "[encoded data removed]",
            "text/plain": [
              "<Figure size 432x288 with 2 Axes>"
            ]
          },
          "metadata": {
            "tags": [],
            "needs_background": "light"
          }
        }
      ]
    },
    {
      "cell_type": "markdown",
      "metadata": {
        "id": "J-nK9hndzMVE"
      },
      "source": [
        "#Connection and test with Twitter API"
      ]
    },
    {
      "cell_type": "code",
      "metadata": {
        "id": "W2929liqsClS"
      },
      "source": [
        "search_words = \"#trump\"\r\n",
        "date_since = \"2020-11-01\"\r\n",
        "number_of_tweets = 10\r\n",
        "tweets = twitterAPI.main(search_words, date_since, number_of_tweets)"
      ],
      "execution_count": 15,
      "outputs": []
    },
    {
      "cell_type": "code",
      "metadata": {
        "id": "ONTDQxI8sClT"
      },
      "source": [
        "tweetsA = [tweet.text for tweet in tweets]\r\n",
        "tweetsA.append(\"I love love love love\")\r\n",
        "tweetsA.append(\"I hate you hate hate\")"
      ],
      "execution_count": 16,
      "outputs": []
    },
    {
      "cell_type": "code",
      "metadata": {
        "id": "WqypDvoFlx66"
      },
      "source": [
        "y_test = model.predict(tweetsA)"
      ],
      "execution_count": 17,
      "outputs": []
    },
    {
      "cell_type": "code",
      "metadata": {
        "colab": {
          "base_uri": "https://localhost:8080/"
        },
        "id": "tT_63UipsClV",
        "outputId": "d24c9be0-bc10-41db-d814-b1cfe376383e"
      },
      "source": [
        "for i in y_test:\r\n",
        "  if i == 0:\r\n",
        "    print(\"Negative\")\r\n",
        "  else:\r\n",
        "    print(\"Positive\")"
      ],
      "execution_count": 18,
      "outputs": [
        {
          "output_type": "stream",
          "text": [
            "Positive\n",
            "Positive\n",
            "Positive\n",
            "Negative\n",
            "Positive\n",
            "Positive\n",
            "Positive\n",
            "Positive\n",
            "Negative\n",
            "Positive\n",
            "Positive\n",
            "Negative\n"
          ],
          "name": "stdout"
        }
      ]
    }
  ]
}