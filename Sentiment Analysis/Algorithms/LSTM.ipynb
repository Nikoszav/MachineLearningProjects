{
  "nbformat": 4,
  "nbformat_minor": 0,
  "metadata": {
    "colab": {
      "name": "LSTM.ipynb",
      "provenance": [],
      "toc_visible": true,
      "authorship_tag": "ABX9TyMWKNjhZI52O/LkAE2houEa",
      "include_colab_link": true
    },
    "kernelspec": {
      "name": "python3",
      "display_name": "Python 3"
    }
  },
  "cells": [
    {
      "cell_type": "markdown",
      "metadata": {
        "id": "view-in-github",
        "colab_type": "text"
      },
      "source": [
        "<a href=\"https://colab.research.google.com/github/IntroductionToAICW/CW/blob/main/algorithms/LSTM.ipynb\" target=\"_parent\"><img src=\"https://colab.research.google.com/assets/colab-badge.svg\" alt=\"Open In Colab\"/></a>"
      ]
    },
    {
      "cell_type": "markdown",
      "metadata": {
        "id": "IhXxfbzbldvV"
      },
      "source": [
        "#Import Libraries"
      ]
    },
    {
      "cell_type": "code",
      "metadata": {
        "id": "NqkgfZyXWS7F"
      },
      "source": [
        "import tensorflow as tf\r\n",
        "from tensorflow import keras\r\n",
        "import pandas as pd\r\n",
        "import numpy as np\r\n",
        "import re\r\n",
        "import collections\r\n",
        "import matplotlib.pyplot as plt\r\n",
        "from pathlib import Path\r\n",
        "from sklearn.model_selection import train_test_split\r\n",
        "from nltk.corpus import stopwords\r\n",
        "from keras.preprocessing.text import Tokenizer\r\n",
        "from keras.preprocessing.sequence import pad_sequences\r\n",
        "from keras.utils.np_utils import to_categorical\r\n",
        "from sklearn.preprocessing import LabelEncoder\r\n",
        "from keras import models\r\n",
        "from keras import layers\r\n",
        "from keras import regularizers\r\n",
        "from keras.utils.vis_utils import plot_model\r\n",
        "\r\n",
        "from google.colab import drive\r\n",
        "import twitterAPI"
      ],
      "execution_count": 1,
      "outputs": []
    },
    {
      "cell_type": "markdown",
      "metadata": {
        "id": "of9MroN1l3pJ"
      },
      "source": [
        "#Import dataset"
      ]
    },
    {
      "cell_type": "code",
      "metadata": {
        "id": "J1CP1Tv_J8nH",
        "colab": {
          "base_uri": "https://localhost:8080/"
        },
        "outputId": "f8778282-6373-477d-e3f9-e377b156bb34"
      },
      "source": [
        "drive.mount('/content/drive')"
      ],
      "execution_count": 2,
      "outputs": [
        {
          "output_type": "stream",
          "text": [
            "Mounted at /content/drive\n"
          ],
          "name": "stdout"
        }
      ]
    },
    {
      "cell_type": "code",
      "metadata": {
        "colab": {
          "base_uri": "https://localhost:8080/",
          "height": 380
        },
        "id": "BfVj18mVUVRe",
        "outputId": "f3dc2f6c-f6bc-4d62-ba5e-850a52c099e3"
      },
      "source": [
        "#put the file path below\r\n",
        "df = pd.read_pickle(\"/content/drive/My Drive/dataset/valid_df.pkl\")\r\n",
        "df.head(5)"
      ],
      "execution_count": 3,
      "outputs": [
        {
          "output_type": "execute_result",
          "data": {
            "text/html": [
              "<div>\n",
              "<style scoped>\n",
              "    .dataframe tbody tr th:only-of-type {\n",
              "        vertical-align: middle;\n",
              "    }\n",
              "\n",
              "    .dataframe tbody tr th {\n",
              "        vertical-align: top;\n",
              "    }\n",
              "\n",
              "    .dataframe thead th {\n",
              "        text-align: right;\n",
              "    }\n",
              "</style>\n",
              "<table border=\"1\" class=\"dataframe\">\n",
              "  <thead>\n",
              "    <tr style=\"text-align: right;\">\n",
              "      <th></th>\n",
              "      <th>text</th>\n",
              "      <th>labels</th>\n",
              "      <th>lang</th>\n",
              "      <th>NoHTML_text</th>\n",
              "      <th>ASCII_NoHTML_text</th>\n",
              "      <th>Lemma_NoSal_ASCII_NoHTML_text</th>\n",
              "      <th>NoSW_Lemma_NoSal_ASCII_NoHTML_text</th>\n",
              "      <th>afterProcess</th>\n",
              "    </tr>\n",
              "  </thead>\n",
              "  <tbody>\n",
              "    <tr>\n",
              "      <th>0</th>\n",
              "      <td>#FollowFriday @France_Inte @PKuchly57 @Milipol...</td>\n",
              "      <td>1</td>\n",
              "      <td>en</td>\n",
              "      <td>#FollowFriday @France_Inte @PKuchly57 @Milipol...</td>\n",
              "      <td>for being top engaged members in my community ...</td>\n",
              "      <td>for be top engage member in my community this ...</td>\n",
              "      <td>engage member community week</td>\n",
              "      <td>engage member community week</td>\n",
              "    </tr>\n",
              "    <tr>\n",
              "      <th>1</th>\n",
              "      <td>@Lamb2ja Hey James! How odd :/ Please call our...</td>\n",
              "      <td>1</td>\n",
              "      <td>en</td>\n",
              "      <td>@Lamb2ja Hey James! How odd :/ Please call our...</td>\n",
              "      <td>hey james how odd please call our contact cent...</td>\n",
              "      <td>hey james how odd please call our contact cent...</td>\n",
              "      <td>hey james odd contact centre able assist thanks</td>\n",
              "      <td>hey james odd contact centre able assist thanks</td>\n",
              "    </tr>\n",
              "    <tr>\n",
              "      <th>2</th>\n",
              "      <td>@DespiteOfficial we had a listen last night :)...</td>\n",
              "      <td>1</td>\n",
              "      <td>en</td>\n",
              "      <td>@DespiteOfficial we had a listen last night :)...</td>\n",
              "      <td>we had a listen last night as you bleed is an ...</td>\n",
              "      <td>we have a listen last night a you bleed be an ...</td>\n",
              "      <td>listen night bleed amaze track scotland</td>\n",
              "      <td>listen night bleed amaze track scotland</td>\n",
              "    </tr>\n",
              "    <tr>\n",
              "      <th>3</th>\n",
              "      <td>@97sides CONGRATS :)</td>\n",
              "      <td>1</td>\n",
              "      <td>es</td>\n",
              "      <td>@97sides CONGRATS :)</td>\n",
              "      <td>congrats</td>\n",
              "      <td>congrats</td>\n",
              "      <td>congrats</td>\n",
              "      <td>congrats</td>\n",
              "    </tr>\n",
              "    <tr>\n",
              "      <th>4</th>\n",
              "      <td>yeaaaah yippppy!!!  my accnt verified rqst has...</td>\n",
              "      <td>1</td>\n",
              "      <td>en</td>\n",
              "      <td>yeaaaah yippppy!!!  my accnt verified rqst has...</td>\n",
              "      <td>yeaaaah yippppy my accnt verified rqst has suc...</td>\n",
              "      <td>yeaaaah yippppy my accnt verify rqst have succ...</td>\n",
              "      <td>yeaaaah yippppy accnt verify rqst succeed blue...</td>\n",
              "      <td>yeaaaah yippppy accnt verify rqst succeed blue...</td>\n",
              "    </tr>\n",
              "  </tbody>\n",
              "</table>\n",
              "</div>"
            ],
            "text/plain": [
              "                                                text  ...                                       afterProcess\n",
              "0  #FollowFriday @France_Inte @PKuchly57 @Milipol...  ...                       engage member community week\n",
              "1  @Lamb2ja Hey James! How odd :/ Please call our...  ...    hey james odd contact centre able assist thanks\n",
              "2  @DespiteOfficial we had a listen last night :)...  ...            listen night bleed amaze track scotland\n",
              "3                               @97sides CONGRATS :)  ...                                           congrats\n",
              "4  yeaaaah yippppy!!!  my accnt verified rqst has...  ...  yeaaaah yippppy accnt verify rqst succeed blue...\n",
              "\n",
              "[5 rows x 8 columns]"
            ]
          },
          "metadata": {
            "tags": []
          },
          "execution_count": 3
        }
      ]
    },
    {
      "cell_type": "code",
      "metadata": {
        "id": "ZuLX148NUaLO"
      },
      "source": [
        "train, test = train_test_split(df, test_size=0.2, random_state=1)\r\n",
        "X_train = train['afterProcess'].values\r\n",
        "X_test = test['afterProcess'].values\r\n",
        "y_train = train['labels']\r\n",
        "y_test = test['labels']"
      ],
      "execution_count": 4,
      "outputs": []
    },
    {
      "cell_type": "markdown",
      "metadata": {
        "id": "UNkGldY0mbMj"
      },
      "source": [
        "#Define the hyperparameters"
      ]
    },
    {
      "cell_type": "code",
      "metadata": {
        "id": "xnnukKA_Ybe1"
      },
      "source": [
        "nb_words = 10000  # the total number of words \r\n",
        "max_len = 24  # Maximum number of words in a sequence"
      ],
      "execution_count": 5,
      "outputs": []
    },
    {
      "cell_type": "markdown",
      "metadata": {
        "id": "pSKrXYGUmfjs"
      },
      "source": [
        "#Preprocessing"
      ]
    },
    {
      "cell_type": "code",
      "metadata": {
        "id": "FWujBJcyWPP2"
      },
      "source": [
        "#basic preprocessing filtering lowecasing and padding the sentences \r\n",
        "tk = Tokenizer(num_words=nb_words, filters='!\"#$%&()*+,-./:;<=>?@[\\]^_`{\"}~\\t\\n',lower=True, split=\" \")\r\n",
        "tk.fit_on_texts(X_train)\r\n",
        "tk.fit_on_texts(X_test)\r\n",
        "X_train = tk.texts_to_sequences(X_train)\r\n",
        "X_test = tk.texts_to_sequences(X_test)\r\n",
        "X_train = pad_sequences(X_train, maxlen=max_len)\r\n",
        "X_test = pad_sequences(X_test, maxlen=max_len)"
      ],
      "execution_count": 6,
      "outputs": []
    },
    {
      "cell_type": "code",
      "metadata": {
        "id": "Qa7JOf3C9Kg-",
        "colab": {
          "base_uri": "https://localhost:8080/"
        },
        "outputId": "8856eed8-2c13-488d-c126-7c9ff57a08a2"
      },
      "source": [
        "X_train[0]"
      ],
      "execution_count": 7,
      "outputs": [
        {
          "output_type": "execute_result",
          "data": {
            "text/plain": [
              "array([ 0,  0,  0,  0,  0,  0,  0,  0,  0,  0,  0,  0,  0,  0,  0,  0,  0,\n",
              "        0,  0,  0,  0,  0,  0, 64], dtype=int32)"
            ]
          },
          "metadata": {
            "tags": []
          },
          "execution_count": 7
        }
      ]
    },
    {
      "cell_type": "code",
      "metadata": {
        "id": "tCXshR9IYoiU"
      },
      "source": [
        "X_train_emb, X_valid_emb, y_train_emb, y_valid_emb = train_test_split(X_train, y_train, test_size=0.1, random_state=37)"
      ],
      "execution_count": 8,
      "outputs": []
    },
    {
      "cell_type": "markdown",
      "metadata": {
        "id": "o-wqotH9mjzn"
      },
      "source": [
        "#Model 1: Embedding layer with LSTM"
      ]
    },
    {
      "cell_type": "code",
      "metadata": {
        "id": "JDhmaLi7Yq6k",
        "colab": {
          "base_uri": "https://localhost:8080/",
          "height": 684
        },
        "outputId": "25a8f4a1-8b14-457e-d02a-9b652098cd87"
      },
      "source": [
        "model = keras.Sequential()\r\n",
        "model.add(keras.layers.Embedding(nb_words, 64))\r\n",
        "\r\n",
        "model.add(layers.LSTM(15,dropout=0.5))\r\n",
        "model.add(keras.layers.Dense(1, activation = \"sigmoid\")) \r\n",
        "\r\n",
        "\r\n",
        "\r\n",
        "model.compile(optimizer='adam',\r\n",
        "              loss = \"binary_crossentropy\",\r\n",
        "              metrics=['accuracy'])\r\n",
        "\r\n",
        "\r\n",
        "model.summary()\r\n",
        "\r\n",
        "plot_model(model, to_file='model_plot.png', show_shapes=True, show_layer_names=True)\r\n"
      ],
      "execution_count": 9,
      "outputs": [
        {
          "output_type": "stream",
          "text": [
            "Model: \"sequential\"\n",
            "_________________________________________________________________\n",
            "Layer (type)                 Output Shape              Param #   \n",
            "=================================================================\n",
            "embedding (Embedding)        (None, None, 64)          640000    \n",
            "_________________________________________________________________\n",
            "lstm (LSTM)                  (None, 15)                4800      \n",
            "_________________________________________________________________\n",
            "dense (Dense)                (None, 1)                 16        \n",
            "=================================================================\n",
            "Total params: 644,816\n",
            "Trainable params: 644,816\n",
            "Non-trainable params: 0\n",
            "_________________________________________________________________\n"
          ],
          "name": "stdout"
        },
        {
          "output_type": "execute_result",
          "data": {
            "image/png": "[encoded data removed]",
            "text/plain": [
              "<IPython.core.display.Image object>"
            ]
          },
          "metadata": {
            "tags": []
          },
          "execution_count": 9
        }
      ]
    },
    {
      "cell_type": "code",
      "metadata": {
        "id": "c1FCdj8SNBAH",
        "colab": {
          "base_uri": "https://localhost:8080/"
        },
        "outputId": "592ac0b5-e420-40d1-db94-fad786f9e60f"
      },
      "source": [
        "history = model.fit(X_train_emb, y_train_emb, epochs=40, batch_size = 52, validation_data=(X_valid_emb, y_valid_emb), verbose=1)"
      ],
      "execution_count": 10,
      "outputs": [
        {
          "output_type": "stream",
          "text": [
            "Epoch 1/40\n",
            "137/137 [==============================] - 7s 29ms/step - loss: 0.6825 - accuracy: 0.5716 - val_loss: 0.5704 - val_accuracy: 0.7154\n",
            "Epoch 2/40\n",
            "137/137 [==============================] - 3s 19ms/step - loss: 0.4959 - accuracy: 0.7806 - val_loss: 0.5330 - val_accuracy: 0.7141\n",
            "Epoch 3/40\n",
            "137/137 [==============================] - 2s 18ms/step - loss: 0.3766 - accuracy: 0.8413 - val_loss: 0.5512 - val_accuracy: 0.7154\n",
            "Epoch 4/40\n",
            "137/137 [==============================] - 3s 19ms/step - loss: 0.3049 - accuracy: 0.8770 - val_loss: 0.5851 - val_accuracy: 0.7192\n",
            "Epoch 5/40\n",
            "137/137 [==============================] - 3s 19ms/step - loss: 0.2545 - accuracy: 0.9043 - val_loss: 0.6388 - val_accuracy: 0.7154\n",
            "Epoch 6/40\n",
            "137/137 [==============================] - 3s 19ms/step - loss: 0.2088 - accuracy: 0.9180 - val_loss: 0.6749 - val_accuracy: 0.7116\n",
            "Epoch 7/40\n",
            "137/137 [==============================] - 3s 20ms/step - loss: 0.1979 - accuracy: 0.9202 - val_loss: 0.7123 - val_accuracy: 0.6976\n",
            "Epoch 8/40\n",
            "137/137 [==============================] - 3s 18ms/step - loss: 0.1809 - accuracy: 0.9289 - val_loss: 0.7564 - val_accuracy: 0.6989\n",
            "Epoch 9/40\n",
            "137/137 [==============================] - 3s 19ms/step - loss: 0.1736 - accuracy: 0.9269 - val_loss: 0.7919 - val_accuracy: 0.7039\n",
            "Epoch 10/40\n",
            "137/137 [==============================] - 3s 19ms/step - loss: 0.1542 - accuracy: 0.9340 - val_loss: 0.8199 - val_accuracy: 0.6912\n",
            "Epoch 11/40\n",
            "137/137 [==============================] - 3s 19ms/step - loss: 0.1444 - accuracy: 0.9430 - val_loss: 0.8673 - val_accuracy: 0.6963\n",
            "Epoch 12/40\n",
            "137/137 [==============================] - 3s 19ms/step - loss: 0.1366 - accuracy: 0.9438 - val_loss: 0.8737 - val_accuracy: 0.6912\n",
            "Epoch 13/40\n",
            "137/137 [==============================] - 3s 20ms/step - loss: 0.1273 - accuracy: 0.9455 - val_loss: 0.8975 - val_accuracy: 0.6887\n",
            "Epoch 14/40\n",
            "137/137 [==============================] - 3s 19ms/step - loss: 0.1211 - accuracy: 0.9505 - val_loss: 0.9390 - val_accuracy: 0.6887\n",
            "Epoch 15/40\n",
            "137/137 [==============================] - 3s 19ms/step - loss: 0.1202 - accuracy: 0.9512 - val_loss: 0.9786 - val_accuracy: 0.6912\n",
            "Epoch 16/40\n",
            "137/137 [==============================] - 3s 19ms/step - loss: 0.1164 - accuracy: 0.9567 - val_loss: 1.0106 - val_accuracy: 0.6874\n",
            "Epoch 17/40\n",
            "137/137 [==============================] - 3s 20ms/step - loss: 0.1142 - accuracy: 0.9556 - val_loss: 1.0037 - val_accuracy: 0.6747\n",
            "Epoch 18/40\n",
            "137/137 [==============================] - 3s 19ms/step - loss: 0.1064 - accuracy: 0.9580 - val_loss: 1.0362 - val_accuracy: 0.6912\n",
            "Epoch 19/40\n",
            "137/137 [==============================] - 3s 20ms/step - loss: 0.1116 - accuracy: 0.9545 - val_loss: 1.0363 - val_accuracy: 0.6798\n",
            "Epoch 20/40\n",
            "137/137 [==============================] - 3s 20ms/step - loss: 0.0984 - accuracy: 0.9599 - val_loss: 1.0647 - val_accuracy: 0.6747\n",
            "Epoch 21/40\n",
            "137/137 [==============================] - 3s 23ms/step - loss: 0.1010 - accuracy: 0.9578 - val_loss: 1.0807 - val_accuracy: 0.6925\n",
            "Epoch 22/40\n",
            "137/137 [==============================] - 3s 21ms/step - loss: 0.0910 - accuracy: 0.9625 - val_loss: 1.0972 - val_accuracy: 0.6963\n",
            "Epoch 23/40\n",
            "137/137 [==============================] - 3s 22ms/step - loss: 0.1044 - accuracy: 0.9568 - val_loss: 1.0849 - val_accuracy: 0.6722\n",
            "Epoch 24/40\n",
            "137/137 [==============================] - 3s 20ms/step - loss: 0.0854 - accuracy: 0.9653 - val_loss: 1.1015 - val_accuracy: 0.6823\n",
            "Epoch 25/40\n",
            "137/137 [==============================] - 3s 19ms/step - loss: 0.0982 - accuracy: 0.9572 - val_loss: 1.1463 - val_accuracy: 0.6696\n",
            "Epoch 26/40\n",
            "137/137 [==============================] - 3s 19ms/step - loss: 0.0896 - accuracy: 0.9642 - val_loss: 1.1555 - val_accuracy: 0.6811\n",
            "Epoch 27/40\n",
            "137/137 [==============================] - 3s 19ms/step - loss: 0.0951 - accuracy: 0.9621 - val_loss: 1.1841 - val_accuracy: 0.6900\n",
            "Epoch 28/40\n",
            "137/137 [==============================] - 3s 19ms/step - loss: 0.0854 - accuracy: 0.9637 - val_loss: 1.1813 - val_accuracy: 0.6747\n",
            "Epoch 29/40\n",
            "137/137 [==============================] - 3s 20ms/step - loss: 0.0864 - accuracy: 0.9632 - val_loss: 1.2232 - val_accuracy: 0.6722\n",
            "Epoch 30/40\n",
            "137/137 [==============================] - 3s 22ms/step - loss: 0.0865 - accuracy: 0.9638 - val_loss: 1.2077 - val_accuracy: 0.6696\n",
            "Epoch 31/40\n",
            "137/137 [==============================] - 3s 21ms/step - loss: 0.0869 - accuracy: 0.9624 - val_loss: 1.2307 - val_accuracy: 0.6734\n",
            "Epoch 32/40\n",
            "137/137 [==============================] - 3s 19ms/step - loss: 0.0797 - accuracy: 0.9668 - val_loss: 1.2473 - val_accuracy: 0.6722\n",
            "Epoch 33/40\n",
            "137/137 [==============================] - 3s 20ms/step - loss: 0.0787 - accuracy: 0.9677 - val_loss: 1.2815 - val_accuracy: 0.6811\n",
            "Epoch 34/40\n",
            "137/137 [==============================] - 3s 20ms/step - loss: 0.0737 - accuracy: 0.9680 - val_loss: 1.3232 - val_accuracy: 0.6722\n",
            "Epoch 35/40\n",
            "137/137 [==============================] - 3s 19ms/step - loss: 0.0879 - accuracy: 0.9644 - val_loss: 1.2821 - val_accuracy: 0.6823\n",
            "Epoch 36/40\n",
            "137/137 [==============================] - 3s 21ms/step - loss: 0.0805 - accuracy: 0.9699 - val_loss: 1.3407 - val_accuracy: 0.6684\n",
            "Epoch 37/40\n",
            "137/137 [==============================] - 3s 20ms/step - loss: 0.0743 - accuracy: 0.9697 - val_loss: 1.3204 - val_accuracy: 0.6722\n",
            "Epoch 38/40\n",
            "137/137 [==============================] - 3s 19ms/step - loss: 0.0792 - accuracy: 0.9663 - val_loss: 1.2834 - val_accuracy: 0.6798\n",
            "Epoch 39/40\n",
            "137/137 [==============================] - 3s 19ms/step - loss: 0.0794 - accuracy: 0.9658 - val_loss: 1.3156 - val_accuracy: 0.6709\n",
            "Epoch 40/40\n",
            "137/137 [==============================] - 3s 19ms/step - loss: 0.0727 - accuracy: 0.9681 - val_loss: 1.2592 - val_accuracy: 0.6798\n"
          ],
          "name": "stdout"
        }
      ]
    },
    {
      "cell_type": "code",
      "metadata": {
        "id": "obnqBlUEMnnA"
      },
      "source": [
        "#function in tensorflow in order to save our model \r\n",
        "model.save(\"model.h5\")"
      ],
      "execution_count": 11,
      "outputs": []
    },
    {
      "cell_type": "markdown",
      "metadata": {
        "id": "04ZPbwu_mpgr"
      },
      "source": [
        "#Model2: Embedding layer with Bidirectional LSTM"
      ]
    },
    {
      "cell_type": "code",
      "metadata": {
        "colab": {
          "base_uri": "https://localhost:8080/",
          "height": 684
        },
        "id": "i4opi5JGJbgg",
        "outputId": "a9d931ce-7a56-48ad-a978-24340777c153"
      },
      "source": [
        "model2 = keras.Sequential()\r\n",
        "model2.add(layers.Embedding(nb_words, 40, input_length=max_len))\r\n",
        "model2.add(layers.Bidirectional(layers.LSTM(20,dropout=0.6)))\r\n",
        "model2.add(layers.Dense(1,activation='sigmoid'))\r\n",
        "\r\n",
        "model2.compile(optimizer='adam',\r\n",
        "              loss = \"binary_crossentropy\",\r\n",
        "              metrics=['accuracy'])\r\n",
        "model2.summary()\r\n",
        "plot_model(model2, to_file='model_plot2.png', show_shapes=True, show_layer_names=True)"
      ],
      "execution_count": 12,
      "outputs": [
        {
          "output_type": "stream",
          "text": [
            "Model: \"sequential_1\"\n",
            "_________________________________________________________________\n",
            "Layer (type)                 Output Shape              Param #   \n",
            "=================================================================\n",
            "embedding_1 (Embedding)      (None, 24, 40)            400000    \n",
            "_________________________________________________________________\n",
            "bidirectional (Bidirectional (None, 40)                9760      \n",
            "_________________________________________________________________\n",
            "dense_1 (Dense)              (None, 1)                 41        \n",
            "=================================================================\n",
            "Total params: 409,801\n",
            "Trainable params: 409,801\n",
            "Non-trainable params: 0\n",
            "_________________________________________________________________\n"
          ],
          "name": "stdout"
        },
        {
          "output_type": "execute_result",
          "data": {
            "image/png": "[encoded data removed]",
            "text/plain": [
              "<IPython.core.display.Image object>"
            ]
          },
          "metadata": {
            "tags": []
          },
          "execution_count": 12
        }
      ]
    },
    {
      "cell_type": "code",
      "metadata": {
        "colab": {
          "base_uri": "https://localhost:8080/"
        },
        "id": "uk-eu9g2LzAk",
        "outputId": "09c7090b-11d6-40ef-9dfb-dd71dec2f3fb"
      },
      "source": [
        "X_train_emb"
      ],
      "execution_count": 13,
      "outputs": [
        {
          "output_type": "execute_result",
          "data": {
            "text/plain": [
              "array([[   0,    0,    0, ...,    0,   11, 1199],\n",
              "       [   0,    0,    0, ...,   47,   14,    4],\n",
              "       [   0,    0,    0, ...,    0,  526,   13],\n",
              "       ...,\n",
              "       [   0,    0,    0, ...,   15,    9, 2367],\n",
              "       [   0,    0,    0, ...,    0,    0,  114],\n",
              "       [   0,    0,    0, ...,    0,    0, 1189]], dtype=int32)"
            ]
          },
          "metadata": {
            "tags": []
          },
          "execution_count": 13
        }
      ]
    },
    {
      "cell_type": "code",
      "metadata": {
        "id": "fyfJkEIBNGdX",
        "colab": {
          "base_uri": "https://localhost:8080/"
        },
        "outputId": "37537b00-ad69-4258-8eb2-1b0089a977f8"
      },
      "source": [
        "history = model2.fit(X_train_emb, y_train_emb, epochs=40, batch_size = 52, validation_data=(X_valid_emb, y_valid_emb), verbose=1)"
      ],
      "execution_count": 14,
      "outputs": [
        {
          "output_type": "stream",
          "text": [
            "Epoch 1/40\n",
            "137/137 [==============================] - 8s 27ms/step - loss: 0.6869 - accuracy: 0.5473 - val_loss: 0.5883 - val_accuracy: 0.7039\n",
            "Epoch 2/40\n",
            "137/137 [==============================] - 3s 22ms/step - loss: 0.5498 - accuracy: 0.7247 - val_loss: 0.5325 - val_accuracy: 0.7230\n",
            "Epoch 3/40\n",
            "137/137 [==============================] - 3s 21ms/step - loss: 0.4282 - accuracy: 0.8099 - val_loss: 0.5171 - val_accuracy: 0.7395\n",
            "Epoch 4/40\n",
            "137/137 [==============================] - 3s 21ms/step - loss: 0.3556 - accuracy: 0.8529 - val_loss: 0.5543 - val_accuracy: 0.7332\n",
            "Epoch 5/40\n",
            "137/137 [==============================] - 3s 20ms/step - loss: 0.2784 - accuracy: 0.8896 - val_loss: 0.6340 - val_accuracy: 0.7205\n",
            "Epoch 6/40\n",
            "137/137 [==============================] - 3s 21ms/step - loss: 0.2443 - accuracy: 0.9058 - val_loss: 0.6217 - val_accuracy: 0.7103\n",
            "Epoch 7/40\n",
            "137/137 [==============================] - 3s 21ms/step - loss: 0.2129 - accuracy: 0.9172 - val_loss: 0.6964 - val_accuracy: 0.7039\n",
            "Epoch 8/40\n",
            "137/137 [==============================] - 3s 21ms/step - loss: 0.2078 - accuracy: 0.9240 - val_loss: 0.6908 - val_accuracy: 0.7052\n",
            "Epoch 9/40\n",
            "137/137 [==============================] - 3s 21ms/step - loss: 0.1895 - accuracy: 0.9272 - val_loss: 0.7520 - val_accuracy: 0.7052\n",
            "Epoch 10/40\n",
            "137/137 [==============================] - 3s 21ms/step - loss: 0.1739 - accuracy: 0.9342 - val_loss: 0.7819 - val_accuracy: 0.6874\n",
            "Epoch 11/40\n",
            "137/137 [==============================] - 3s 20ms/step - loss: 0.1613 - accuracy: 0.9376 - val_loss: 0.7986 - val_accuracy: 0.6900\n",
            "Epoch 12/40\n",
            "137/137 [==============================] - 3s 20ms/step - loss: 0.1584 - accuracy: 0.9406 - val_loss: 0.8515 - val_accuracy: 0.6900\n",
            "Epoch 13/40\n",
            "137/137 [==============================] - 3s 21ms/step - loss: 0.1559 - accuracy: 0.9364 - val_loss: 0.8435 - val_accuracy: 0.6785\n",
            "Epoch 14/40\n",
            "137/137 [==============================] - 3s 25ms/step - loss: 0.1465 - accuracy: 0.9422 - val_loss: 0.9120 - val_accuracy: 0.6861\n",
            "Epoch 15/40\n",
            "137/137 [==============================] - 4s 26ms/step - loss: 0.1518 - accuracy: 0.9392 - val_loss: 0.9827 - val_accuracy: 0.6976\n",
            "Epoch 16/40\n",
            "137/137 [==============================] - 3s 21ms/step - loss: 0.1342 - accuracy: 0.9485 - val_loss: 0.8791 - val_accuracy: 0.6887\n",
            "Epoch 17/40\n",
            "137/137 [==============================] - 3s 21ms/step - loss: 0.1342 - accuracy: 0.9425 - val_loss: 1.0105 - val_accuracy: 0.6900\n",
            "Epoch 18/40\n",
            "137/137 [==============================] - 3s 21ms/step - loss: 0.1350 - accuracy: 0.9420 - val_loss: 0.9328 - val_accuracy: 0.6912\n",
            "Epoch 19/40\n",
            "137/137 [==============================] - 3s 21ms/step - loss: 0.1305 - accuracy: 0.9470 - val_loss: 0.9842 - val_accuracy: 0.7039\n",
            "Epoch 20/40\n",
            "137/137 [==============================] - 3s 22ms/step - loss: 0.1255 - accuracy: 0.9500 - val_loss: 0.9730 - val_accuracy: 0.6963\n",
            "Epoch 21/40\n",
            "137/137 [==============================] - 3s 21ms/step - loss: 0.1289 - accuracy: 0.9469 - val_loss: 1.0108 - val_accuracy: 0.6963\n",
            "Epoch 22/40\n",
            "137/137 [==============================] - 3s 21ms/step - loss: 0.1239 - accuracy: 0.9474 - val_loss: 1.0500 - val_accuracy: 0.6900\n",
            "Epoch 23/40\n",
            "137/137 [==============================] - 3s 21ms/step - loss: 0.1137 - accuracy: 0.9511 - val_loss: 1.0996 - val_accuracy: 0.6963\n",
            "Epoch 24/40\n",
            "137/137 [==============================] - 3s 21ms/step - loss: 0.1112 - accuracy: 0.9532 - val_loss: 1.0619 - val_accuracy: 0.6887\n",
            "Epoch 25/40\n",
            "137/137 [==============================] - 3s 21ms/step - loss: 0.1185 - accuracy: 0.9471 - val_loss: 1.0912 - val_accuracy: 0.6912\n",
            "Epoch 26/40\n",
            "137/137 [==============================] - 3s 21ms/step - loss: 0.1126 - accuracy: 0.9568 - val_loss: 1.1010 - val_accuracy: 0.6798\n",
            "Epoch 27/40\n",
            "137/137 [==============================] - 3s 22ms/step - loss: 0.1024 - accuracy: 0.9548 - val_loss: 1.1853 - val_accuracy: 0.6874\n",
            "Epoch 28/40\n",
            "137/137 [==============================] - 3s 21ms/step - loss: 0.1134 - accuracy: 0.9513 - val_loss: 1.2208 - val_accuracy: 0.6925\n",
            "Epoch 29/40\n",
            "137/137 [==============================] - 3s 22ms/step - loss: 0.1084 - accuracy: 0.9510 - val_loss: 1.2134 - val_accuracy: 0.6861\n",
            "Epoch 30/40\n",
            "137/137 [==============================] - 3s 21ms/step - loss: 0.1060 - accuracy: 0.9525 - val_loss: 1.2284 - val_accuracy: 0.6861\n",
            "Epoch 31/40\n",
            "137/137 [==============================] - 3s 21ms/step - loss: 0.1011 - accuracy: 0.9538 - val_loss: 1.1845 - val_accuracy: 0.6874\n",
            "Epoch 32/40\n",
            "137/137 [==============================] - 3s 21ms/step - loss: 0.1079 - accuracy: 0.9556 - val_loss: 1.2661 - val_accuracy: 0.6823\n",
            "Epoch 33/40\n",
            "137/137 [==============================] - 3s 23ms/step - loss: 0.0956 - accuracy: 0.9558 - val_loss: 1.2513 - val_accuracy: 0.6836\n",
            "Epoch 34/40\n",
            "137/137 [==============================] - 3s 22ms/step - loss: 0.1020 - accuracy: 0.9561 - val_loss: 1.3229 - val_accuracy: 0.6823\n",
            "Epoch 35/40\n",
            "137/137 [==============================] - 3s 23ms/step - loss: 0.0956 - accuracy: 0.9571 - val_loss: 1.3471 - val_accuracy: 0.6734\n",
            "Epoch 36/40\n",
            "137/137 [==============================] - 5s 34ms/step - loss: 0.0954 - accuracy: 0.9641 - val_loss: 1.3142 - val_accuracy: 0.6836\n",
            "Epoch 37/40\n",
            "137/137 [==============================] - 3s 24ms/step - loss: 0.0948 - accuracy: 0.9603 - val_loss: 1.3373 - val_accuracy: 0.6620\n",
            "Epoch 38/40\n",
            "137/137 [==============================] - 3s 21ms/step - loss: 0.1025 - accuracy: 0.9574 - val_loss: 1.3458 - val_accuracy: 0.6734\n",
            "Epoch 39/40\n",
            "137/137 [==============================] - 3s 20ms/step - loss: 0.0930 - accuracy: 0.9608 - val_loss: 1.3299 - val_accuracy: 0.6709\n",
            "Epoch 40/40\n",
            "137/137 [==============================] - 3s 21ms/step - loss: 0.0999 - accuracy: 0.9587 - val_loss: 1.3844 - val_accuracy: 0.6900\n"
          ],
          "name": "stdout"
        }
      ]
    },
    {
      "cell_type": "code",
      "metadata": {
        "id": "zOQYvlVPrzVR"
      },
      "source": [
        "model2.save(\"model2.h5\")#extension for tensorflow "
      ],
      "execution_count": 15,
      "outputs": []
    },
    {
      "cell_type": "code",
      "metadata": {
        "colab": {
          "base_uri": "https://localhost:8080/"
        },
        "id": "PitXTAHIrQ9o",
        "outputId": "5e7f3e09-a65f-47e4-8ead-c49d733bef2e"
      },
      "source": [
        "results = model.evaluate(X_test, y_test)"
      ],
      "execution_count": 16,
      "outputs": [
        {
          "output_type": "stream",
          "text": [
            "62/62 [==============================] - 0s 3ms/step - loss: 1.2775 - accuracy: 0.6889\n"
          ],
          "name": "stdout"
        }
      ]
    },
    {
      "cell_type": "code",
      "metadata": {
        "colab": {
          "base_uri": "https://localhost:8080/"
        },
        "id": "yD26sG_HNUy3",
        "outputId": "57529070-ff42-4b72-fa7d-d81f0ed3bf94"
      },
      "source": [
        "results = model2.evaluate(X_test, y_test)"
      ],
      "execution_count": 17,
      "outputs": [
        {
          "output_type": "stream",
          "text": [
            "62/62 [==============================] - 0s 4ms/step - loss: 1.3863 - accuracy: 0.7011\n"
          ],
          "name": "stdout"
        }
      ]
    },
    {
      "cell_type": "markdown",
      "metadata": {
        "id": "J-nK9hndzMVE"
      },
      "source": [
        "#Connection and test with Twitter API"
      ]
    },
    {
      "cell_type": "code",
      "metadata": {
        "id": "W2929liqsClS"
      },
      "source": [
        "search_words = \"#trump\"\r\n",
        "date_since = \"2020-11-01\"\r\n",
        "number_of_tweets = 10\r\n",
        "tweets = twitterAPI.main(search_words, date_since, number_of_tweets)"
      ],
      "execution_count": 18,
      "outputs": []
    },
    {
      "cell_type": "code",
      "metadata": {
        "id": "ONTDQxI8sClT"
      },
      "source": [
        "tweetsA = []\r\n",
        "tweetsA = [tweet.text for tweet in tweets]\r\n",
        "tweetsA.append(\"I love love love love\")\r\n",
        "tweetsA.append(\" hate hate hate\")"
      ],
      "execution_count": 19,
      "outputs": []
    },
    {
      "cell_type": "code",
      "metadata": {
        "id": "dSNsdiP1SXdz",
        "colab": {
          "base_uri": "https://localhost:8080/"
        },
        "outputId": "21924ed0-d983-4ed2-d7d2-e000264bdf7c"
      },
      "source": [
        "tweetsA"
      ],
      "execution_count": 20,
      "outputs": [
        {
          "output_type": "execute_result",
          "data": {
            "text/plain": [
              "['RT @PutinIsAVirus: 14 innocents killed\\n20 innocents wounded\\nKids among both\\n\"The FBI investigation found that, of the 17 Iraqis killed by t…',\n",
              " 'Even Trump would not suggest this! Could not make it up...\\n\\nPeople who arrived from Britain after December 11 shoul… https://t.co/xlaeMFglj6',\n",
              " 'RT @Styx666Official: https://t.co/sxK31miu07\\n\\nTrump says he will not sign the covid stimulus without improvements. Congress goes bananas. H…',\n",
              " \"@Reuters 1/ I think it's another #Trump delay tactic. If he can stretch it out till after Jan 5, he can see if he h… https://t.co/IfeURM22di\",\n",
              " 'RT @PutinIsAVirus: 14 innocents killed\\n20 innocents wounded\\nKids among both\\n\"The FBI investigation found that, of the 17 Iraqis killed by t…',\n",
              " 'POTUS DO NOT Pardon these 2 Julian Assange and Edward Snowden #Trump',\n",
              " '. \\n\\n🐀🐀🐀\\n\\ntRump train wreck coming to a sewerage treatment facility near you...\\n\\n#TRUMP2020ToSaveAmerica #Trump \\n\\n https://t.co/twvYT5kwDq',\n",
              " '#Blackwater  killed many many people in Iraq among this boy. Killers are now free  because of #Trump. This shows th… https://t.co/l3sjzOh1KD',\n",
              " \"Trump's longtime banker at Deutsche Bank resigns; move comes as bank looks for ways to cut ties w/#Trump. Managing… https://t.co/Y1knD9x7PY\",\n",
              " 'Best PS5 Headsets for 3D Audio Gaming Surround Sound SEE MORE HERE ==&gt; https://t.co/8PTOFMzQGs  #GeForceRTX3090… https://t.co/e30jXXby6Q',\n",
              " 'I love love love love',\n",
              " ' hate hate hate']"
            ]
          },
          "metadata": {
            "tags": []
          },
          "execution_count": 20
        }
      ]
    },
    {
      "cell_type": "code",
      "metadata": {
        "id": "VZvTaz9o8nbg"
      },
      "source": [
        "tweetsA = tk.texts_to_sequences(tweetsA)\r\n",
        "tweetsA = pad_sequences(tweetsA)"
      ],
      "execution_count": 21,
      "outputs": []
    },
    {
      "cell_type": "code",
      "metadata": {
        "id": "qFK0wrKTEn_5"
      },
      "source": [
        "sentiment = ['Negative','Positive']"
      ],
      "execution_count": 22,
      "outputs": []
    },
    {
      "cell_type": "code",
      "metadata": {
        "id": "qFedcX2NPepb",
        "colab": {
          "base_uri": "https://localhost:8080/"
        },
        "outputId": "ac30207a-0ee2-493f-86f8-8a43fb6ebcb5"
      },
      "source": [
        "predict = model2.predict(tweetsA)"
      ],
      "execution_count": 23,
      "outputs": [
        {
          "output_type": "stream",
          "text": [
            "WARNING:tensorflow:Model was constructed with shape (None, 24) for input KerasTensor(type_spec=TensorSpec(shape=(None, 24), dtype=tf.float32, name='embedding_1_input'), name='embedding_1_input', description=\"created by layer 'embedding_1_input'\"), but it was called on an input with incompatible shape (None, 6).\n"
          ],
          "name": "stdout"
        }
      ]
    },
    {
      "cell_type": "code",
      "metadata": {
        "colab": {
          "base_uri": "https://localhost:8080/"
        },
        "id": "dSy4XflOPb80",
        "outputId": "b697ba2f-48d6-43cf-9ca5-73f13d39717f"
      },
      "source": [
        "for y in predict:\r\n",
        "  print(sentiment[int(np.around(y[-1], decimals=0))])"
      ],
      "execution_count": 24,
      "outputs": [
        {
          "output_type": "stream",
          "text": [
            "Negative\n",
            "Negative\n",
            "Negative\n",
            "Positive\n",
            "Negative\n",
            "Positive\n",
            "Negative\n",
            "Positive\n",
            "Negative\n",
            "Positive\n",
            "Positive\n",
            "Negative\n"
          ],
          "name": "stdout"
        }
      ]
    }
  ]
}