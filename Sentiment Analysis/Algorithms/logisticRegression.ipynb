{
  "nbformat": 4,
  "nbformat_minor": 0,
  "metadata": {
    "colab": {
      "name": "logisticRegressionUpdate.ipynb",
      "provenance": [],
      "toc_visible": true,
      "authorship_tag": "ABX9TyN59R+MtEA7ho/p9enLuWoL",
      "include_colab_link": true
    },
    "kernelspec": {
      "name": "python3",
      "display_name": "Python 3"
    }
  },
  "cells": [
    {
      "cell_type": "markdown",
      "metadata": {
        "id": "view-in-github",
        "colab_type": "text"
      },
      "source": [
        "<a href=\"https://colab.research.google.com/github/IntroductionToAICW/CW/blob/main/algorithms/logisticRegression.ipynb\" target=\"_parent\"><img src=\"https://colab.research.google.com/assets/colab-badge.svg\" alt=\"Open In Colab\"/></a>"
      ]
    },
    {
      "cell_type": "markdown",
      "metadata": {
        "id": "OxafhtW5mnRd"
      },
      "source": [
        "#Import the libraries"
      ]
    },
    {
      "cell_type": "code",
      "metadata": {
        "id": "HBiwLGVHgZ2c"
      },
      "source": [
        "import matplotlib.pyplot as plt\n",
        "import pandas as pd\n",
        "import numpy as np\n",
        "\n",
        "from sklearn.model_selection import train_test_split\n",
        "from sklearn.metrics import confusion_matrix\n",
        "from sklearn.linear_model import LogisticRegressionCV\n",
        "from sklearn.metrics import accuracy_score\n",
        "from sklearn.feature_extraction.text import CountVectorizer, TfidfTransformer\n",
        "from sklearn.pipeline import Pipeline\n",
        "\n",
        "from google.colab import drive\n",
        "\n",
        "import twitterAPI"
      ],
      "execution_count": 1,
      "outputs": []
    },
    {
      "cell_type": "markdown",
      "metadata": {
        "id": "rB2q6xL9mjvJ"
      },
      "source": [
        "#Import the dataset"
      ]
    },
    {
      "cell_type": "code",
      "metadata": {
        "id": "MhEoXlIvgA4h",
        "colab": {
          "base_uri": "https://localhost:8080/"
        },
        "outputId": "7299be43-b2e8-44e3-b5d2-43edc79e801a"
      },
      "source": [
        "drive.mount('/content/drive')"
      ],
      "execution_count": 2,
      "outputs": [
        {
          "output_type": "stream",
          "text": [
            "Mounted at /content/drive\n"
          ],
          "name": "stdout"
        }
      ]
    },
    {
      "cell_type": "code",
      "metadata": {
        "id": "YY86-8P_gPaN",
        "colab": {
          "base_uri": "https://localhost:8080/",
          "height": 380
        },
        "outputId": "d0c78fd6-652b-41fe-f818-67ec7074d3f8"
      },
      "source": [
        "df = pd.read_pickle(\"/content/drive/My Drive/dataset/valid_df.pkl\")\r\n",
        "df.head(5)"
      ],
      "execution_count": 3,
      "outputs": [
        {
          "output_type": "execute_result",
          "data": {
            "text/html": [
              "<div>\n",
              "<style scoped>\n",
              "    .dataframe tbody tr th:only-of-type {\n",
              "        vertical-align: middle;\n",
              "    }\n",
              "\n",
              "    .dataframe tbody tr th {\n",
              "        vertical-align: top;\n",
              "    }\n",
              "\n",
              "    .dataframe thead th {\n",
              "        text-align: right;\n",
              "    }\n",
              "</style>\n",
              "<table border=\"1\" class=\"dataframe\">\n",
              "  <thead>\n",
              "    <tr style=\"text-align: right;\">\n",
              "      <th></th>\n",
              "      <th>text</th>\n",
              "      <th>labels</th>\n",
              "      <th>lang</th>\n",
              "      <th>NoHTML_text</th>\n",
              "      <th>ASCII_NoHTML_text</th>\n",
              "      <th>Lemma_NoSal_ASCII_NoHTML_text</th>\n",
              "      <th>NoSW_Lemma_NoSal_ASCII_NoHTML_text</th>\n",
              "      <th>afterProcess</th>\n",
              "    </tr>\n",
              "  </thead>\n",
              "  <tbody>\n",
              "    <tr>\n",
              "      <th>0</th>\n",
              "      <td>#FollowFriday @France_Inte @PKuchly57 @Milipol...</td>\n",
              "      <td>1</td>\n",
              "      <td>en</td>\n",
              "      <td>#FollowFriday @France_Inte @PKuchly57 @Milipol...</td>\n",
              "      <td>for being top engaged members in my community ...</td>\n",
              "      <td>for be top engage member in my community this ...</td>\n",
              "      <td>engage member community week</td>\n",
              "      <td>engage member community week</td>\n",
              "    </tr>\n",
              "    <tr>\n",
              "      <th>1</th>\n",
              "      <td>@Lamb2ja Hey James! How odd :/ Please call our...</td>\n",
              "      <td>1</td>\n",
              "      <td>en</td>\n",
              "      <td>@Lamb2ja Hey James! How odd :/ Please call our...</td>\n",
              "      <td>hey james how odd please call our contact cent...</td>\n",
              "      <td>hey james how odd please call our contact cent...</td>\n",
              "      <td>hey james odd contact centre able assist thanks</td>\n",
              "      <td>hey james odd contact centre able assist thanks</td>\n",
              "    </tr>\n",
              "    <tr>\n",
              "      <th>2</th>\n",
              "      <td>@DespiteOfficial we had a listen last night :)...</td>\n",
              "      <td>1</td>\n",
              "      <td>en</td>\n",
              "      <td>@DespiteOfficial we had a listen last night :)...</td>\n",
              "      <td>we had a listen last night as you bleed is an ...</td>\n",
              "      <td>we have a listen last night a you bleed be an ...</td>\n",
              "      <td>listen night bleed amaze track scotland</td>\n",
              "      <td>listen night bleed amaze track scotland</td>\n",
              "    </tr>\n",
              "    <tr>\n",
              "      <th>3</th>\n",
              "      <td>@97sides CONGRATS :)</td>\n",
              "      <td>1</td>\n",
              "      <td>es</td>\n",
              "      <td>@97sides CONGRATS :)</td>\n",
              "      <td>congrats</td>\n",
              "      <td>congrats</td>\n",
              "      <td>congrats</td>\n",
              "      <td>congrats</td>\n",
              "    </tr>\n",
              "    <tr>\n",
              "      <th>4</th>\n",
              "      <td>yeaaaah yippppy!!!  my accnt verified rqst has...</td>\n",
              "      <td>1</td>\n",
              "      <td>en</td>\n",
              "      <td>yeaaaah yippppy!!!  my accnt verified rqst has...</td>\n",
              "      <td>yeaaaah yippppy my accnt verified rqst has suc...</td>\n",
              "      <td>yeaaaah yippppy my accnt verify rqst have succ...</td>\n",
              "      <td>yeaaaah yippppy accnt verify rqst succeed blue...</td>\n",
              "      <td>yeaaaah yippppy accnt verify rqst succeed blue...</td>\n",
              "    </tr>\n",
              "  </tbody>\n",
              "</table>\n",
              "</div>"
            ],
            "text/plain": [
              "                                                text  ...                                       afterProcess\n",
              "0  #FollowFriday @France_Inte @PKuchly57 @Milipol...  ...                       engage member community week\n",
              "1  @Lamb2ja Hey James! How odd :/ Please call our...  ...    hey james odd contact centre able assist thanks\n",
              "2  @DespiteOfficial we had a listen last night :)...  ...            listen night bleed amaze track scotland\n",
              "3                               @97sides CONGRATS :)  ...                                           congrats\n",
              "4  yeaaaah yippppy!!!  my accnt verified rqst has...  ...  yeaaaah yippppy accnt verify rqst succeed blue...\n",
              "\n",
              "[5 rows x 8 columns]"
            ]
          },
          "metadata": {
            "tags": []
          },
          "execution_count": 3
        }
      ]
    },
    {
      "cell_type": "markdown",
      "metadata": {
        "id": "VnpkgNaUmhCt"
      },
      "source": [
        "#Split the dataset"
      ]
    },
    {
      "cell_type": "code",
      "metadata": {
        "id": "JUPcZgREflAV"
      },
      "source": [
        "X = list(df[\"afterProcess\"])\r\n",
        "y = df[\"labels\"]\r\n",
        "x_train, x_test, y_train, y_test = train_test_split(X, y, test_size=0.33, random_state=42)"
      ],
      "execution_count": 4,
      "outputs": []
    },
    {
      "cell_type": "markdown",
      "metadata": {
        "id": "1u4-vzE1meSG"
      },
      "source": [
        "#Build the model"
      ]
    },
    {
      "cell_type": "code",
      "metadata": {
        "id": "LBuyX0MVd1Zl"
      },
      "source": [
        "classifier = Pipeline([('vect', CountVectorizer()),\r\n",
        "                     ('tfidf', TfidfTransformer()),\r\n",
        "                     ('model', LogisticRegressionCV(cv = 5,\r\n",
        "                                                  max_iter=300,\r\n",
        "                                                  verbose= 3,\r\n",
        "                                                  scoring = 'accuracy',\r\n",
        "                                                  n_jobs= -1,\r\n",
        "                                                  random_state = 0                         \r\n",
        "                     ))])"
      ],
      "execution_count": 5,
      "outputs": []
    },
    {
      "cell_type": "markdown",
      "metadata": {
        "id": "6CesBNBD1_8-"
      },
      "source": [
        "#Train the model"
      ]
    },
    {
      "cell_type": "code",
      "metadata": {
        "colab": {
          "base_uri": "https://localhost:8080/"
        },
        "id": "nWmvxbKgfgH0",
        "outputId": "7c43683a-7c4a-45bc-dd6c-efd111fbb9eb"
      },
      "source": [
        "classifier.fit(x_train, y_train)"
      ],
      "execution_count": 6,
      "outputs": [
        {
          "output_type": "stream",
          "text": [
            "[Parallel(n_jobs=-1)]: Using backend LokyBackend with 2 concurrent workers.\n",
            "[Parallel(n_jobs=-1)]: Done   5 out of   5 | elapsed:   14.8s finished\n"
          ],
          "name": "stderr"
        },
        {
          "output_type": "execute_result",
          "data": {
            "text/plain": [
              "Pipeline(memory=None,\n",
              "         steps=[('vect',\n",
              "                 CountVectorizer(analyzer='word', binary=False,\n",
              "                                 decode_error='strict',\n",
              "                                 dtype=<class 'numpy.int64'>, encoding='utf-8',\n",
              "                                 input='content', lowercase=True, max_df=1.0,\n",
              "                                 max_features=None, min_df=1,\n",
              "                                 ngram_range=(1, 1), preprocessor=None,\n",
              "                                 stop_words=None, strip_accents=None,\n",
              "                                 token_pattern='(?u)\\\\b\\\\w\\\\w+\\\\b',\n",
              "                                 tokenizer=None, vocabulary=Non...\n",
              "                 TfidfTransformer(norm='l2', smooth_idf=True,\n",
              "                                  sublinear_tf=False, use_idf=True)),\n",
              "                ('model',\n",
              "                 LogisticRegressionCV(Cs=10, class_weight=None, cv=5,\n",
              "                                      dual=False, fit_intercept=True,\n",
              "                                      intercept_scaling=1.0, l1_ratios=None,\n",
              "                                      max_iter=300, multi_class='auto',\n",
              "                                      n_jobs=-1, penalty='l2', random_state=0,\n",
              "                                      refit=True, scoring='accuracy',\n",
              "                                      solver='lbfgs', tol=0.0001, verbose=3))],\n",
              "         verbose=False)"
            ]
          },
          "metadata": {
            "tags": []
          },
          "execution_count": 6
        }
      ]
    },
    {
      "cell_type": "markdown",
      "metadata": {
        "id": "78Zt1LKDCRKj"
      },
      "source": [
        "#Accuracy on training set"
      ]
    },
    {
      "cell_type": "code",
      "metadata": {
        "id": "MDPJj2b_GCwR"
      },
      "source": [
        "y_pred = classifier.predict(x_train)"
      ],
      "execution_count": 7,
      "outputs": []
    },
    {
      "cell_type": "code",
      "metadata": {
        "id": "ZxJOFipVCZDl",
        "colab": {
          "base_uri": "https://localhost:8080/"
        },
        "outputId": "f54259f9-f76b-4090-c4ab-8faee3137ab4"
      },
      "source": [
        "accuracy_score(y_train, y_pred)"
      ],
      "execution_count": 8,
      "outputs": [
        {
          "output_type": "execute_result",
          "data": {
            "text/plain": [
              "0.8346994535519126"
            ]
          },
          "metadata": {
            "tags": []
          },
          "execution_count": 8
        }
      ]
    },
    {
      "cell_type": "markdown",
      "metadata": {
        "id": "D4l8QBasmZMn"
      },
      "source": [
        "#Testing on test set"
      ]
    },
    {
      "cell_type": "code",
      "metadata": {
        "id": "j2gAw_uKGIgw"
      },
      "source": [
        "y_pred = classifier.predict(x_test)"
      ],
      "execution_count": 9,
      "outputs": []
    },
    {
      "cell_type": "code",
      "metadata": {
        "colab": {
          "base_uri": "https://localhost:8080/"
        },
        "id": "p7vkfmFQfwEl",
        "outputId": "0ffeeabb-9c09-47f2-c3b2-b5e40c3bc9f2"
      },
      "source": [
        "accuracy_score(y_test, y_pred)"
      ],
      "execution_count": 10,
      "outputs": [
        {
          "output_type": "execute_result",
          "data": {
            "text/plain": [
              "0.7281972265023112"
            ]
          },
          "metadata": {
            "tags": []
          },
          "execution_count": 10
        }
      ]
    },
    {
      "cell_type": "markdown",
      "metadata": {
        "id": "ilM2VxW2oC-o"
      },
      "source": [
        "#Plot the confusion matrix "
      ]
    },
    {
      "cell_type": "code",
      "metadata": {
        "id": "iEEv9w1DoAAi"
      },
      "source": [
        "def plot_confusion_matrix(cm, names, title='Confusion matrix', cmap=plt.cm.Blues):\r\n",
        "    plt.imshow(cm, interpolation='nearest', cmap=cmap)\r\n",
        "    plt.title(title)\r\n",
        "    plt.colorbar(fraction=0.05)\r\n",
        "    tick_marks = np.arange(len(names))\r\n",
        "    plt.xticks(tick_marks, names, rotation=45)\r\n",
        "    plt.yticks(tick_marks, names)\r\n",
        "    plt.tight_layout()\r\n",
        "    plt.ylabel('True label')\r\n",
        "    plt.xlabel('Predicted label')"
      ],
      "execution_count": 11,
      "outputs": []
    },
    {
      "cell_type": "code",
      "metadata": {
        "colab": {
          "base_uri": "https://localhost:8080/",
          "height": 405
        },
        "id": "vfKbRoePn7jy",
        "outputId": "aed70ca0-6bbf-4d03-e581-c123e242fec7"
      },
      "source": [
        "# plot the confusion matrix\r\n",
        "cm = confusion_matrix(y_test, y_pred)\r\n",
        "np.set_printoptions(precision=2)\r\n",
        "print(cm)\r\n",
        "#normalised confusion matrix\r\n",
        "cm_normalized = cm.astype('float') / cm.sum(axis=1)[:, np.newaxis]\r\n",
        "print('Normalized confusion matrix')\r\n",
        "print(cm_normalized)\r\n",
        "plt.figure()\r\n",
        "# check that the cm is labelled correctly\r\n",
        "plot_confusion_matrix(cm_normalized, ['Positive', 'Negative'], title='Normalized confusion matrix')\r\n",
        "plt.show()"
      ],
      "execution_count": 12,
      "outputs": [
        {
          "output_type": "stream",
          "text": [
            "[[1118  447]\n",
            " [ 435 1245]]\n",
            "Normalized confusion matrix\n",
            "[[0.71 0.29]\n",
            " [0.26 0.74]]\n"
          ],
          "name": "stdout"
        },
        {
          "output_type": "display_data",
          "data": {
            "image/png": "[encoded data removed]",
            "text/plain": [
              "<Figure size 432x288 with 2 Axes>"
            ]
          },
          "metadata": {
            "tags": [],
            "needs_background": "light"
          }
        }
      ]
    },
    {
      "cell_type": "markdown",
      "metadata": {
        "id": "EW8aXN4XmU7_"
      },
      "source": [
        "#Connection and test with Twitter API"
      ]
    },
    {
      "cell_type": "code",
      "metadata": {
        "id": "0J_nmISF2LQk"
      },
      "source": [
        "search_words = \"#trump\"\r\n",
        "date_since = \"2020-11-01\"\r\n",
        "number_of_tweets = 10\r\n",
        "tweets = twitterAPI.main(search_words, date_since, number_of_tweets)"
      ],
      "execution_count": 13,
      "outputs": []
    },
    {
      "cell_type": "code",
      "metadata": {
        "id": "qMxjV9P82STF"
      },
      "source": [
        "tweetsA = [tweet.text for tweet in tweets]\r\n",
        "tweetsA.append(\"I love love love love\")\r\n",
        "tweetsA.append(\"I hate you hate hate\")"
      ],
      "execution_count": 14,
      "outputs": []
    },
    {
      "cell_type": "code",
      "metadata": {
        "id": "WqypDvoFlx66"
      },
      "source": [
        "y_test = classifier.predict(tweetsA)"
      ],
      "execution_count": 15,
      "outputs": []
    },
    {
      "cell_type": "code",
      "metadata": {
        "id": "skxRNw8dy64g",
        "colab": {
          "base_uri": "https://localhost:8080/"
        },
        "outputId": "48b44b58-84ee-43c3-ede4-a608f2a990ff"
      },
      "source": [
        "for i in y_test:\r\n",
        "  if i == 0:\r\n",
        "    print(\"Negative\")\r\n",
        "  else:\r\n",
        "    print(\"Positive\")"
      ],
      "execution_count": 16,
      "outputs": [
        {
          "output_type": "stream",
          "text": [
            "Negative\n",
            "Negative\n",
            "Positive\n",
            "Positive\n",
            "Negative\n",
            "Positive\n",
            "Positive\n",
            "Positive\n",
            "Positive\n",
            "Positive\n",
            "Positive\n",
            "Negative\n"
          ],
          "name": "stdout"
        }
      ]
    }
  ]
}