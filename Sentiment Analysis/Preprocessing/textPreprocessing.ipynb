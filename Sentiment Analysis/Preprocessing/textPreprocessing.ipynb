{
  "nbformat": 4,
  "nbformat_minor": 0,
  "metadata": {
    "colab": {
      "name": "CWIntroductionToAI.ipynb",
      "provenance": [],
      "collapsed_sections": [],
      "toc_visible": true,
      "include_colab_link": true
    },
    "kernelspec": {
      "name": "python3",
      "display_name": "Python 3"
    }
  },
  "cells": [
    {
      "cell_type": "markdown",
      "metadata": {
        "id": "view-in-github",
        "colab_type": "text"
      },
      "source": [
        "<a href=\"https://colab.research.google.com/github/IntroductionToAICW/CW/blob/main/preprocessing/textPreprocessing.ipynb\" target=\"_parent\"><img src=\"https://colab.research.google.com/assets/colab-badge.svg\" alt=\"Open In Colab\"/></a>"
      ]
    },
    {
      "cell_type": "markdown",
      "metadata": {
        "id": "aWdXThqEW0k_"
      },
      "source": [
        "# Import Libraries"
      ]
    },
    {
      "cell_type": "code",
      "metadata": {
        "id": "LSOfINGeuxPr",
        "colab": {
          "base_uri": "https://localhost:8080/"
        },
        "outputId": "db75310c-c04b-472c-9cb4-6b23b9166a46"
      },
      "source": [
        "!pip install contractions\n",
        "!pip install langdetect"
      ],
      "execution_count": 14,
      "outputs": [
        {
          "output_type": "stream",
          "text": [
            "Requirement already satisfied: contractions in /usr/local/lib/python3.6/dist-packages (0.0.43)\n",
            "Requirement already satisfied: textsearch in /usr/local/lib/python3.6/dist-packages (from contractions) (0.0.17)\n",
            "Requirement already satisfied: pyahocorasick in /usr/local/lib/python3.6/dist-packages (from textsearch->contractions) (1.4.0)\n",
            "Requirement already satisfied: Unidecode in /usr/local/lib/python3.6/dist-packages (from textsearch->contractions) (1.1.2)\n",
            "Requirement already satisfied: langdetect in /usr/local/lib/python3.6/dist-packages (1.0.8)\n",
            "Requirement already satisfied: six in /usr/local/lib/python3.6/dist-packages (from langdetect) (1.15.0)\n"
          ],
          "name": "stdout"
        }
      ]
    },
    {
      "cell_type": "code",
      "metadata": {
        "id": "fGsTeJzNDYdf",
        "colab": {
          "base_uri": "https://localhost:8080/"
        },
        "outputId": "841eb722-3589-454a-ec63-b3c3be25af03"
      },
      "source": [
        "import pandas as pd\n",
        "import unicodedata\n",
        "from bs4 import BeautifulSoup\n",
        "import contractions\n",
        "import re\n",
        "import string\n",
        "import nltk\n",
        "import gensim\n",
        "\n",
        "from nltk.corpus import twitter_samples \n",
        "nltk.download('twitter_samples')\n",
        "\n",
        "from nltk.tokenize import word_tokenize\n",
        "nltk.download('punkt')\n",
        "\n",
        "from nltk.corpus import stopwords\n",
        "nltk.download('stopwords')\n",
        "\n",
        "from nltk.stem import PorterStemmer\n",
        "from nltk.stem import LancasterStemmer\n",
        "from nltk.stem import WordNetLemmatizer\n",
        "nltk.download('wordnet')\n",
        "nltk.download('averaged_perceptron_tagger')\n",
        "\n",
        "from nltk.corpus import wordnet\n",
        "\n",
        "import langdetect \n",
        "import time"
      ],
      "execution_count": 15,
      "outputs": [
        {
          "output_type": "stream",
          "text": [
            "[nltk_data] Downloading package punkt to /root/nltk_data...\n",
            "[nltk_data]   Package punkt is already up-to-date!\n",
            "[nltk_data] Downloading package stopwords to /root/nltk_data...\n",
            "[nltk_data]   Package stopwords is already up-to-date!\n",
            "[nltk_data] Downloading package wordnet to /root/nltk_data...\n",
            "[nltk_data]   Package wordnet is already up-to-date!\n",
            "[nltk_data] Downloading package averaged_perceptron_tagger to\n",
            "[nltk_data]     /root/nltk_data...\n",
            "[nltk_data]   Package averaged_perceptron_tagger is already up-to-\n",
            "[nltk_data]       date!\n"
          ],
          "name": "stdout"
        }
      ]
    },
    {
      "cell_type": "markdown",
      "metadata": {
        "id": "XztBsKMwWvYl"
      },
      "source": [
        "# Load datatasets"
      ]
    },
    {
      "cell_type": "markdown",
      "metadata": {
        "id": "EzZi6A8h2U4n"
      },
      "source": [
        "You don't need to be connected to the drive to run the text preprocessing file, but you need it to store the output and to run the algorithms."
      ]
    },
    {
      "cell_type": "code",
      "metadata": {
        "id": "A9XsiP-EuEHh"
      },
      "source": [
        "'''\n",
        "for the purpose of the cw and to be able to run our code efficiently and fast we created an email address in order to store our data there\n",
        "email: introtoaicw@gmail.com\n",
        "pass : Intro2020\n",
        "'''\n",
        "from google.colab import drive\n",
        "\n",
        "drive.mount('/content/drive')\n"
      ],
      "execution_count": 16,
      "outputs": []
    },
    {
      "cell_type": "code",
      "metadata": {
        "id": "YLYtgsA13sbq"
      },
      "source": [
        "all_positive_tweets = twitter_samples.strings('positive_tweets.json')\n",
        "all_negative_tweets = twitter_samples.strings('negative_tweets.json')"
      ],
      "execution_count": 18,
      "outputs": []
    },
    {
      "cell_type": "code",
      "metadata": {
        "id": "FC220wX0pNpH"
      },
      "source": [
        "negLabel = []\n",
        "posLabel = []\n",
        "for i in range(0, 5000):\n",
        "  negLabel.append(0)\n",
        "  posLabel.append(1)"
      ],
      "execution_count": 19,
      "outputs": []
    },
    {
      "cell_type": "code",
      "metadata": {
        "id": "Ho0c-nFApn1e"
      },
      "source": [
        "labels = posLabel + negLabel"
      ],
      "execution_count": 20,
      "outputs": []
    },
    {
      "cell_type": "code",
      "metadata": {
        "id": "iNh6Jj1ECux8"
      },
      "source": [
        "tempTweet = all_positive_tweets + all_negative_tweets"
      ],
      "execution_count": 21,
      "outputs": []
    },
    {
      "cell_type": "code",
      "metadata": {
        "id": "l0tVJk63pLVf"
      },
      "source": [
        "data = {'text':tempTweet, 'labels':labels} "
      ],
      "execution_count": 22,
      "outputs": []
    },
    {
      "cell_type": "code",
      "metadata": {
        "id": "bX-ccI1T4igq"
      },
      "source": [
        "df = pd.DataFrame(data) "
      ],
      "execution_count": 23,
      "outputs": []
    },
    {
      "cell_type": "code",
      "metadata": {
        "id": "UbxyD6XSkGrQ",
        "colab": {
          "base_uri": "https://localhost:8080/"
        },
        "outputId": "b779a743-f87a-4bdb-9742-ab0c9af18fb3"
      },
      "source": [
        "df.info()"
      ],
      "execution_count": 24,
      "outputs": [
        {
          "output_type": "stream",
          "text": [
            "<class 'pandas.core.frame.DataFrame'>\n",
            "RangeIndex: 10000 entries, 0 to 9999\n",
            "Data columns (total 2 columns):\n",
            " #   Column  Non-Null Count  Dtype \n",
            "---  ------  --------------  ----- \n",
            " 0   text    10000 non-null  object\n",
            " 1   labels  10000 non-null  int64 \n",
            "dtypes: int64(1), object(1)\n",
            "memory usage: 156.4+ KB\n"
          ],
          "name": "stdout"
        }
      ]
    },
    {
      "cell_type": "code",
      "metadata": {
        "id": "aQUSFSyfqdWQ",
        "colab": {
          "base_uri": "https://localhost:8080/",
          "height": 424
        },
        "outputId": "01fd0015-ae11-48fb-969b-a3a5d29eb477"
      },
      "source": [
        "df"
      ],
      "execution_count": 25,
      "outputs": [
        {
          "output_type": "execute_result",
          "data": {
            "text/html": [
              "<div>\n",
              "<style scoped>\n",
              "    .dataframe tbody tr th:only-of-type {\n",
              "        vertical-align: middle;\n",
              "    }\n",
              "\n",
              "    .dataframe tbody tr th {\n",
              "        vertical-align: top;\n",
              "    }\n",
              "\n",
              "    .dataframe thead th {\n",
              "        text-align: right;\n",
              "    }\n",
              "</style>\n",
              "<table border=\"1\" class=\"dataframe\">\n",
              "  <thead>\n",
              "    <tr style=\"text-align: right;\">\n",
              "      <th></th>\n",
              "      <th>text</th>\n",
              "      <th>labels</th>\n",
              "    </tr>\n",
              "  </thead>\n",
              "  <tbody>\n",
              "    <tr>\n",
              "      <th>0</th>\n",
              "      <td>#FollowFriday @France_Inte @PKuchly57 @Milipol...</td>\n",
              "      <td>1</td>\n",
              "    </tr>\n",
              "    <tr>\n",
              "      <th>1</th>\n",
              "      <td>@Lamb2ja Hey James! How odd :/ Please call our...</td>\n",
              "      <td>1</td>\n",
              "    </tr>\n",
              "    <tr>\n",
              "      <th>2</th>\n",
              "      <td>@DespiteOfficial we had a listen last night :)...</td>\n",
              "      <td>1</td>\n",
              "    </tr>\n",
              "    <tr>\n",
              "      <th>3</th>\n",
              "      <td>@97sides CONGRATS :)</td>\n",
              "      <td>1</td>\n",
              "    </tr>\n",
              "    <tr>\n",
              "      <th>4</th>\n",
              "      <td>yeaaaah yippppy!!!  my accnt verified rqst has...</td>\n",
              "      <td>1</td>\n",
              "    </tr>\n",
              "    <tr>\n",
              "      <th>...</th>\n",
              "      <td>...</td>\n",
              "      <td>...</td>\n",
              "    </tr>\n",
              "    <tr>\n",
              "      <th>9995</th>\n",
              "      <td>I wanna change my avi but uSanele :(</td>\n",
              "      <td>0</td>\n",
              "    </tr>\n",
              "    <tr>\n",
              "      <th>9996</th>\n",
              "      <td>MY PUPPY BROKE HER FOOT :(</td>\n",
              "      <td>0</td>\n",
              "    </tr>\n",
              "    <tr>\n",
              "      <th>9997</th>\n",
              "      <td>where's all the jaebum baby pictures :((</td>\n",
              "      <td>0</td>\n",
              "    </tr>\n",
              "    <tr>\n",
              "      <th>9998</th>\n",
              "      <td>But but Mr Ahmad Maslan cooks too :( https://t...</td>\n",
              "      <td>0</td>\n",
              "    </tr>\n",
              "    <tr>\n",
              "      <th>9999</th>\n",
              "      <td>@eawoman As a Hull supporter I am expecting a ...</td>\n",
              "      <td>0</td>\n",
              "    </tr>\n",
              "  </tbody>\n",
              "</table>\n",
              "<p>10000 rows × 2 columns</p>\n",
              "</div>"
            ],
            "text/plain": [
              "                                                   text  labels\n",
              "0     #FollowFriday @France_Inte @PKuchly57 @Milipol...       1\n",
              "1     @Lamb2ja Hey James! How odd :/ Please call our...       1\n",
              "2     @DespiteOfficial we had a listen last night :)...       1\n",
              "3                                  @97sides CONGRATS :)       1\n",
              "4     yeaaaah yippppy!!!  my accnt verified rqst has...       1\n",
              "...                                                 ...     ...\n",
              "9995               I wanna change my avi but uSanele :(       0\n",
              "9996                         MY PUPPY BROKE HER FOOT :(       0\n",
              "9997           where's all the jaebum baby pictures :((       0\n",
              "9998  But but Mr Ahmad Maslan cooks too :( https://t...       0\n",
              "9999  @eawoman As a Hull supporter I am expecting a ...       0\n",
              "\n",
              "[10000 rows x 2 columns]"
            ]
          },
          "metadata": {
            "tags": []
          },
          "execution_count": 25
        }
      ]
    },
    {
      "cell_type": "markdown",
      "metadata": {
        "id": "IP1_86t_p4OS"
      },
      "source": [
        "# Language distribution"
      ]
    },
    {
      "cell_type": "code",
      "metadata": {
        "id": "yudSTyu7ecjI"
      },
      "source": [
        "df['lang'] = df[\"text\"].apply(lambda x: langdetect.detect(x) if x.strip() != \"\" else \"\")"
      ],
      "execution_count": 26,
      "outputs": []
    },
    {
      "cell_type": "code",
      "metadata": {
        "id": "MkmLPbTVlSCL",
        "colab": {
          "base_uri": "https://localhost:8080/",
          "height": 294
        },
        "outputId": "a40698aa-377d-4c1d-f62f-db5dc4919d49"
      },
      "source": [
        "# we do this to make sure that we don't have any other language in our dataframe\n",
        "import matplotlib.pyplot as plt\n",
        "\n",
        "x = \"lang\"\n",
        "fig, ax = plt.subplots()\n",
        "fig.suptitle(x, fontsize=12)\n",
        "df[x].reset_index().groupby(x).count().sort_values(by= \n",
        "       \"index\").plot(kind=\"barh\", legend=False, \n",
        "        ax=ax).grid(axis='x')\n",
        "plt.show()"
      ],
      "execution_count": 27,
      "outputs": [
        {
          "output_type": "display_data",
          "data": {
            "image/png": "[encoded data removed]",
            "text/plain": [
              "<Figure size 432x288 with 1 Axes>"
            ]
          },
          "metadata": {
            "tags": [],
            "needs_background": "light"
          }
        }
      ]
    },
    {
      "cell_type": "markdown",
      "metadata": {
        "id": "GatCVDqYWdNj"
      },
      "source": [
        "# Steps of text Preprocessing"
      ]
    },
    {
      "cell_type": "markdown",
      "metadata": {
        "id": "__qehjyMUhVU"
      },
      "source": [
        "## HTML tags removal"
      ]
    },
    {
      "cell_type": "code",
      "metadata": {
        "id": "PA9ssqqioceo"
      },
      "source": [
        "df[\"NoHTML_text\"] = df[\"text\"].map(lambda x: BeautifulSoup(x, \"html.parser\").get_text(separator = ' '))"
      ],
      "execution_count": 28,
      "outputs": []
    },
    {
      "cell_type": "markdown",
      "metadata": {
        "id": "Xwj-MbF3UjbB"
      },
      "source": [
        "## Non-ASCII and \\n \\r removal"
      ]
    },
    {
      "cell_type": "code",
      "metadata": {
        "id": "_hCYBHVdqdgi"
      },
      "source": [
        "df[\"ASCII_NoHTML_text\"] = df[\"NoHTML_text\"].str.encode(encoding = \"ascii\", errors=\"replace\").str.decode(encoding = \"utf-8\", errors=\"replace\")\n",
        "df[\"ASCII_NoHTML_text\"] = df[\"ASCII_NoHTML_text\"].map(lambda x: x.replace(\"\\r\", \" \"))\n",
        "df[\"ASCII_NoHTML_text\"] = df[\"ASCII_NoHTML_text\"].map(lambda x: x.replace(\"\\n\", \" \"))"
      ],
      "execution_count": 29,
      "outputs": []
    },
    {
      "cell_type": "markdown",
      "metadata": {
        "id": "zLAS5C_UUmWs"
      },
      "source": [
        "## Contractions expanding (strictly needed before lowercasing, punctuation and stopwords removal)"
      ]
    },
    {
      "cell_type": "code",
      "metadata": {
        "id": "b-EoOciaqoTm"
      },
      "source": [
        "df[\"ASCII_NoHTML_text\"] = df[\"ASCII_NoHTML_text\"].map(lambda x:contractions.fix(x)) "
      ],
      "execution_count": 30,
      "outputs": []
    },
    {
      "cell_type": "markdown",
      "metadata": {
        "id": "Gwnrlq9uEo4H"
      },
      "source": [
        "## Email addresses removal"
      ]
    },
    {
      "cell_type": "code",
      "metadata": {
        "id": "3LlNrwYWEpTy"
      },
      "source": [
        "df[\"ASCII_NoHTML_text\"] = df[\"ASCII_NoHTML_text\"].map(lambda x: re.sub(r'\\S+@\\S+', ' ', x))"
      ],
      "execution_count": 31,
      "outputs": []
    },
    {
      "cell_type": "markdown",
      "metadata": {
        "id": "uCncxA7cD2JH"
      },
      "source": [
        "## Remove all the urls (www/http)"
      ]
    },
    {
      "cell_type": "code",
      "metadata": {
        "id": "anYvKIN9DscD"
      },
      "source": [
        "df[\"ASCII_NoHTML_text\"] = df[\"ASCII_NoHTML_text\"].map(lambda x: re.sub(r'http\\S+', ' ', x))\n",
        "df[\"ASCII_NoHTML_text\"] = df[\"ASCII_NoHTML_text\"].map(lambda x: re.sub(r'www\\S+', ' ', x))"
      ],
      "execution_count": 32,
      "outputs": []
    },
    {
      "cell_type": "markdown",
      "metadata": {
        "id": "Jqj0x6lyUzNF"
      },
      "source": [
        "## Lowercasing"
      ]
    },
    {
      "cell_type": "code",
      "metadata": {
        "id": "_oSm6tWOq5vq"
      },
      "source": [
        "df[\"ASCII_NoHTML_text\"] = df[\"ASCII_NoHTML_text\"].str.lower()"
      ],
      "execution_count": 33,
      "outputs": []
    },
    {
      "cell_type": "markdown",
      "metadata": {
        "id": "JlPab55hgje2"
      },
      "source": [
        "## Punctuation removal"
      ]
    },
    {
      "cell_type": "code",
      "metadata": {
        "id": "4MYu01CxGp-C"
      },
      "source": [
        "list_punctuation= list(string.punctuation)"
      ],
      "execution_count": 34,
      "outputs": []
    },
    {
      "cell_type": "code",
      "metadata": {
        "id": "rM5ksgcIF6aC"
      },
      "source": [
        "def remove_punctuations(text):\n",
        "    text = str(text)\n",
        "    for punctuation in list_punctuation:\n",
        "        text = text.replace(punctuation, ' ')\n",
        "    return text"
      ],
      "execution_count": 35,
      "outputs": []
    },
    {
      "cell_type": "code",
      "metadata": {
        "id": "BDpGVBEwl4cQ"
      },
      "source": [
        "df['ASCII_NoHTML_text'] = df['ASCII_NoHTML_text'].map(remove_punctuations)"
      ],
      "execution_count": 36,
      "outputs": []
    },
    {
      "cell_type": "markdown",
      "metadata": {
        "id": "rrvPIU5Ngje5"
      },
      "source": [
        "## Digits removal"
      ]
    },
    {
      "cell_type": "code",
      "metadata": {
        "id": "-X-9biRU_7Ej"
      },
      "source": [
        "df[\"ASCII_NoHTML_text\"] = df[\"ASCII_NoHTML_text\"].str.replace('\\d+', '')"
      ],
      "execution_count": 37,
      "outputs": []
    },
    {
      "cell_type": "markdown",
      "metadata": {
        "id": "IK-15IVWgje8"
      },
      "source": [
        "## Lemmatisation and Pos\n"
      ]
    },
    {
      "cell_type": "code",
      "metadata": {
        "id": "PTBKrrfiAJ3L"
      },
      "source": [
        "#return Wordnet's POS tag from NLTK's POS tag, for each to-be-lemmatised token \n",
        "#in order to provide it as parameter at Wordnet's lemmatizer() function so that it performs lemmatisation based on the correct POS tag format of the word in the emails\n",
        "#we need the below mapping NLTK to Wordnet POS tag mapping function because lemmatizer() accepts the POS tag/ lemma basis parameter in Wordnet's format\n",
        "def get_wordnet_pos(word):\n",
        "    \"\"\"Map NLTK's POS tag to first character Wordnet's lemmatize() accepts\"\"\"\n",
        "    #pos_tag(): get the POS tag for a given single word/ token/ list of tokens ; it accepts only a list even in case of single word/ token, this is why we insert the word in brackets []\n",
        "    #           returns also a list of two-size tuple of n (n=size of inserted list, n>=1) elements\n",
        "    #           1st slot of the tuple has the inserted token of the ith element of inserted list, and the 2nd slot its POS tag  regardless of the inserted list size \n",
        "    #[0][1][0]: based on the above, with the first [0] we get inside the tuple of the returned/ output list\n",
        "    #           with the [1] we get to the 2nd slot, thus the POS tag of the examined tuple\n",
        "    #           with the final [0] we hold only the first character of the POS tag as brought from NLTK\n",
        "    #.upper():  convert all lowercase characters in a string into uppercase characters; so that we are safe using only uppercase strings in mapping below\n",
        "    tag = nltk.pos_tag([word])[0][1][0].upper()\n",
        "    #mapping NLTK's first letter of POS tags (as brought from pos_tag() above) to the Wordnet POS tag format, which the POS tag format lemmatizer() accepts\n",
        "    tag_dict = {\"J\": wordnet.ADJ,\n",
        "                \"N\": wordnet.NOUN,\n",
        "                \"V\": wordnet.VERB,\n",
        "                \"R\": wordnet.ADV}\n",
        "    #return the tag_dict's 'value' of tag (tag_dict's 'key')\n",
        "    #wordnet.NOUN: optional parameter, a value to return ('n' POS tag in our case) if the specified 'key' (tag in our case) does not exist\n",
        "    return tag_dict.get(tag, wordnet.NOUN)\n",
        "\n",
        "#lemmatisation tries to convert a word to its meaningful base form/ lemma\n",
        "lemmatizer = WordNetLemmatizer()\n",
        "#we use list comprehension again here, however without 'if' conditional as it is not needed\n",
        "#lemmatisation is performed on token so the token is provided as first parameter \n",
        "#and apart from the token itself we also provide as second parameter the (wordnet) POS tag of that token in order to provide for the lemmatizer function to learn the POS tag of the to-be-lemmatised token so the token is lemmatized correctly\n",
        "df[\"Lemma_NoSal_ASCII_NoHTML_text\"] = df[\"ASCII_NoHTML_text\"].map(lambda x: \" \".join([lemmatizer.lemmatize(word, get_wordnet_pos(word)) for word in word_tokenize(x)]))"
      ],
      "execution_count": 38,
      "outputs": []
    },
    {
      "cell_type": "markdown",
      "metadata": {
        "id": "J4cAXGh7gjfB"
      },
      "source": [
        "## Stopwords removal"
      ]
    },
    {
      "cell_type": "code",
      "metadata": {
        "id": "tuxLkkFJAZzC"
      },
      "source": [
        "#a\n",
        "#bring NLTK english stopwords\n",
        "NLTK_english_stopwords = stopwords.words(\"english\")\n",
        "#bring Gensim (english) stopwords (converting them to a list from a frozenset)\n",
        "#we need Gensim stopwords as well as it includes many missing from NLTK unimportant words (either, eg, etc, few, during and many others)\n",
        "Gensim_stopwords = list(gensim.parsing.preprocessing.STOPWORDS)\n",
        "#spacy.load('en_core_web_md')\n",
        "\n",
        "all_english_stopwords = NLTK_english_stopwords\n",
        "#join together NLTK english and Gensim stopwords into a single list\n",
        "all_english_stopwords.extend(Gensim_stopwords)\n",
        "#change the list to a set in order to get the unique values, thus get rid of duplicate words existing in both NLTK and Gensim\n",
        "all_english_stopwords = set(all_english_stopwords)\n",
        "#change the set back to list holding all default NLTK and Gensim unique stopwords\n",
        "all_english_stopwords = list(all_english_stopwords)\n",
        "all_english_stopwords.sort()\n",
        "\n",
        "#b\n",
        "#user manually added english stopwords ('re' not included because it is already included in the below stopwords lists)\n",
        "user_english_stopwords = []\n",
        "\n",
        "\n",
        "#alphabet list in order to exclude single characters\n",
        "english_alphabet = list(string.ascii_lowercase)\n",
        "user_english_stopwords.extend(english_alphabet)\n",
        "#bringing in a single list the [NLTK + Gensim] and [user defined stopwords + english alphabet]\n",
        "all_english_stopwords.extend(user_english_stopwords)\n",
        "#I want to hold negation stopwords as if bigrams are used (which according to an article are considered more powerful than unigrams)\n",
        "#then the meaning of the tweet is conpletely different with their inclusion\n",
        "#eg \"not good\" or \"not bug\" are different from \"good\", \"bug\" thus could also be categorised differently\n",
        "#If unigrams are used then maybe I think I should remove them; will decide on a later phase according to results\n",
        "negation_stopwords = [\"no\", \"not\"]\n",
        "all_english_stopwords = [word for word in all_english_stopwords if word not in negation_stopwords]\n",
        "\n",
        "#change the list to a set in order to get the unique values\n",
        "all_english_stopwords = set(all_english_stopwords)\n",
        "#change the set back to list holding all final stopwords\n",
        "all_english_stopwords = list(all_english_stopwords)\n",
        "all_english_stopwords.sort()\n",
        "\n",
        "df[\"NoSW_Lemma_NoSal_ASCII_NoHTML_text\"] = df[\"Lemma_NoSal_ASCII_NoHTML_text\"].map(lambda x: \" \".join([word for word in word_tokenize(x) if word not in (all_english_stopwords)]))"
      ],
      "execution_count": 39,
      "outputs": []
    },
    {
      "cell_type": "markdown",
      "metadata": {
        "id": "7_z6Q9yrYpCF"
      },
      "source": [
        "## Stemming"
      ]
    },
    {
      "cell_type": "markdown",
      "metadata": {
        "id": "4myJM_T7yTae"
      },
      "source": [
        "decide to not use stemming after analysis"
      ]
    },
    {
      "cell_type": "code",
      "metadata": {
        "id": "jBcE1vvjA_aI"
      },
      "source": [
        "# stemmer = LancasterStemmer()\n",
        "# df['Stem_NoSW_Lemma_NoSal_ASCII_NoHTML_text'] = df['NoSW_Lemma_NoSal_ASCII_NoHTML_text'].map(lambda x: \" \".join([stemmer.stem(word) for word in word_tokenize(x)]))"
      ],
      "execution_count": 40,
      "outputs": []
    },
    {
      "cell_type": "markdown",
      "metadata": {
        "id": "-zuB3DeWgjfI"
      },
      "source": [
        "## Hold only valid preprocessed emails"
      ]
    },
    {
      "cell_type": "code",
      "metadata": {
        "id": "7cyIn61cBNHa"
      },
      "source": [
        "valid_df = df.loc[df[\"NoSW_Lemma_NoSal_ASCII_NoHTML_text\"].map(lambda x: len(x)!=0),].reset_index(drop=True)"
      ],
      "execution_count": 41,
      "outputs": []
    },
    {
      "cell_type": "code",
      "metadata": {
        "id": "VRIYypxFMTAC"
      },
      "source": [
        "valid_df[\"afterProcess\"] = valid_df[\"NoSW_Lemma_NoSal_ASCII_NoHTML_text\"]\n",
        "valid_df['labels'] = df['labels']"
      ],
      "execution_count": 42,
      "outputs": []
    },
    {
      "cell_type": "markdown",
      "metadata": {
        "id": "mVZoF_QGBqRg"
      },
      "source": [
        "## Save file in a pickle"
      ]
    },
    {
      "cell_type": "code",
      "metadata": {
        "id": "TrrmhVp-BdUc",
        "outputId": "f7ec709e-3f9c-49a0-edf1-cf0347fd2850",
        "colab": {
          "base_uri": "https://localhost:8080/",
          "height": 330
        }
      },
      "source": [
        "valid_df.to_pickle(\"/content/drive/My Drive/dataset/valid_df.pkl\")"
      ],
      "execution_count": 43,
      "outputs": [
        {
          "output_type": "error",
          "ename": "FileNotFoundError",
          "evalue": "ignored",
          "traceback": [
            "\u001b[0;31m---------------------------------------------------------------------------\u001b[0m",
            "\u001b[0;31mFileNotFoundError\u001b[0m                         Traceback (most recent call last)",
            "\u001b[0;32m<ipython-input-43-6ee381af9551>\u001b[0m in \u001b[0;36m<module>\u001b[0;34m()\u001b[0m\n\u001b[0;32m----> 1\u001b[0;31m \u001b[0mvalid_df\u001b[0m\u001b[0;34m.\u001b[0m\u001b[0mto_pickle\u001b[0m\u001b[0;34m(\u001b[0m\u001b[0;34m\"/content/drive/My Drive/dataset/testvalid_df.pkl\"\u001b[0m\u001b[0;34m)\u001b[0m\u001b[0;34m\u001b[0m\u001b[0;34m\u001b[0m\u001b[0m\n\u001b[0m",
            "\u001b[0;32m/usr/local/lib/python3.6/dist-packages/pandas/core/generic.py\u001b[0m in \u001b[0;36mto_pickle\u001b[0;34m(self, path, compression, protocol)\u001b[0m\n\u001b[1;32m   2674\u001b[0m         \u001b[0;32mfrom\u001b[0m \u001b[0mpandas\u001b[0m\u001b[0;34m.\u001b[0m\u001b[0mio\u001b[0m\u001b[0;34m.\u001b[0m\u001b[0mpickle\u001b[0m \u001b[0;32mimport\u001b[0m \u001b[0mto_pickle\u001b[0m\u001b[0;34m\u001b[0m\u001b[0;34m\u001b[0m\u001b[0m\n\u001b[1;32m   2675\u001b[0m \u001b[0;34m\u001b[0m\u001b[0m\n\u001b[0;32m-> 2676\u001b[0;31m         \u001b[0mto_pickle\u001b[0m\u001b[0;34m(\u001b[0m\u001b[0mself\u001b[0m\u001b[0;34m,\u001b[0m \u001b[0mpath\u001b[0m\u001b[0;34m,\u001b[0m \u001b[0mcompression\u001b[0m\u001b[0;34m=\u001b[0m\u001b[0mcompression\u001b[0m\u001b[0;34m,\u001b[0m \u001b[0mprotocol\u001b[0m\u001b[0;34m=\u001b[0m\u001b[0mprotocol\u001b[0m\u001b[0;34m)\u001b[0m\u001b[0;34m\u001b[0m\u001b[0;34m\u001b[0m\u001b[0m\n\u001b[0m\u001b[1;32m   2677\u001b[0m \u001b[0;34m\u001b[0m\u001b[0m\n\u001b[1;32m   2678\u001b[0m     def to_clipboard(\n",
            "\u001b[0;32m/usr/local/lib/python3.6/dist-packages/pandas/io/pickle.py\u001b[0m in \u001b[0;36mto_pickle\u001b[0;34m(obj, filepath_or_buffer, compression, protocol)\u001b[0m\n\u001b[1;32m     81\u001b[0m     \u001b[0;32mif\u001b[0m \u001b[0;32mnot\u001b[0m \u001b[0misinstance\u001b[0m\u001b[0;34m(\u001b[0m\u001b[0mfp_or_buf\u001b[0m\u001b[0;34m,\u001b[0m \u001b[0mstr\u001b[0m\u001b[0;34m)\u001b[0m \u001b[0;32mand\u001b[0m \u001b[0mcompression\u001b[0m \u001b[0;34m==\u001b[0m \u001b[0;34m\"infer\"\u001b[0m\u001b[0;34m:\u001b[0m\u001b[0;34m\u001b[0m\u001b[0;34m\u001b[0m\u001b[0m\n\u001b[1;32m     82\u001b[0m         \u001b[0mcompression\u001b[0m \u001b[0;34m=\u001b[0m \u001b[0;32mNone\u001b[0m\u001b[0;34m\u001b[0m\u001b[0;34m\u001b[0m\u001b[0m\n\u001b[0;32m---> 83\u001b[0;31m     \u001b[0mf\u001b[0m\u001b[0;34m,\u001b[0m \u001b[0mfh\u001b[0m \u001b[0;34m=\u001b[0m \u001b[0mget_handle\u001b[0m\u001b[0;34m(\u001b[0m\u001b[0mfp_or_buf\u001b[0m\u001b[0;34m,\u001b[0m \u001b[0;34m\"wb\"\u001b[0m\u001b[0;34m,\u001b[0m \u001b[0mcompression\u001b[0m\u001b[0;34m=\u001b[0m\u001b[0mcompression\u001b[0m\u001b[0;34m,\u001b[0m \u001b[0mis_text\u001b[0m\u001b[0;34m=\u001b[0m\u001b[0;32mFalse\u001b[0m\u001b[0;34m)\u001b[0m\u001b[0;34m\u001b[0m\u001b[0;34m\u001b[0m\u001b[0m\n\u001b[0m\u001b[1;32m     84\u001b[0m     \u001b[0;32mif\u001b[0m \u001b[0mprotocol\u001b[0m \u001b[0;34m<\u001b[0m \u001b[0;36m0\u001b[0m\u001b[0;34m:\u001b[0m\u001b[0;34m\u001b[0m\u001b[0;34m\u001b[0m\u001b[0m\n\u001b[1;32m     85\u001b[0m         \u001b[0mprotocol\u001b[0m \u001b[0;34m=\u001b[0m \u001b[0mpickle\u001b[0m\u001b[0;34m.\u001b[0m\u001b[0mHIGHEST_PROTOCOL\u001b[0m\u001b[0;34m\u001b[0m\u001b[0;34m\u001b[0m\u001b[0m\n",
            "\u001b[0;32m/usr/local/lib/python3.6/dist-packages/pandas/io/common.py\u001b[0m in \u001b[0;36mget_handle\u001b[0;34m(path_or_buf, mode, encoding, compression, memory_map, is_text, errors)\u001b[0m\n\u001b[1;32m    497\u001b[0m         \u001b[0;32melse\u001b[0m\u001b[0;34m:\u001b[0m\u001b[0;34m\u001b[0m\u001b[0;34m\u001b[0m\u001b[0m\n\u001b[1;32m    498\u001b[0m             \u001b[0;31m# Binary mode\u001b[0m\u001b[0;34m\u001b[0m\u001b[0;34m\u001b[0m\u001b[0;34m\u001b[0m\u001b[0m\n\u001b[0;32m--> 499\u001b[0;31m             \u001b[0mf\u001b[0m \u001b[0;34m=\u001b[0m \u001b[0mopen\u001b[0m\u001b[0;34m(\u001b[0m\u001b[0mpath_or_buf\u001b[0m\u001b[0;34m,\u001b[0m \u001b[0mmode\u001b[0m\u001b[0;34m)\u001b[0m\u001b[0;34m\u001b[0m\u001b[0;34m\u001b[0m\u001b[0m\n\u001b[0m\u001b[1;32m    500\u001b[0m         \u001b[0mhandles\u001b[0m\u001b[0;34m.\u001b[0m\u001b[0mappend\u001b[0m\u001b[0;34m(\u001b[0m\u001b[0mf\u001b[0m\u001b[0;34m)\u001b[0m\u001b[0;34m\u001b[0m\u001b[0;34m\u001b[0m\u001b[0m\n\u001b[1;32m    501\u001b[0m \u001b[0;34m\u001b[0m\u001b[0m\n",
            "\u001b[0;31mFileNotFoundError\u001b[0m: [Errno 2] No such file or directory: '/content/drive/My Drive/dataset/testvalid_df.pkl'"
          ]
        }
      ]
    },
    {
      "cell_type": "code",
      "metadata": {
        "id": "vDFwANXxm5GO"
      },
      "source": [
        "valid_df[\"afterProcess\"]"
      ],
      "execution_count": null,
      "outputs": []
    }
  ]
}